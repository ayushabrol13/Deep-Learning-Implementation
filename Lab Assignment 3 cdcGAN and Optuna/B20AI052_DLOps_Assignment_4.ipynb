{
 "cells": [
  {
   "attachments": {},
   "cell_type": "markdown",
   "metadata": {},
   "source": [
    "# DLOps Assignment - 4 \n",
    "\n",
    "    Ayush Abrol B20AI052\n",
    "\n",
    "---"
   ]
  },
  {
   "attachments": {},
   "cell_type": "markdown",
   "metadata": {},
   "source": [
    "### Necessary Imports"
   ]
  },
  {
   "cell_type": "code",
   "execution_count": 1,
   "metadata": {},
   "outputs": [
    {
     "name": "stderr",
     "output_type": "stream",
     "text": [
      "c:\\Users\\Ayush Abrol\\AppData\\Local\\Programs\\Python\\Python37\\lib\\site-packages\\requests\\__init__.py:104: RequestsDependencyWarning: urllib3 (1.26.15) or chardet (5.1.0)/charset_normalizer (2.0.12) doesn't match a supported version!\n",
      "  RequestsDependencyWarning)\n"
     ]
    }
   ],
   "source": [
    "import numpy as np\n",
    "import pandas as pd\n",
    "import matplotlib.pyplot as plt\n",
    "import torch \n",
    "import torch.nn as nn\n",
    "import torch.nn.functional as F\n",
    "import torchvision\n",
    "import torch.optim as optim\n",
    "from torchvision import datasets, transforms, utils, models\n",
    "from torch.utils.data import Dataset, DataLoader, random_split\n",
    "from tqdm import tqdm\n",
    "from PIL import Image\n",
    "from torch.autograd import Variable \n",
    "import timeit\n",
    "import copy\n",
    "\n",
    "%matplotlib inline\n",
    "import warnings\n",
    "warnings.filterwarnings('ignore')"
   ]
  },
  {
   "attachments": {},
   "cell_type": "markdown",
   "metadata": {},
   "source": [
    "## Question 1\n",
    "\n",
    "Train a Conditional Deep Convolutional Generative Adversarial Network (cDCGAN) on Dataset.\n",
    "\n",
    "A. Generate 50 Samples of each class from your trained generator. \n",
    "B. Train a ResNet18 classifier on the given dataset and treat the generated samples as test\n",
    "dataset and report following \n",
    "\n",
    "    - F1 Score for each class\n",
    "    - Confusion matrix"
   ]
  },
  {
   "attachments": {},
   "cell_type": "markdown",
   "metadata": {},
   "source": [
    "### Reading the GAN_data.csv file"
   ]
  },
  {
   "cell_type": "code",
   "execution_count": 2,
   "metadata": {},
   "outputs": [],
   "source": [
    "df = pd.read_csv('./data/GAN_data.csv')"
   ]
  },
  {
   "cell_type": "code",
   "execution_count": 3,
   "metadata": {},
   "outputs": [
    {
     "data": {
      "text/html": [
       "<div>\n",
       "<style scoped>\n",
       "    .dataframe tbody tr th:only-of-type {\n",
       "        vertical-align: middle;\n",
       "    }\n",
       "\n",
       "    .dataframe tbody tr th {\n",
       "        vertical-align: top;\n",
       "    }\n",
       "\n",
       "    .dataframe thead th {\n",
       "        text-align: right;\n",
       "    }\n",
       "</style>\n",
       "<table border=\"1\" class=\"dataframe\">\n",
       "  <thead>\n",
       "    <tr style=\"text-align: right;\">\n",
       "      <th></th>\n",
       "      <th>pixel_0000</th>\n",
       "      <th>pixel_0001</th>\n",
       "      <th>pixel_0002</th>\n",
       "      <th>pixel_0003</th>\n",
       "      <th>pixel_0004</th>\n",
       "      <th>pixel_0005</th>\n",
       "      <th>pixel_0006</th>\n",
       "      <th>pixel_0007</th>\n",
       "      <th>pixel_0008</th>\n",
       "      <th>pixel_0009</th>\n",
       "      <th>...</th>\n",
       "      <th>pixel_1015</th>\n",
       "      <th>pixel_1016</th>\n",
       "      <th>pixel_1017</th>\n",
       "      <th>pixel_1018</th>\n",
       "      <th>pixel_1019</th>\n",
       "      <th>pixel_1020</th>\n",
       "      <th>pixel_1021</th>\n",
       "      <th>pixel_1022</th>\n",
       "      <th>pixel_1023</th>\n",
       "      <th>character</th>\n",
       "    </tr>\n",
       "  </thead>\n",
       "  <tbody>\n",
       "    <tr>\n",
       "      <th>0</th>\n",
       "      <td>0</td>\n",
       "      <td>0</td>\n",
       "      <td>0</td>\n",
       "      <td>0</td>\n",
       "      <td>0</td>\n",
       "      <td>0</td>\n",
       "      <td>0</td>\n",
       "      <td>0</td>\n",
       "      <td>0</td>\n",
       "      <td>0</td>\n",
       "      <td>...</td>\n",
       "      <td>0</td>\n",
       "      <td>0</td>\n",
       "      <td>0</td>\n",
       "      <td>0</td>\n",
       "      <td>0</td>\n",
       "      <td>0</td>\n",
       "      <td>0</td>\n",
       "      <td>0</td>\n",
       "      <td>0</td>\n",
       "      <td>character_01_ka</td>\n",
       "    </tr>\n",
       "    <tr>\n",
       "      <th>1</th>\n",
       "      <td>0</td>\n",
       "      <td>0</td>\n",
       "      <td>0</td>\n",
       "      <td>0</td>\n",
       "      <td>0</td>\n",
       "      <td>0</td>\n",
       "      <td>0</td>\n",
       "      <td>0</td>\n",
       "      <td>0</td>\n",
       "      <td>0</td>\n",
       "      <td>...</td>\n",
       "      <td>0</td>\n",
       "      <td>0</td>\n",
       "      <td>0</td>\n",
       "      <td>0</td>\n",
       "      <td>0</td>\n",
       "      <td>0</td>\n",
       "      <td>0</td>\n",
       "      <td>0</td>\n",
       "      <td>0</td>\n",
       "      <td>character_01_ka</td>\n",
       "    </tr>\n",
       "    <tr>\n",
       "      <th>2</th>\n",
       "      <td>0</td>\n",
       "      <td>0</td>\n",
       "      <td>0</td>\n",
       "      <td>0</td>\n",
       "      <td>0</td>\n",
       "      <td>0</td>\n",
       "      <td>0</td>\n",
       "      <td>0</td>\n",
       "      <td>0</td>\n",
       "      <td>0</td>\n",
       "      <td>...</td>\n",
       "      <td>0</td>\n",
       "      <td>0</td>\n",
       "      <td>0</td>\n",
       "      <td>0</td>\n",
       "      <td>0</td>\n",
       "      <td>0</td>\n",
       "      <td>0</td>\n",
       "      <td>0</td>\n",
       "      <td>0</td>\n",
       "      <td>character_01_ka</td>\n",
       "    </tr>\n",
       "    <tr>\n",
       "      <th>3</th>\n",
       "      <td>0</td>\n",
       "      <td>0</td>\n",
       "      <td>0</td>\n",
       "      <td>0</td>\n",
       "      <td>0</td>\n",
       "      <td>0</td>\n",
       "      <td>0</td>\n",
       "      <td>0</td>\n",
       "      <td>0</td>\n",
       "      <td>0</td>\n",
       "      <td>...</td>\n",
       "      <td>0</td>\n",
       "      <td>0</td>\n",
       "      <td>0</td>\n",
       "      <td>0</td>\n",
       "      <td>0</td>\n",
       "      <td>0</td>\n",
       "      <td>0</td>\n",
       "      <td>0</td>\n",
       "      <td>0</td>\n",
       "      <td>character_01_ka</td>\n",
       "    </tr>\n",
       "    <tr>\n",
       "      <th>4</th>\n",
       "      <td>0</td>\n",
       "      <td>0</td>\n",
       "      <td>0</td>\n",
       "      <td>0</td>\n",
       "      <td>0</td>\n",
       "      <td>0</td>\n",
       "      <td>0</td>\n",
       "      <td>0</td>\n",
       "      <td>0</td>\n",
       "      <td>0</td>\n",
       "      <td>...</td>\n",
       "      <td>0</td>\n",
       "      <td>0</td>\n",
       "      <td>0</td>\n",
       "      <td>0</td>\n",
       "      <td>0</td>\n",
       "      <td>0</td>\n",
       "      <td>0</td>\n",
       "      <td>0</td>\n",
       "      <td>0</td>\n",
       "      <td>character_01_ka</td>\n",
       "    </tr>\n",
       "    <tr>\n",
       "      <th>...</th>\n",
       "      <td>...</td>\n",
       "      <td>...</td>\n",
       "      <td>...</td>\n",
       "      <td>...</td>\n",
       "      <td>...</td>\n",
       "      <td>...</td>\n",
       "      <td>...</td>\n",
       "      <td>...</td>\n",
       "      <td>...</td>\n",
       "      <td>...</td>\n",
       "      <td>...</td>\n",
       "      <td>...</td>\n",
       "      <td>...</td>\n",
       "      <td>...</td>\n",
       "      <td>...</td>\n",
       "      <td>...</td>\n",
       "      <td>...</td>\n",
       "      <td>...</td>\n",
       "      <td>...</td>\n",
       "      <td>...</td>\n",
       "      <td>...</td>\n",
       "    </tr>\n",
       "    <tr>\n",
       "      <th>91995</th>\n",
       "      <td>0</td>\n",
       "      <td>0</td>\n",
       "      <td>0</td>\n",
       "      <td>0</td>\n",
       "      <td>0</td>\n",
       "      <td>0</td>\n",
       "      <td>0</td>\n",
       "      <td>0</td>\n",
       "      <td>0</td>\n",
       "      <td>0</td>\n",
       "      <td>...</td>\n",
       "      <td>0</td>\n",
       "      <td>0</td>\n",
       "      <td>0</td>\n",
       "      <td>0</td>\n",
       "      <td>0</td>\n",
       "      <td>0</td>\n",
       "      <td>0</td>\n",
       "      <td>0</td>\n",
       "      <td>0</td>\n",
       "      <td>digit_9</td>\n",
       "    </tr>\n",
       "    <tr>\n",
       "      <th>91996</th>\n",
       "      <td>0</td>\n",
       "      <td>0</td>\n",
       "      <td>0</td>\n",
       "      <td>0</td>\n",
       "      <td>0</td>\n",
       "      <td>0</td>\n",
       "      <td>0</td>\n",
       "      <td>0</td>\n",
       "      <td>0</td>\n",
       "      <td>0</td>\n",
       "      <td>...</td>\n",
       "      <td>0</td>\n",
       "      <td>0</td>\n",
       "      <td>0</td>\n",
       "      <td>0</td>\n",
       "      <td>0</td>\n",
       "      <td>0</td>\n",
       "      <td>0</td>\n",
       "      <td>0</td>\n",
       "      <td>0</td>\n",
       "      <td>digit_9</td>\n",
       "    </tr>\n",
       "    <tr>\n",
       "      <th>91997</th>\n",
       "      <td>0</td>\n",
       "      <td>0</td>\n",
       "      <td>0</td>\n",
       "      <td>0</td>\n",
       "      <td>0</td>\n",
       "      <td>0</td>\n",
       "      <td>0</td>\n",
       "      <td>0</td>\n",
       "      <td>0</td>\n",
       "      <td>0</td>\n",
       "      <td>...</td>\n",
       "      <td>0</td>\n",
       "      <td>0</td>\n",
       "      <td>0</td>\n",
       "      <td>0</td>\n",
       "      <td>0</td>\n",
       "      <td>0</td>\n",
       "      <td>0</td>\n",
       "      <td>0</td>\n",
       "      <td>0</td>\n",
       "      <td>digit_9</td>\n",
       "    </tr>\n",
       "    <tr>\n",
       "      <th>91998</th>\n",
       "      <td>0</td>\n",
       "      <td>0</td>\n",
       "      <td>0</td>\n",
       "      <td>0</td>\n",
       "      <td>0</td>\n",
       "      <td>0</td>\n",
       "      <td>0</td>\n",
       "      <td>0</td>\n",
       "      <td>0</td>\n",
       "      <td>0</td>\n",
       "      <td>...</td>\n",
       "      <td>0</td>\n",
       "      <td>0</td>\n",
       "      <td>0</td>\n",
       "      <td>0</td>\n",
       "      <td>0</td>\n",
       "      <td>0</td>\n",
       "      <td>0</td>\n",
       "      <td>0</td>\n",
       "      <td>0</td>\n",
       "      <td>digit_9</td>\n",
       "    </tr>\n",
       "    <tr>\n",
       "      <th>91999</th>\n",
       "      <td>0</td>\n",
       "      <td>0</td>\n",
       "      <td>0</td>\n",
       "      <td>0</td>\n",
       "      <td>0</td>\n",
       "      <td>0</td>\n",
       "      <td>0</td>\n",
       "      <td>0</td>\n",
       "      <td>0</td>\n",
       "      <td>0</td>\n",
       "      <td>...</td>\n",
       "      <td>0</td>\n",
       "      <td>0</td>\n",
       "      <td>0</td>\n",
       "      <td>0</td>\n",
       "      <td>0</td>\n",
       "      <td>0</td>\n",
       "      <td>0</td>\n",
       "      <td>0</td>\n",
       "      <td>0</td>\n",
       "      <td>digit_9</td>\n",
       "    </tr>\n",
       "  </tbody>\n",
       "</table>\n",
       "<p>92000 rows × 1025 columns</p>\n",
       "</div>"
      ],
      "text/plain": [
       "       pixel_0000  pixel_0001  pixel_0002  pixel_0003  pixel_0004  pixel_0005  \\\n",
       "0               0           0           0           0           0           0   \n",
       "1               0           0           0           0           0           0   \n",
       "2               0           0           0           0           0           0   \n",
       "3               0           0           0           0           0           0   \n",
       "4               0           0           0           0           0           0   \n",
       "...           ...         ...         ...         ...         ...         ...   \n",
       "91995           0           0           0           0           0           0   \n",
       "91996           0           0           0           0           0           0   \n",
       "91997           0           0           0           0           0           0   \n",
       "91998           0           0           0           0           0           0   \n",
       "91999           0           0           0           0           0           0   \n",
       "\n",
       "       pixel_0006  pixel_0007  pixel_0008  pixel_0009  ...  pixel_1015  \\\n",
       "0               0           0           0           0  ...           0   \n",
       "1               0           0           0           0  ...           0   \n",
       "2               0           0           0           0  ...           0   \n",
       "3               0           0           0           0  ...           0   \n",
       "4               0           0           0           0  ...           0   \n",
       "...           ...         ...         ...         ...  ...         ...   \n",
       "91995           0           0           0           0  ...           0   \n",
       "91996           0           0           0           0  ...           0   \n",
       "91997           0           0           0           0  ...           0   \n",
       "91998           0           0           0           0  ...           0   \n",
       "91999           0           0           0           0  ...           0   \n",
       "\n",
       "       pixel_1016  pixel_1017  pixel_1018  pixel_1019  pixel_1020  pixel_1021  \\\n",
       "0               0           0           0           0           0           0   \n",
       "1               0           0           0           0           0           0   \n",
       "2               0           0           0           0           0           0   \n",
       "3               0           0           0           0           0           0   \n",
       "4               0           0           0           0           0           0   \n",
       "...           ...         ...         ...         ...         ...         ...   \n",
       "91995           0           0           0           0           0           0   \n",
       "91996           0           0           0           0           0           0   \n",
       "91997           0           0           0           0           0           0   \n",
       "91998           0           0           0           0           0           0   \n",
       "91999           0           0           0           0           0           0   \n",
       "\n",
       "       pixel_1022  pixel_1023        character  \n",
       "0               0           0  character_01_ka  \n",
       "1               0           0  character_01_ka  \n",
       "2               0           0  character_01_ka  \n",
       "3               0           0  character_01_ka  \n",
       "4               0           0  character_01_ka  \n",
       "...           ...         ...              ...  \n",
       "91995           0           0          digit_9  \n",
       "91996           0           0          digit_9  \n",
       "91997           0           0          digit_9  \n",
       "91998           0           0          digit_9  \n",
       "91999           0           0          digit_9  \n",
       "\n",
       "[92000 rows x 1025 columns]"
      ]
     },
     "execution_count": 3,
     "metadata": {},
     "output_type": "execute_result"
    }
   ],
   "source": [
    "df"
   ]
  },
  {
   "attachments": {},
   "cell_type": "markdown",
   "metadata": {},
   "source": [
    "### Separating the columns for pixels and labels"
   ]
  },
  {
   "cell_type": "code",
   "execution_count": 4,
   "metadata": {},
   "outputs": [],
   "source": [
    "images = df.drop('character', axis=1).values\n",
    "labels = df['character'].values"
   ]
  },
  {
   "attachments": {},
   "cell_type": "markdown",
   "metadata": {},
   "source": [
    "#### Converting pixel data from strings to floats"
   ]
  },
  {
   "cell_type": "code",
   "execution_count": 5,
   "metadata": {},
   "outputs": [],
   "source": [
    "images = images.astype('float32')"
   ]
  },
  {
   "cell_type": "code",
   "execution_count": 6,
   "metadata": {},
   "outputs": [
    {
     "data": {
      "text/plain": [
       "array([[0., 0., 0., ..., 0., 0., 0.],\n",
       "       [0., 0., 0., ..., 0., 0., 0.],\n",
       "       [0., 0., 0., ..., 0., 0., 0.],\n",
       "       ...,\n",
       "       [0., 0., 0., ..., 0., 0., 0.],\n",
       "       [0., 0., 0., ..., 0., 0., 0.],\n",
       "       [0., 0., 0., ..., 0., 0., 0.]], dtype=float32)"
      ]
     },
     "execution_count": 6,
     "metadata": {},
     "output_type": "execute_result"
    }
   ],
   "source": [
    "images"
   ]
  },
  {
   "cell_type": "code",
   "execution_count": 7,
   "metadata": {},
   "outputs": [
    {
     "name": "stdout",
     "output_type": "stream",
     "text": [
      "Initial shape of the image dataset:  (92000, 1024)\n"
     ]
    }
   ],
   "source": [
    "print('Initial shape of the image dataset: ', images.shape)"
   ]
  },
  {
   "attachments": {},
   "cell_type": "markdown",
   "metadata": {},
   "source": [
    "### Normalizing the images between -1 and 1"
   ]
  },
  {
   "cell_type": "code",
   "execution_count": 8,
   "metadata": {},
   "outputs": [],
   "source": [
    "images = (images/127.5) - 1"
   ]
  },
  {
   "attachments": {},
   "cell_type": "markdown",
   "metadata": {},
   "source": [
    "### Reshaping to 32x32 from 1x1024"
   ]
  },
  {
   "cell_type": "code",
   "execution_count": 9,
   "metadata": {},
   "outputs": [],
   "source": [
    "images = images.reshape(92000, 32, 32)"
   ]
  },
  {
   "cell_type": "code",
   "execution_count": 10,
   "metadata": {},
   "outputs": [
    {
     "name": "stdout",
     "output_type": "stream",
     "text": [
      "Updated shape of the image dataset:  (92000, 32, 32)\n"
     ]
    }
   ],
   "source": [
    "print('Updated shape of the image dataset: ', images.shape)"
   ]
  },
  {
   "attachments": {},
   "cell_type": "markdown",
   "metadata": {},
   "source": [
    "### Labels"
   ]
  },
  {
   "cell_type": "code",
   "execution_count": 11,
   "metadata": {},
   "outputs": [
    {
     "data": {
      "text/plain": [
       "array(['character_01_ka', 'character_01_ka', 'character_01_ka', ...,\n",
       "       'digit_9', 'digit_9', 'digit_9'], dtype=object)"
      ]
     },
     "execution_count": 11,
     "metadata": {},
     "output_type": "execute_result"
    }
   ],
   "source": [
    "labels"
   ]
  },
  {
   "attachments": {},
   "cell_type": "markdown",
   "metadata": {},
   "source": [
    "### Classes"
   ]
  },
  {
   "cell_type": "code",
   "execution_count": 12,
   "metadata": {},
   "outputs": [
    {
     "name": "stdout",
     "output_type": "stream",
     "text": [
      "Unique labels:  ['character_01_ka' 'character_02_kha' 'character_03_ga' 'character_04_gha'\n",
      " 'character_05_kna' 'character_06_cha' 'character_07_chha'\n",
      " 'character_08_ja' 'character_09_jha' 'character_10_yna'\n",
      " 'character_11_taamatar' 'character_12_thaa' 'character_13_daa'\n",
      " 'character_14_dhaa' 'character_15_adna' 'character_16_tabala'\n",
      " 'character_17_tha' 'character_18_da' 'character_19_dha' 'character_20_na'\n",
      " 'character_21_pa' 'character_22_pha' 'character_23_ba' 'character_24_bha'\n",
      " 'character_25_ma' 'character_26_yaw' 'character_27_ra' 'character_28_la'\n",
      " 'character_29_waw' 'character_30_motosaw' 'character_31_petchiryakha'\n",
      " 'character_32_patalosaw' 'character_33_ha' 'character_34_chhya'\n",
      " 'character_35_tra' 'character_36_gya' 'digit_0' 'digit_1' 'digit_2'\n",
      " 'digit_3' 'digit_4' 'digit_5' 'digit_6' 'digit_7' 'digit_8' 'digit_9']\n"
     ]
    }
   ],
   "source": [
    "classes = np.unique(labels)\n",
    "print('Unique labels: ', classes)"
   ]
  },
  {
   "attachments": {},
   "cell_type": "markdown",
   "metadata": {},
   "source": [
    "### Encoding the labels"
   ]
  },
  {
   "cell_type": "code",
   "execution_count": 13,
   "metadata": {},
   "outputs": [
    {
     "name": "stdout",
     "output_type": "stream",
     "text": [
      "[ 0  0  0 ... 45 45 45]\n"
     ]
    }
   ],
   "source": [
    "from sklearn.preprocessing import LabelEncoder\n",
    "encoder = LabelEncoder()\n",
    "encoded_labels = encoder.fit_transform(labels)\n",
    "print(encoded_labels)"
   ]
  },
  {
   "cell_type": "code",
   "execution_count": 14,
   "metadata": {},
   "outputs": [
    {
     "name": "stdout",
     "output_type": "stream",
     "text": [
      "Shape of the encoded labels:  (92000,)\n"
     ]
    }
   ],
   "source": [
    "print('Shape of the encoded labels: ', encoded_labels.shape)"
   ]
  },
  {
   "attachments": {},
   "cell_type": "markdown",
   "metadata": {},
   "source": [
    "### Encoded classes"
   ]
  },
  {
   "cell_type": "code",
   "execution_count": 15,
   "metadata": {},
   "outputs": [
    {
     "name": "stdout",
     "output_type": "stream",
     "text": [
      "Unique encoded labels:  [ 0  1  2  3  4  5  6  7  8  9 10 11 12 13 14 15 16 17 18 19 20 21 22 23\n",
      " 24 25 26 27 28 29 30 31 32 33 34 35 36 37 38 39 40 41 42 43 44 45]\n"
     ]
    }
   ],
   "source": [
    "classes_encoded = np.unique(encoded_labels)\n",
    "print('Unique encoded labels: ', classes_encoded)"
   ]
  },
  {
   "attachments": {},
   "cell_type": "markdown",
   "metadata": {},
   "source": [
    "### Shuffling the dataset"
   ]
  },
  {
   "cell_type": "code",
   "execution_count": 16,
   "metadata": {},
   "outputs": [],
   "source": [
    "randomize = np.arange(len(images))\n",
    "np.random.shuffle(randomize)\n",
    "images_shuffled = images[randomize]\n",
    "labels_shuffled = encoded_labels[randomize]"
   ]
  },
  {
   "attachments": {},
   "cell_type": "markdown",
   "metadata": {},
   "source": [
    "### Visualizing the dataset"
   ]
  },
  {
   "cell_type": "code",
   "execution_count": 17,
   "metadata": {},
   "outputs": [
    {
     "data": {
      "image/png": "[encoded data removed]",
      "text/plain": [
       "<Figure size 1440x720 with 10 Axes>"
      ]
     },
     "metadata": {
      "needs_background": "light"
     },
     "output_type": "display_data"
    }
   ],
   "source": [
    "fig, axes = plt.subplots(2, 5, figsize=(20, 10))\n",
    "for i, ax in enumerate(axes.flat):\n",
    "    ax.imshow(images_shuffled[i], cmap='gray')\n",
    "    ax.set_title(str(labels_shuffled[i])+': '+str(classes[labels_shuffled[i]]))\n",
    "    ax.axis('off')\n",
    "plt.show()"
   ]
  },
  {
   "attachments": {},
   "cell_type": "markdown",
   "metadata": {},
   "source": [
    "### Creating PyTorch Dataset"
   ]
  },
  {
   "cell_type": "code",
   "execution_count": 18,
   "metadata": {},
   "outputs": [],
   "source": [
    "class ImageDataset(Dataset):\n",
    "    def __init__(self, pixels, labels):\n",
    "        self.pixels = pixels\n",
    "        self.labels = labels\n",
    "        \n",
    "    def __len__(self):\n",
    "        return len(self.labels)\n",
    "    \n",
    "    def __getitem__(self, idx):\n",
    "        pixel_data = self.pixels[idx]\n",
    "        label_data = self.labels[idx]\n",
    "        return torch.from_numpy(pixel_data), torch.tensor(label_data)"
   ]
  },
  {
   "attachments": {},
   "cell_type": "markdown",
   "metadata": {},
   "source": [
    "### Creating PyTorch DataLoader"
   ]
  },
  {
   "cell_type": "code",
   "execution_count": 19,
   "metadata": {},
   "outputs": [],
   "source": [
    "image_data = ImageDataset(images_shuffled, labels_shuffled)\n",
    "\n",
    "# Create PyTorch DataLoader\n",
    "batch_size = 128\n",
    "train_loader = DataLoader(image_data, batch_size=batch_size, shuffle=True)"
   ]
  },
  {
   "attachments": {},
   "cell_type": "markdown",
   "metadata": {},
   "source": [
    "### Shape of each batch"
   ]
  },
  {
   "cell_type": "code",
   "execution_count": 43,
   "metadata": {},
   "outputs": [
    {
     "name": "stdout",
     "output_type": "stream",
     "text": [
      "Shape of the images in a single batch:  torch.Size([128, 32, 32])\n",
      "Shape of the labels in a single batch:  torch.Size([128])\n"
     ]
    }
   ],
   "source": [
    "for images, labels in train_loader:\n",
    "    print('Shape of the images in a single batch: ', images.shape)\n",
    "    print('Shape of the labels in a single batch: ', labels.shape)\n",
    "    break"
   ]
  },
  {
   "attachments": {},
   "cell_type": "markdown",
   "metadata": {},
   "source": [
    "### Setting the device to GPU if available"
   ]
  },
  {
   "cell_type": "code",
   "execution_count": 20,
   "metadata": {},
   "outputs": [
    {
     "data": {
      "text/plain": [
       "device(type='cuda')"
      ]
     },
     "execution_count": 20,
     "metadata": {},
     "output_type": "execute_result"
    }
   ],
   "source": [
    "device = torch.device('cuda' if torch.cuda.is_available() else 'cpu')\n",
    "device"
   ]
  },
  {
   "attachments": {},
   "cell_type": "markdown",
   "metadata": {},
   "source": [
    "### Defining the Generator class"
   ]
  },
  {
   "cell_type": "code",
   "execution_count": 21,
   "metadata": {},
   "outputs": [],
   "source": [
    "class Generator(nn.Module):\n",
    "    def __init__(self, latent_dim, n_classes, embedding_dim):\n",
    "        super(Generator, self).__init__()\n",
    "        self.n_classes = n_classes\n",
    "        self.embedding_dim = embedding_dim\n",
    "        self.latent_dim = latent_dim\n",
    "      \n",
    "        self.label_conditioned_generator = nn.Sequential(nn.Embedding(self.n_classes, self.embedding_dim),\n",
    "                    nn.Linear(self.embedding_dim, 256),\n",
    "                    nn.LeakyReLU(0.2, inplace=True),\n",
    "                    nn.Linear(256, 1*8*8),\n",
    "                    nn.LeakyReLU(0.2, inplace=True))\n",
    "         \n",
    "     \n",
    "        self.latent = nn.Sequential(nn.Linear(self.latent_dim, 8*8*256),\n",
    "                                   nn.LeakyReLU(0.2, inplace=True),\n",
    "                                   )\n",
    "            \n",
    " \n",
    "        self.model = nn.Sequential(nn.ConvTranspose2d(257, 128, 4, 2, 1, bias=False),\n",
    "                      nn.BatchNorm2d(128, momentum=0.1,  eps=0.8),\n",
    "                      nn.ReLU(True),\n",
    "                      nn.ConvTranspose2d(128, 1, 4, 2, 1,bias=False),\n",
    "                      nn.Tanh())\n",
    " \n",
    "    def forward(self, inputs):\n",
    "        noise_vector, label = inputs\n",
    "        label_output = self.label_conditioned_generator(label)\n",
    "        label_output = label_output.view(-1, 1, 8, 8)\n",
    "        latent_output = self.latent(noise_vector)\n",
    "        latent_output = latent_output.view(-1, 256, 8, 8)\n",
    "        concat = torch.cat((latent_output, label_output), dim=1)\n",
    "        image = self.model(concat)\n",
    "        return image"
   ]
  },
  {
   "attachments": {},
   "cell_type": "markdown",
   "metadata": {},
   "source": [
    "### Defining the Discriminator class"
   ]
  },
  {
   "cell_type": "code",
   "execution_count": 22,
   "metadata": {},
   "outputs": [],
   "source": [
    "class Discriminator(nn.Module):\n",
    "    def __init__(self, n_classes, embedding_dim):\n",
    "        super(Discriminator, self).__init__()\n",
    "        self.n_classes = n_classes\n",
    "        self.embedding_dim = embedding_dim\n",
    "     \n",
    "        self.label_condition_disc = nn.Sequential(nn.Embedding(self.n_classes, self.embedding_dim),\n",
    "                      nn.Linear(self.embedding_dim, 1*32*32))\n",
    "              \n",
    "        self.model = nn.Sequential(nn.Conv2d(2, 64, 4, 2, 1, bias=False),\n",
    "                      nn.LeakyReLU(0.2, inplace=True),\n",
    "                      nn.Conv2d(64, 64*2, 4, 2, 1, bias=False),\n",
    "                      nn.BatchNorm2d(64*2, momentum=0.1,  eps=0.8),\n",
    "                      nn.LeakyReLU(0.2, inplace=True),\n",
    "                      nn.Conv2d(64*2, 64*4, 4, 2, 1, bias=False),\n",
    "                      nn.BatchNorm2d(64*4, momentum=0.1,  eps=0.8),\n",
    "                      nn.LeakyReLU(0.2, inplace=True),\n",
    "                      nn.Conv2d(64*4, 64*8, 4, 2, 1, bias=False),\n",
    "                      nn.BatchNorm2d(64*8, momentum=0.1,  eps=0.8),\n",
    "                      nn.LeakyReLU(0.2, inplace=True), \n",
    "                      nn.Flatten(),\n",
    "                      nn.Dropout(0.4),\n",
    "                      nn.Linear(2048, 1),\n",
    "                      nn.Sigmoid()\n",
    "                     )\n",
    " \n",
    "    def forward(self, inputs):\n",
    "        img, label = inputs\n",
    "        img = img.view(-1, 1, 32, 32)\n",
    "        label_output = self.label_condition_disc(label)\n",
    "        label_output = label_output.view(-1, 1, 32, 32)\n",
    "        concat = torch.cat((img, label_output), dim=1)\n",
    "        output = self.model(concat)\n",
    "        return output"
   ]
  },
  {
   "attachments": {},
   "cell_type": "markdown",
   "metadata": {},
   "source": [
    "### Instantiating the Generator and Discriminator "
   ]
  },
  {
   "cell_type": "code",
   "execution_count": 23,
   "metadata": {},
   "outputs": [],
   "source": [
    "latent_dim = 100\n",
    "n_classes = 46\n",
    "embedding_dim = 16\n",
    "generator = Generator(latent_dim, n_classes, embedding_dim).to(device)\n",
    "\n",
    "n_classes = 46\n",
    "embedding_dim = 16\n",
    "discriminator = Discriminator(n_classes, embedding_dim).to(device)"
   ]
  },
  {
   "attachments": {},
   "cell_type": "markdown",
   "metadata": {},
   "source": [
    "### Defining optimizer for both the models"
   ]
  },
  {
   "cell_type": "code",
   "execution_count": 24,
   "metadata": {},
   "outputs": [],
   "source": [
    "D_optimizer = torch.optim.Adam(discriminator.parameters(), lr=0.0002, betas=(0.5, 0.999))\n",
    "G_optimizer = torch.optim.Adam(generator.parameters(), lr=0.0002, betas=(0.5, 0.999))"
   ]
  },
  {
   "attachments": {},
   "cell_type": "markdown",
   "metadata": {},
   "source": [
    "### Generator Loss"
   ]
  },
  {
   "cell_type": "code",
   "execution_count": 26,
   "metadata": {},
   "outputs": [],
   "source": [
    "def generator_loss(fake_output, label):\n",
    "    gen_loss = nn.BCELoss()(fake_output, label)\n",
    "    return gen_loss"
   ]
  },
  {
   "attachments": {},
   "cell_type": "markdown",
   "metadata": {},
   "source": [
    "### Discriminator Loss"
   ]
  },
  {
   "cell_type": "code",
   "execution_count": 27,
   "metadata": {},
   "outputs": [],
   "source": [
    "def discriminator_loss(output, label):\n",
    "    disc_loss = nn.BCELoss()(output, label)\n",
    "    return disc_loss"
   ]
  },
  {
   "cell_type": "code",
   "execution_count": 29,
   "metadata": {},
   "outputs": [],
   "source": [
    "num_epochs = 268\n",
    "discriminator_loss_list = []\n",
    "generator_loss_list = []"
   ]
  },
  {
   "attachments": {},
   "cell_type": "markdown",
   "metadata": {},
   "source": [
    "### Training the Generator and the Discriminator"
   ]
  },
  {
   "cell_type": "code",
   "execution_count": null,
   "metadata": {},
   "outputs": [],
   "source": [
    "print(\"Training Started...\")\n",
    "print(\"-\"*50)\n",
    "start_time = timeit.default_timer()\n",
    "total_time = 0\n",
    "\n",
    "for epoch in range(1, num_epochs+1): \n",
    " \n",
    "    D_loss_list, G_loss_list = [], []\n",
    "    \n",
    "    for index, (real_images, labels) in enumerate(train_loader):\n",
    "        D_optimizer.zero_grad()\n",
    "        real_images = real_images.to(device)\n",
    "        labels = labels.to(device)\n",
    "        labels = labels.unsqueeze(1).long()\n",
    " \n",
    "       \n",
    "        real_target = Variable(torch.ones(real_images.size(0), 1).to(device))\n",
    "        fake_target = Variable(torch.zeros(real_images.size(0), 1).to(device))\n",
    "       \n",
    "        D_real_loss = discriminator_loss(discriminator((real_images, labels)), real_target)\n",
    "     \n",
    "        noise_vector = torch.randn(real_images.size(0), latent_dim, device=device)  \n",
    "        noise_vector = noise_vector.to(device)\n",
    "         \n",
    "        \n",
    "        generated_image = generator((noise_vector, labels))\n",
    "        output = discriminator((generated_image.detach(), labels))\n",
    "        D_fake_loss = discriminator_loss(output,  fake_target)\n",
    "       \n",
    "        D_total_loss = (D_real_loss + D_fake_loss) / 2\n",
    "        D_loss_list.append(D_total_loss)\n",
    "       \n",
    "        D_total_loss.backward()\n",
    "        D_optimizer.step()\n",
    " \n",
    "        G_optimizer.zero_grad()\n",
    "        G_loss = generator_loss(discriminator((generated_image, labels)), real_target)\n",
    "        G_loss_list.append(G_loss)\n",
    " \n",
    "        G_loss.backward()\n",
    "        G_optimizer.step()\n",
    "\n",
    "        if index % 100 == 0:\n",
    "            print(f'Epoch [{epoch}/{num_epochs}] Batch {index+1}/{len(train_loader)} \\\n",
    "            Loss D: {D_total_loss:.4f}, loss G: {G_loss:.4f}')\n",
    "\n",
    "    \n",
    "    print(f'Epoch [{epoch}/{num_epochs}] Batch {index+1}/{len(train_loader)} \\\n",
    "            Loss D: {D_total_loss:.4f}, loss G: {G_loss:.4f}')\n",
    "    discriminator_loss_list.append(torch.mean(torch.FloatTensor(D_loss_list)))\n",
    "    generator_loss_list.append(torch.mean(torch.FloatTensor(G_loss_list)))\n",
    "\n",
    "    stop = timeit.default_timer()\n",
    "    total_time += stop - start_time\n",
    "\n",
    "    print(f\"Time Elapsed for Epoch {epoch}: {stop - start_time} seconds\")\n",
    "    print(f\"Total Time Elapsed: {total_time} seconds\")\n",
    "    print(\"-\"*50)\n",
    "\n",
    "    if epoch % 5 == 0:\n",
    "        # Saving the Generator and Discriminator models\n",
    "        torch.save(generator.state_dict(), f'./generator_{epoch}.pth')\n",
    "        torch.save(discriminator.state_dict(), f'./discriminator_{epoch}.pth')\n",
    "\n",
    "        # Saving fake images\n",
    "        noise_vector = torch.randn(1, latent_dim, device=device)\n",
    "        noise_vector = noise_vector.to(device)\n",
    "        labels = torch.randint(0, 46, (1, 1), device=device)\n",
    "        labels = labels.unsqueeze(1).long()\n",
    "        fake_image = generator((noise_vector, labels))\n",
    "        fake_image = fake_image.view(32, 32)\n",
    "        fake_image = fake_image.cpu().detach().numpy()\n",
    "        plt.imsave(f'./fake_image_{epoch}.png', fake_image, cmap='gray')\n",
    "\n",
    "print(\"Training Finished!\")\n",
    "print(\"Total Time Elapsed: {} seconds\".format(total_time))"
   ]
  },
  {
   "attachments": {},
   "cell_type": "markdown",
   "metadata": {},
   "source": [
    "### Loading the saved generator and discriminator model"
   ]
  },
  {
   "cell_type": "code",
   "execution_count": 31,
   "metadata": {},
   "outputs": [
    {
     "data": {
      "text/plain": [
       "<All keys matched successfully>"
      ]
     },
     "execution_count": 31,
     "metadata": {},
     "output_type": "execute_result"
    }
   ],
   "source": [
    "generator.load_state_dict(torch.load('./models/generator_268.pth'))\n",
    "discriminator.load_state_dict(torch.load('./models/discriminator_268.pth'))"
   ]
  },
  {
   "attachments": {},
   "cell_type": "markdown",
   "metadata": {},
   "source": [
    "### Loading the saved generator and discriminator loss files"
   ]
  },
  {
   "cell_type": "code",
   "execution_count": null,
   "metadata": {},
   "outputs": [],
   "source": [
    "discriminator_loss_list = np.load('./loss_files/discriminator_loss.npy')\n",
    "generator_loss_list = np.load('./loss_files/generator_loss.npy')"
   ]
  },
  {
   "attachments": {},
   "cell_type": "markdown",
   "metadata": {},
   "source": [
    "### Generating 50 samples of each class"
   ]
  },
  {
   "cell_type": "code",
   "execution_count": 37,
   "metadata": {},
   "outputs": [],
   "source": [
    "import os\n",
    "latent_dim = 100\n",
    "n_classes = 46\n",
    "embedding_dim = 16\n",
    "\n",
    "generator.eval()\n",
    "discriminator.eval()\n",
    "\n",
    "for i in range(46):\n",
    "    noise_vector = torch.randn(50, latent_dim, device=device)\n",
    "    noise_vector = noise_vector.to(device)\n",
    "    labels = torch.ones(50, 1, device=device) * i\n",
    "    labels = labels.unsqueeze(1).long()\n",
    "    generated_image = generator((noise_vector, labels))\n",
    "    generated_image = generated_image.view(50, 32, 32)\n",
    "    generated_image = generated_image.cpu().detach().numpy()\n",
    "    for j in range(50):\n",
    "        if not os.path.exists(f'./trained_GAN_generated_images/{i}'):\n",
    "            os.makedirs(f'./trained_GAN_generated_images/{i}')\n",
    "        plt.imsave(f'./trained_GAN_generated_images/{i}/{j}.png', generated_image[j], cmap='gray')"
   ]
  },
  {
   "attachments": {},
   "cell_type": "markdown",
   "metadata": {},
   "source": [
    "### Training a ResNet18 classifier on the given dataset"
   ]
  },
  {
   "cell_type": "code",
   "execution_count": 65,
   "metadata": {},
   "outputs": [],
   "source": [
    "resnet18 = models.resnet18(pretrained=True)\n",
    "resnet18.fc = nn.Linear(512, 46)\n",
    "resnet18 = resnet18.to(device)"
   ]
  },
  {
   "cell_type": "code",
   "execution_count": 66,
   "metadata": {},
   "outputs": [],
   "source": [
    "optimizer_resnet18 = torch.optim.Adam(resnet18.parameters(), lr=3e-4)\n",
    "criterion = nn.CrossEntropyLoss()\n",
    "\n",
    "num_epochs = 10\n",
    "train_loss_list = []\n",
    "train_acc_list = []"
   ]
  },
  {
   "cell_type": "code",
   "execution_count": 67,
   "metadata": {},
   "outputs": [],
   "source": [
    "def train_classifier(model, train_loader, optimizer, criterion, train_loss_list, train_acc_list, num_epochs):\n",
    "    model.train()\n",
    "    for epoch in range(num_epochs):\n",
    "        running_loss = 0.0\n",
    "        running_corrects = 0\n",
    "        for index, (images, labels) in enumerate(tqdm(train_loader)):\n",
    "            images = images.to(device)\n",
    "            labels = labels.to(device)\n",
    "            optimizer.zero_grad()\n",
    "            images = images.reshape(-1, 1, 32, 32)\n",
    "            images = images.repeat(1, 3, 1, 1)\n",
    "            outputs = model(images)\n",
    "            loss = criterion(outputs, labels.long())\n",
    "            _, preds = torch.max(outputs, 1)\n",
    "            loss.backward()\n",
    "            optimizer.step()\n",
    "            running_loss += loss.item() * images.size(0)\n",
    "            running_corrects += torch.sum(preds == labels.data)\n",
    "        epoch_loss = running_loss / len(train_loader.dataset)\n",
    "        epoch_acc = running_corrects.double() / len(train_loader.dataset)\n",
    "        train_loss_list.append(epoch_loss)\n",
    "        train_acc_list.append(epoch_acc)\n",
    "        print(f'Epoch {epoch+1}/{num_epochs} \\\n",
    "        Loss: {epoch_loss:.4f} Acc: {100*epoch_acc:.4f}')\n",
    "        print(\"=\"*50)"
   ]
  },
  {
   "cell_type": "code",
   "execution_count": 68,
   "metadata": {},
   "outputs": [
    {
     "name": "stdout",
     "output_type": "stream",
     "text": [
      "Training ResNet18 Classifier on the original dataset\n"
     ]
    },
    {
     "name": "stderr",
     "output_type": "stream",
     "text": [
      "100%|██████████| 719/719 [00:36<00:00, 19.51it/s]\n"
     ]
    },
    {
     "name": "stdout",
     "output_type": "stream",
     "text": [
      "Epoch 1/10         Loss: 0.2755 Acc: 92.5859\n",
      "==================================================\n"
     ]
    },
    {
     "name": "stderr",
     "output_type": "stream",
     "text": [
      "100%|██████████| 719/719 [00:37<00:00, 19.38it/s]\n"
     ]
    },
    {
     "name": "stdout",
     "output_type": "stream",
     "text": [
      "Epoch 2/10         Loss: 0.0674 Acc: 98.0772\n",
      "==================================================\n"
     ]
    },
    {
     "name": "stderr",
     "output_type": "stream",
     "text": [
      "100%|██████████| 719/719 [00:33<00:00, 21.33it/s]\n"
     ]
    },
    {
     "name": "stdout",
     "output_type": "stream",
     "text": [
      "Epoch 3/10         Loss: 0.0495 Acc: 98.5533\n",
      "==================================================\n"
     ]
    },
    {
     "name": "stderr",
     "output_type": "stream",
     "text": [
      "100%|██████████| 719/719 [00:35<00:00, 20.22it/s]\n"
     ]
    },
    {
     "name": "stdout",
     "output_type": "stream",
     "text": [
      "Epoch 4/10         Loss: 0.0375 Acc: 98.9533\n",
      "==================================================\n"
     ]
    },
    {
     "name": "stderr",
     "output_type": "stream",
     "text": [
      "100%|██████████| 719/719 [00:37<00:00, 19.23it/s]\n"
     ]
    },
    {
     "name": "stdout",
     "output_type": "stream",
     "text": [
      "Epoch 5/10         Loss: 0.0349 Acc: 98.9848\n",
      "==================================================\n"
     ]
    },
    {
     "name": "stderr",
     "output_type": "stream",
     "text": [
      "100%|██████████| 719/719 [00:35<00:00, 20.05it/s]\n"
     ]
    },
    {
     "name": "stdout",
     "output_type": "stream",
     "text": [
      "Epoch 6/10         Loss: 0.0312 Acc: 99.1272\n",
      "==================================================\n"
     ]
    },
    {
     "name": "stderr",
     "output_type": "stream",
     "text": [
      "100%|██████████| 719/719 [00:34<00:00, 20.63it/s]\n"
     ]
    },
    {
     "name": "stdout",
     "output_type": "stream",
     "text": [
      "Epoch 7/10         Loss: 0.0249 Acc: 99.2989\n",
      "==================================================\n"
     ]
    },
    {
     "name": "stderr",
     "output_type": "stream",
     "text": [
      "100%|██████████| 719/719 [00:34<00:00, 21.01it/s]\n"
     ]
    },
    {
     "name": "stdout",
     "output_type": "stream",
     "text": [
      "Epoch 8/10         Loss: 0.0248 Acc: 99.2848\n",
      "==================================================\n"
     ]
    },
    {
     "name": "stderr",
     "output_type": "stream",
     "text": [
      "100%|██████████| 719/719 [00:36<00:00, 19.48it/s]\n"
     ]
    },
    {
     "name": "stdout",
     "output_type": "stream",
     "text": [
      "Epoch 9/10         Loss: 0.0238 Acc: 99.3239\n",
      "==================================================\n"
     ]
    },
    {
     "name": "stderr",
     "output_type": "stream",
     "text": [
      "100%|██████████| 719/719 [00:36<00:00, 19.90it/s]\n"
     ]
    },
    {
     "name": "stdout",
     "output_type": "stream",
     "text": [
      "Epoch 10/10         Loss: 0.0179 Acc: 99.4815\n",
      "==================================================\n",
      "Training Finished!\n"
     ]
    }
   ],
   "source": [
    "print(\"Training ResNet18 Classifier on the original dataset\")\n",
    "train_classifier(resnet18, train_loader, optimizer_resnet18, criterion, train_loss_list, train_acc_list, num_epochs)\n",
    "print(\"Training Finished!\")"
   ]
  },
  {
   "attachments": {},
   "cell_type": "markdown",
   "metadata": {},
   "source": [
    "### Saving the trained ResNet18 model"
   ]
  },
  {
   "cell_type": "code",
   "execution_count": 72,
   "metadata": {},
   "outputs": [],
   "source": [
    "torch.save(resnet18.state_dict(), './models/resnet18.pth')"
   ]
  },
  {
   "attachments": {},
   "cell_type": "markdown",
   "metadata": {},
   "source": [
    "### Loading the saved ResNet18 model"
   ]
  },
  {
   "cell_type": "code",
   "execution_count": null,
   "metadata": {},
   "outputs": [],
   "source": [
    "resnet18.load_state_dict(torch.load('./models/resnet18.pth'))"
   ]
  },
  {
   "attachments": {},
   "cell_type": "markdown",
   "metadata": {},
   "source": [
    "### Using generated samples as test dataset"
   ]
  },
  {
   "cell_type": "code",
   "execution_count": 73,
   "metadata": {},
   "outputs": [],
   "source": [
    "transform = transforms.Compose([\n",
    "    transforms.ToTensor(),\n",
    "    transforms.Normalize((0.5,), (0.5,))\n",
    "])\n",
    "\n",
    "test_dataset = torchvision.datasets.ImageFolder(root='./trained_GAN_generated_images', transform=transform)\n",
    "test_loader = torch.utils.data.DataLoader(test_dataset, batch_size=32, shuffle=True)"
   ]
  },
  {
   "attachments": {},
   "cell_type": "markdown",
   "metadata": {},
   "source": [
    "### Shape of a batch of generated samples which are being used as test dataset"
   ]
  },
  {
   "cell_type": "code",
   "execution_count": 74,
   "metadata": {},
   "outputs": [
    {
     "name": "stdout",
     "output_type": "stream",
     "text": [
      "torch.Size([32, 3, 32, 32])\n",
      "torch.Size([32])\n"
     ]
    }
   ],
   "source": [
    "for img, label in test_loader:\n",
    "    print(img.shape)\n",
    "    print(label.shape)\n",
    "    break"
   ]
  },
  {
   "attachments": {},
   "cell_type": "markdown",
   "metadata": {},
   "source": [
    "### Testing the Generator model on the generated samples"
   ]
  },
  {
   "cell_type": "code",
   "execution_count": 85,
   "metadata": {},
   "outputs": [],
   "source": [
    "def test_classifier(model, test_loader):\n",
    "    model.eval()\n",
    "    y_pred = []\n",
    "    y_true = []\n",
    "    with torch.no_grad():\n",
    "        for index, (images, labels) in enumerate(tqdm(test_loader)):\n",
    "            images = images.to(device)\n",
    "            labels = labels.to(device)\n",
    "            outputs = model(images)\n",
    "            _, preds = torch.max(outputs, 1)\n",
    "            y_pred.extend(preds.cpu().numpy())\n",
    "            y_true.extend(labels.cpu().numpy())\n",
    "    return y_pred, y_true"
   ]
  },
  {
   "attachments": {},
   "cell_type": "markdown",
   "metadata": {},
   "source": [
    "### Obtaining the required metrics"
   ]
  },
  {
   "cell_type": "code",
   "execution_count": 89,
   "metadata": {},
   "outputs": [
    {
     "name": "stderr",
     "output_type": "stream",
     "text": [
      "100%|██████████| 72/72 [00:04<00:00, 17.20it/s]"
     ]
    },
    {
     "name": "stdout",
     "output_type": "stream",
     "text": [
      "Accuracy: 72.34782608695653\n",
      "F1 Score: 0.6624172249160296\n"
     ]
    },
    {
     "name": "stderr",
     "output_type": "stream",
     "text": [
      "\n"
     ]
    }
   ],
   "source": [
    "from sklearn.metrics import accuracy_score, f1_score, confusion_matrix\n",
    "y_pred, y_true = test_classifier(resnet18, test_loader)\n",
    "print(f\"Accuracy: {accuracy_score(y_true, y_pred)}\")\n",
    "print(f\"F1 Score: {f1_score(y_true, y_pred, average='macro')}\")"
   ]
  },
  {
   "attachments": {},
   "cell_type": "markdown",
   "metadata": {},
   "source": [
    "## Question 2\n",
    "\n",
    "Train a CNN based classification model and perform Optimized Hyperparameter Tuning using\n",
    "Optuna Library on the below-mentioned dataset. Perform 100 trials.\n",
    "Hyperparameters should be\n",
    "\n",
    "    - No of Convolution Layers 3 to 6\n",
    "    - Number of Epochs 10 to 50\n",
    "    - Learning rate 0.0001 to 0.1\n",
    "    \n",
    "Report the observations and the best trial. Report how many trials were pruned\n",
    "For Even Roll Number (B20AI052) MNIST Dataset"
   ]
  },
  {
   "attachments": {},
   "cell_type": "markdown",
   "metadata": {},
   "source": [
    "### Importing optuna"
   ]
  },
  {
   "cell_type": "code",
   "execution_count": 2,
   "metadata": {},
   "outputs": [],
   "source": [
    "import os\n",
    "import optuna\n",
    "from optuna.trial import TrialState"
   ]
  },
  {
   "attachments": {},
   "cell_type": "markdown",
   "metadata": {},
   "source": [
    "### Setting up the configuration"
   ]
  },
  {
   "cell_type": "code",
   "execution_count": 4,
   "metadata": {},
   "outputs": [
    {
     "name": "stdout",
     "output_type": "stream",
     "text": [
      "c:\\Users\\Ayush Abrol\\Desktop\\Deep Learning CSL4020\\DLOps Assignments\\Assignment -4 GANs and Optuna\n"
     ]
    }
   ],
   "source": [
    "batch_size_train = 64\n",
    "batch_size_test = 50\n",
    "number_of_trials = 100\n",
    "limit_obs = True\n",
    "num_classes = 10\n",
    "dir = os.getcwd()\n",
    "print(dir)"
   ]
  },
  {
   "cell_type": "code",
   "execution_count": 5,
   "metadata": {},
   "outputs": [],
   "source": [
    "limit_obs = True\n",
    "if limit_obs:\n",
    "    number_of_train_images = 500*batch_size_train\n",
    "    number_of_test_images = 100*batch_size_test\n",
    "else:\n",
    "    number_of_train_images = 60000\n",
    "    number_of_test_images = 10000"
   ]
  },
  {
   "attachments": {},
   "cell_type": "markdown",
   "metadata": {},
   "source": [
    "### Loading the MNIST dataset (B20AI052 - Even Roll Number)"
   ]
  },
  {
   "cell_type": "code",
   "execution_count": 6,
   "metadata": {},
   "outputs": [],
   "source": [
    "def get_data_mnist():\n",
    "    train_loader = torch.utils.data.DataLoader(\n",
    "        torchvision.datasets.MNIST('./data', train=True, download=True,\n",
    "                                   transform=torchvision.transforms.Compose([\n",
    "                                       torchvision.transforms.ToTensor(),\n",
    "                                       torchvision.transforms.Normalize(\n",
    "                                           (0.1307,), (0.3081,)),\n",
    "                                        torchvision.transforms.Lambda(lambda x: x.repeat(3, 1, 1))\n",
    "                                   ])), batch_size=batch_size_train, shuffle=True)\n",
    "\n",
    "    test_loader = torch.utils.data.DataLoader(\n",
    "        torchvision.datasets.MNIST('./data', train=False, download=True,\n",
    "                                   transform=torchvision.transforms.Compose([\n",
    "                                       torchvision.transforms.ToTensor(),\n",
    "                                       torchvision.transforms.Normalize(\n",
    "                                           (0.1307,), (0.3081,)),\n",
    "                                        torchvision.transforms.Lambda(lambda x: x.repeat(3, 1, 1))\n",
    "                                   ])), batch_size=batch_size_test, shuffle=False)\n",
    "\n",
    "    return train_loader, test_loader"
   ]
  },
  {
   "attachments": {},
   "cell_type": "markdown",
   "metadata": {},
   "source": [
    "### Defining the CNN architecture with number of convolution layers and number of fc_layers as hyperparameters"
   ]
  },
  {
   "cell_type": "code",
   "execution_count": 7,
   "metadata": {},
   "outputs": [],
   "source": [
    "class CNN(nn.Module):\n",
    "    def __init__(self, trial, num_conv_layers, num_fc_layers):\n",
    "        super(CNN, self).__init__()\n",
    "        self.num_conv_layers = num_conv_layers\n",
    "        self.num_fc_layers = num_fc_layers\n",
    "        \n",
    "        self.conv_layers = nn.ModuleList()\n",
    "        in_channels = 3 \n",
    "        for i in range(num_conv_layers):\n",
    "            out_channels = 64 \n",
    "            kernel_size = 3 \n",
    "            stride = 1 \n",
    "            padding = 1 \n",
    "            conv_layer = nn.Conv2d(in_channels, out_channels, kernel_size, stride, padding)\n",
    "            in_channels = out_channels\n",
    "            self.conv_layers.append(conv_layer)\n",
    "        \n",
    "        self.fc_layers = nn.ModuleList()\n",
    "        in_features = 64 * 28 * 28 \n",
    "        for i in range(num_fc_layers):\n",
    "            out_features = 512 \n",
    "            fc_layer = nn.Linear(in_features, out_features)\n",
    "            in_features = out_features\n",
    "            self.fc_layers.append(fc_layer)\n",
    "        self.relu = nn.ReLU()\n",
    "    \n",
    "    def forward(self, x):\n",
    "        for conv_layer in self.conv_layers:\n",
    "            x = conv_layer(x)\n",
    "            x = self.relu(x)\n",
    "        x = x.view(x.size(0), -1)\n",
    "        for fc_layer in self.fc_layers:\n",
    "            x = fc_layer(x)\n",
    "            x = self.relu(x)\n",
    "        return x"
   ]
  },
  {
   "attachments": {},
   "cell_type": "markdown",
   "metadata": {},
   "source": [
    "### Defining the get_cnn function"
   ]
  },
  {
   "cell_type": "code",
   "execution_count": 8,
   "metadata": {},
   "outputs": [],
   "source": [
    "def get_cnn(trial):\n",
    "    num_conv_layers = trial.suggest_int(\"num_conv_layers\", 3, 6)\n",
    "    num_fc_layers = trial.suggest_int(\"num_fc_layers\", 1, 3)\n",
    "    return CNN(trial, num_conv_layers, num_fc_layers)"
   ]
  },
  {
   "attachments": {},
   "cell_type": "markdown",
   "metadata": {},
   "source": [
    "### Defining the objective function to be optimized using optuna"
   ]
  },
  {
   "cell_type": "code",
   "execution_count": 9,
   "metadata": {},
   "outputs": [],
   "source": [
    "def objective(trial):\n",
    "    model = get_cnn(trial).to(device)\n",
    "    lr = trial.suggest_loguniform(\"lr\", 1e-4, 1e-1)\n",
    "    optimizer = optim.Adam(model.parameters(), lr=lr)\n",
    "    train_loader, test_loader = get_data_mnist()\n",
    "    epochs = trial.suggest_int(\"epochs\", 10, 50)\n",
    "    for epoch in range(epochs):\n",
    "        model.train()\n",
    "        for batch_idx, (data, target) in enumerate(train_loader):\n",
    "            if batch_idx * batch_size_train > number_of_train_images:\n",
    "                break\n",
    "            data, target = data.to(device), target.to(device)\n",
    "            optimizer.zero_grad()\n",
    "            output = model(data)\n",
    "            loss = F.cross_entropy(output, target)\n",
    "            loss.backward()\n",
    "            optimizer.step()\n",
    "        print\n",
    "        \n",
    "        model.eval()\n",
    "        correct = 0\n",
    "        with torch.no_grad():\n",
    "            for batch_idx, (data, target) in enumerate(test_loader):\n",
    "                if batch_idx * batch_size_test > number_of_test_images:\n",
    "                    break\n",
    "                data, target = data.to(device), target.to(device)\n",
    "                output = model(data)\n",
    "                pred = output.argmax(dim=1, keepdim=True)\n",
    "                correct += pred.eq(target.view_as(pred)).sum().item()\n",
    "        accuracy = correct / number_of_test_images\n",
    "        trial.report(accuracy, epoch)\n",
    "        if trial.should_prune():\n",
    "            raise optuna.exceptions.TrialPruned()\n",
    "    return accuracy"
   ]
  },
  {
   "attachments": {},
   "cell_type": "markdown",
   "metadata": {},
   "source": [
    "### Defining the study and optimizing the objective function (accuracy)"
   ]
  },
  {
   "cell_type": "code",
   "execution_count": 11,
   "metadata": {},
   "outputs": [
    {
     "name": "stderr",
     "output_type": "stream",
     "text": [
      "\u001b[32m[I 2023-04-27 13:28:41,806]\u001b[0m A new study created in memory with name: no-name-979a8646-bfac-4b05-975c-9d105e1ec094\u001b[0m\n",
      "\u001b[32m[I 2023-04-27 13:41:48,708]\u001b[0m Trial 0 finished with value: 0.7788 and parameters: {'num_conv_layers': 6, 'num_fc_layers': 2, 'lr': 0.00041191393701745557, 'epochs': 35}. Best is trial 0 with value: 0.7788.\u001b[0m\n",
      "\u001b[32m[I 2023-04-27 13:57:25,351]\u001b[0m Trial 1 finished with value: 0.9966 and parameters: {'num_conv_layers': 5, 'num_fc_layers': 2, 'lr': 0.0001679140980483938, 'epochs': 47}. Best is trial 1 with value: 0.9966.\u001b[0m\n",
      "\u001b[32m[I 2023-04-27 14:08:47,555]\u001b[0m Trial 2 finished with value: 0.6998 and parameters: {'num_conv_layers': 6, 'num_fc_layers': 3, 'lr': 0.0001675329511465571, 'epochs': 31}. Best is trial 1 with value: 0.9966.\u001b[0m\n",
      "\u001b[32m[I 2023-04-27 14:17:48,108]\u001b[0m Trial 3 finished with value: 0.7772 and parameters: {'num_conv_layers': 3, 'num_fc_layers': 1, 'lr': 0.0020854909041265533, 'epochs': 35}. Best is trial 1 with value: 0.9966.\u001b[0m\n",
      "\u001b[32m[I 2023-04-27 14:28:41,388]\u001b[0m Trial 4 finished with value: 0.1154 and parameters: {'num_conv_layers': 4, 'num_fc_layers': 1, 'lr': 0.018582569515937952, 'epochs': 38}. Best is trial 1 with value: 0.9966.\u001b[0m\n",
      "\u001b[32m[I 2023-04-27 14:33:19,209]\u001b[0m Trial 5 finished with value: 0.8884 and parameters: {'num_conv_layers': 3, 'num_fc_layers': 2, 'lr': 0.0069866269161594574, 'epochs': 18}. Best is trial 1 with value: 0.9966.\u001b[0m\n",
      "\u001b[32m[I 2023-04-27 14:40:15,826]\u001b[0m Trial 6 finished with value: 0.9812 and parameters: {'num_conv_layers': 3, 'num_fc_layers': 2, 'lr': 0.008109908607798375, 'epochs': 27}. Best is trial 1 with value: 0.9966.\u001b[0m\n",
      "\u001b[32m[I 2023-04-27 14:46:42,647]\u001b[0m Trial 7 finished with value: 0.9946 and parameters: {'num_conv_layers': 4, 'num_fc_layers': 2, 'lr': 0.00010158105293566893, 'epochs': 22}. Best is trial 1 with value: 0.9966.\u001b[0m\n",
      "\u001b[32m[I 2023-04-27 14:47:00,202]\u001b[0m Trial 8 pruned. \u001b[0m\n",
      "\u001b[32m[I 2023-04-27 14:47:20,005]\u001b[0m Trial 9 pruned. \u001b[0m\n",
      "\u001b[32m[I 2023-04-27 14:47:39,946]\u001b[0m Trial 10 pruned. \u001b[0m\n",
      "\u001b[32m[I 2023-04-27 14:51:15,329]\u001b[0m Trial 11 finished with value: 0.9906 and parameters: {'num_conv_layers': 5, 'num_fc_layers': 2, 'lr': 0.00010144474068133412, 'epochs': 11}. Best is trial 1 with value: 0.9966.\u001b[0m\n",
      "\u001b[32m[I 2023-04-27 14:57:59,010]\u001b[0m Trial 12 finished with value: 0.9954 and parameters: {'num_conv_layers': 4, 'num_fc_layers': 2, 'lr': 0.0003251209524236011, 'epochs': 23}. Best is trial 1 with value: 0.9966.\u001b[0m\n",
      "\u001b[32m[I 2023-04-27 15:05:07,071]\u001b[0m Trial 13 finished with value: 0.9944 and parameters: {'num_conv_layers': 5, 'num_fc_layers': 2, 'lr': 0.0004640302671494568, 'epochs': 22}. Best is trial 1 with value: 0.9966.\u001b[0m\n",
      "\u001b[32m[I 2023-04-27 15:05:24,979]\u001b[0m Trial 14 pruned. \u001b[0m\n",
      "\u001b[32m[I 2023-04-27 15:05:46,584]\u001b[0m Trial 15 pruned. \u001b[0m\n",
      "\u001b[32m[I 2023-04-27 15:14:13,160]\u001b[0m Trial 16 finished with value: 0.9948 and parameters: {'num_conv_layers': 5, 'num_fc_layers': 2, 'lr': 0.0002069947020873541, 'epochs': 26}. Best is trial 1 with value: 0.9966.\u001b[0m\n",
      "\u001b[32m[I 2023-04-27 15:18:55,204]\u001b[0m Trial 17 finished with value: 0.9908 and parameters: {'num_conv_layers': 4, 'num_fc_layers': 3, 'lr': 0.0008242145790698318, 'epochs': 16}. Best is trial 1 with value: 0.9966.\u001b[0m\n",
      "\u001b[32m[I 2023-04-27 15:31:46,891]\u001b[0m Trial 18 finished with value: 0.9982 and parameters: {'num_conv_layers': 4, 'num_fc_layers': 2, 'lr': 0.0002468852890578279, 'epochs': 44}. Best is trial 18 with value: 0.9982.\u001b[0m\n",
      "\u001b[32m[I 2023-04-27 15:32:06,843]\u001b[0m Trial 19 pruned. \u001b[0m\n",
      "\u001b[32m[I 2023-04-27 15:32:28,514]\u001b[0m Trial 20 pruned. \u001b[0m\n",
      "\u001b[32m[I 2023-04-27 15:44:01,617]\u001b[0m Trial 21 finished with value: 0.9958 and parameters: {'num_conv_layers': 4, 'num_fc_layers': 2, 'lr': 0.00027851764191188285, 'epochs': 39}. Best is trial 18 with value: 0.9982.\u001b[0m\n",
      "\u001b[32m[I 2023-04-27 15:44:37,729]\u001b[0m Trial 22 pruned. \u001b[0m\n",
      "\u001b[32m[I 2023-04-27 15:56:43,896]\u001b[0m Trial 23 finished with value: 0.9934 and parameters: {'num_conv_layers': 3, 'num_fc_layers': 2, 'lr': 0.0006233145918729403, 'epochs': 46}. Best is trial 18 with value: 0.9982.\u001b[0m\n",
      "\u001b[32m[I 2023-04-27 15:57:02,373]\u001b[0m Trial 24 pruned. \u001b[0m\n",
      "\u001b[32m[I 2023-04-27 15:57:22,411]\u001b[0m Trial 25 pruned. \u001b[0m\n",
      "\u001b[32m[I 2023-04-27 15:57:40,773]\u001b[0m Trial 26 pruned. \u001b[0m\n",
      "\u001b[32m[I 2023-04-27 16:03:35,673]\u001b[0m Trial 27 pruned. \u001b[0m\n",
      "\u001b[32m[I 2023-04-27 16:18:09,627]\u001b[0m Trial 28 finished with value: 0.9942 and parameters: {'num_conv_layers': 5, 'num_fc_layers': 2, 'lr': 0.0005256591687255001, 'epochs': 43}. Best is trial 18 with value: 0.9982.\u001b[0m\n",
      "\u001b[32m[I 2023-04-27 16:18:33,306]\u001b[0m Trial 29 pruned. \u001b[0m\n",
      "\u001b[32m[I 2023-04-27 16:18:51,349]\u001b[0m Trial 30 pruned. \u001b[0m\n",
      "\u001b[32m[I 2023-04-27 16:19:27,670]\u001b[0m Trial 31 pruned. \u001b[0m\n",
      "\u001b[32m[I 2023-04-27 16:19:45,690]\u001b[0m Trial 32 pruned. \u001b[0m\n",
      "\u001b[32m[I 2023-04-27 16:20:03,852]\u001b[0m Trial 33 pruned. \u001b[0m\n",
      "\u001b[32m[I 2023-04-27 16:26:54,661]\u001b[0m Trial 34 finished with value: 0.9966 and parameters: {'num_conv_layers': 4, 'num_fc_layers': 2, 'lr': 0.00026298210371933654, 'epochs': 23}. Best is trial 18 with value: 0.9982.\u001b[0m\n",
      "\u001b[32m[I 2023-04-27 16:27:11,348]\u001b[0m Trial 35 pruned. \u001b[0m\n",
      "\u001b[32m[I 2023-04-27 16:27:31,548]\u001b[0m Trial 36 pruned. \u001b[0m\n",
      "\u001b[32m[I 2023-04-27 16:27:47,884]\u001b[0m Trial 37 pruned. \u001b[0m\n",
      "\u001b[32m[I 2023-04-27 16:28:06,096]\u001b[0m Trial 38 pruned. \u001b[0m\n",
      "\u001b[32m[I 2023-04-27 16:28:23,997]\u001b[0m Trial 39 pruned. \u001b[0m\n",
      "\u001b[32m[I 2023-04-27 16:28:44,323]\u001b[0m Trial 40 pruned. \u001b[0m\n",
      "\u001b[32m[I 2023-04-27 16:29:02,434]\u001b[0m Trial 41 pruned. \u001b[0m\n",
      "\u001b[32m[I 2023-04-27 16:29:20,639]\u001b[0m Trial 42 pruned. \u001b[0m\n",
      "\u001b[32m[I 2023-04-27 16:35:19,385]\u001b[0m Trial 43 finished with value: 0.992 and parameters: {'num_conv_layers': 4, 'num_fc_layers': 2, 'lr': 0.0002649856408227471, 'epochs': 20}. Best is trial 18 with value: 0.9982.\u001b[0m\n",
      "\u001b[32m[I 2023-04-27 16:35:35,456]\u001b[0m Trial 44 pruned. \u001b[0m\n",
      "\u001b[32m[I 2023-04-27 16:35:53,801]\u001b[0m Trial 45 pruned. \u001b[0m\n",
      "\u001b[32m[I 2023-04-27 16:36:11,905]\u001b[0m Trial 46 pruned. \u001b[0m\n",
      "\u001b[32m[I 2023-04-27 16:37:11,944]\u001b[0m Trial 47 pruned. \u001b[0m\n",
      "\u001b[32m[I 2023-04-27 16:37:30,039]\u001b[0m Trial 48 pruned. \u001b[0m\n",
      "\u001b[32m[I 2023-04-27 16:44:38,306]\u001b[0m Trial 49 finished with value: 0.9932 and parameters: {'num_conv_layers': 5, 'num_fc_layers': 2, 'lr': 0.0005657118791187504, 'epochs': 21}. Best is trial 18 with value: 0.9982.\u001b[0m\n",
      "\u001b[32m[I 2023-04-27 16:44:58,017]\u001b[0m Trial 50 pruned. \u001b[0m\n",
      "\u001b[32m[I 2023-04-27 16:45:19,944]\u001b[0m Trial 51 pruned. \u001b[0m\n",
      "\u001b[32m[I 2023-04-27 16:45:41,727]\u001b[0m Trial 52 pruned. \u001b[0m\n",
      "\u001b[32m[I 2023-04-27 16:46:03,688]\u001b[0m Trial 53 pruned. \u001b[0m\n",
      "\u001b[32m[I 2023-04-27 16:46:25,864]\u001b[0m Trial 54 pruned. \u001b[0m\n",
      "\u001b[32m[I 2023-04-27 17:04:43,803]\u001b[0m Trial 55 finished with value: 0.9964 and parameters: {'num_conv_layers': 6, 'num_fc_layers': 2, 'lr': 0.0007646926717882721, 'epochs': 49}. Best is trial 18 with value: 0.9982.\u001b[0m\n",
      "\u001b[32m[I 2023-04-27 17:05:07,046]\u001b[0m Trial 56 pruned. \u001b[0m\n",
      "\u001b[32m[I 2023-04-27 17:21:43,500]\u001b[0m Trial 57 finished with value: 0.9968 and parameters: {'num_conv_layers': 6, 'num_fc_layers': 2, 'lr': 0.0004279270832683222, 'epochs': 45}. Best is trial 18 with value: 0.9982.\u001b[0m\n",
      "\u001b[32m[I 2023-04-27 17:58:06,783]\u001b[0m Trial 58 finished with value: 0.997 and parameters: {'num_conv_layers': 6, 'num_fc_layers': 2, 'lr': 0.0008723817407794485, 'epochs': 45}. Best is trial 18 with value: 0.9982.\u001b[0m\n",
      "\u001b[32m[I 2023-04-27 17:58:31,542]\u001b[0m Trial 59 pruned. \u001b[0m\n",
      "\u001b[32m[I 2023-04-27 17:58:54,185]\u001b[0m Trial 60 pruned. \u001b[0m\n",
      "\u001b[32m[I 2023-04-27 17:59:26,570]\u001b[0m Trial 61 pruned. \u001b[0m\n",
      "\u001b[32m[I 2023-04-27 17:59:56,269]\u001b[0m Trial 62 pruned. \u001b[0m\n",
      "\u001b[32m[I 2023-04-27 18:17:25,508]\u001b[0m Trial 63 finished with value: 0.9992 and parameters: {'num_conv_layers': 6, 'num_fc_layers': 2, 'lr': 0.0005119114367877431, 'epochs': 41}. Best is trial 63 with value: 0.9992.\u001b[0m\n",
      "\u001b[32m[I 2023-04-27 18:33:47,646]\u001b[0m Trial 64 finished with value: 0.9966 and parameters: {'num_conv_layers': 6, 'num_fc_layers': 2, 'lr': 0.0005767499362066459, 'epochs': 42}. Best is trial 63 with value: 0.9992.\u001b[0m\n",
      "\u001b[32m[I 2023-04-27 18:34:36,648]\u001b[0m Trial 65 pruned. \u001b[0m\n",
      "\u001b[32m[I 2023-04-27 18:35:02,302]\u001b[0m Trial 66 pruned. \u001b[0m\n",
      "\u001b[32m[I 2023-04-27 18:54:16,765]\u001b[0m Trial 67 finished with value: 0.995 and parameters: {'num_conv_layers': 6, 'num_fc_layers': 2, 'lr': 0.0004940072613747974, 'epochs': 46}. Best is trial 63 with value: 0.9992.\u001b[0m\n",
      "\u001b[32m[I 2023-04-27 18:54:43,225]\u001b[0m Trial 68 pruned. \u001b[0m\n",
      "\u001b[32m[I 2023-04-27 18:55:08,074]\u001b[0m Trial 69 pruned. \u001b[0m\n",
      "\u001b[32m[I 2023-04-27 18:55:34,115]\u001b[0m Trial 70 pruned. \u001b[0m\n",
      "\u001b[32m[I 2023-04-27 19:14:14,072]\u001b[0m Trial 71 finished with value: 0.9972 and parameters: {'num_conv_layers': 6, 'num_fc_layers': 2, 'lr': 0.00035748082237680004, 'epochs': 48}. Best is trial 63 with value: 0.9992.\u001b[0m\n",
      "\u001b[32m[I 2023-04-27 19:14:39,533]\u001b[0m Trial 72 pruned. \u001b[0m\n",
      "\u001b[32m[I 2023-04-27 19:15:26,764]\u001b[0m Trial 73 pruned. \u001b[0m\n",
      "\u001b[32m[I 2023-04-27 19:17:24,150]\u001b[0m Trial 74 pruned. \u001b[0m\n",
      "\u001b[32m[I 2023-04-27 19:17:47,606]\u001b[0m Trial 75 pruned. \u001b[0m\n",
      "\u001b[32m[I 2023-04-27 19:18:10,933]\u001b[0m Trial 76 pruned. \u001b[0m\n",
      "\u001b[32m[I 2023-04-27 19:18:34,214]\u001b[0m Trial 77 pruned. \u001b[0m\n",
      "\u001b[32m[I 2023-04-27 19:18:56,740]\u001b[0m Trial 78 pruned. \u001b[0m\n",
      "\u001b[32m[I 2023-04-27 19:20:49,014]\u001b[0m Trial 79 pruned. \u001b[0m\n",
      "\u001b[32m[I 2023-04-27 19:21:12,362]\u001b[0m Trial 80 pruned. \u001b[0m\n",
      "\u001b[32m[I 2023-04-27 19:23:46,104]\u001b[0m Trial 81 pruned. \u001b[0m\n",
      "\u001b[32m[I 2023-04-27 19:24:08,534]\u001b[0m Trial 82 pruned. \u001b[0m\n",
      "\u001b[32m[I 2023-04-27 19:24:31,389]\u001b[0m Trial 83 pruned. \u001b[0m\n",
      "\u001b[32m[I 2023-04-27 19:24:53,689]\u001b[0m Trial 84 pruned. \u001b[0m\n",
      "\u001b[32m[I 2023-04-27 19:25:16,753]\u001b[0m Trial 85 pruned. \u001b[0m\n",
      "\u001b[32m[I 2023-04-27 19:25:42,186]\u001b[0m Trial 86 pruned. \u001b[0m\n",
      "\u001b[32m[I 2023-04-27 19:41:48,656]\u001b[0m Trial 87 finished with value: 0.9978 and parameters: {'num_conv_layers': 6, 'num_fc_layers': 2, 'lr': 0.00034858049992961775, 'epochs': 43}. Best is trial 63 with value: 0.9992.\u001b[0m\n",
      "\u001b[32m[I 2023-04-27 19:42:10,968]\u001b[0m Trial 88 pruned. \u001b[0m\n",
      "\u001b[32m[I 2023-04-27 19:42:33,177]\u001b[0m Trial 89 pruned. \u001b[0m\n",
      "\u001b[32m[I 2023-04-27 19:42:55,597]\u001b[0m Trial 90 pruned. \u001b[0m\n",
      "\u001b[32m[I 2023-04-27 19:43:17,992]\u001b[0m Trial 91 pruned. \u001b[0m\n",
      "\u001b[32m[I 2023-04-27 19:43:40,683]\u001b[0m Trial 92 pruned. \u001b[0m\n",
      "\u001b[32m[I 2023-04-27 19:44:24,759]\u001b[0m Trial 93 pruned. \u001b[0m\n",
      "\u001b[32m[I 2023-04-27 19:44:46,996]\u001b[0m Trial 94 pruned. \u001b[0m\n",
      "\u001b[32m[I 2023-04-27 19:45:05,001]\u001b[0m Trial 95 pruned. \u001b[0m\n",
      "\u001b[32m[I 2023-04-27 19:45:27,150]\u001b[0m Trial 96 pruned. \u001b[0m\n",
      "\u001b[32m[I 2023-04-27 19:45:47,414]\u001b[0m Trial 97 pruned. \u001b[0m\n",
      "\u001b[32m[I 2023-04-27 19:46:09,583]\u001b[0m Trial 98 pruned. \u001b[0m\n",
      "\u001b[32m[I 2023-04-27 19:46:27,647]\u001b[0m Trial 99 pruned. \u001b[0m\n"
     ]
    }
   ],
   "source": [
    "opt_study = optuna.create_study(direction=\"maximize\")\n",
    "opt_study.optimize(objective, n_trials=number_of_trials)\n",
    "pruned_trials = opt_study.get_trials(deepcopy=False, states=[TrialState.PRUNED])\n",
    "complete_trials = opt_study.get_trials(deepcopy=False, states=[TrialState.COMPLETE])"
   ]
  },
  {
   "attachments": {},
   "cell_type": "markdown",
   "metadata": {},
   "source": [
    "### Plotting the optimization history of all trials in a study."
   ]
  },
  {
   "cell_type": "code",
   "execution_count": 13,
   "metadata": {},
   "outputs": [
    {
     "data": {
      "application/vnd.plotly.v1+json": {
       "config": {
        "plotlyServerURL": "https://plot.ly"
       },
       "data": [
        {
         "mode": "markers",
         "name": "Objective Value",
         "type": "scatter",
         "x": [
          0,
          1,
          2,
          3,
          4,
          5,
          6,
          7,
          11,
          12,
          13,
          16,
          17,
          18,
          21,
          23,
          28,
          34,
          43,
          49,
          55,
          57,
          58,
          63,
          64,
          67,
          71,
          87
         ],
         "y": [
          0.7788,
          0.9966,
          0.6998,
          0.7772,
          0.1154,
          0.8884,
          0.9812,
          0.9946,
          0.9906,
          0.9954,
          0.9944,
          0.9948,
          0.9908,
          0.9982,
          0.9958,
          0.9934,
          0.9942,
          0.9966,
          0.992,
          0.9932,
          0.9964,
          0.9968,
          0.997,
          0.9992,
          0.9966,
          0.995,
          0.9972,
          0.9978
         ]
        },
        {
         "name": "Best Value",
         "type": "scatter",
         "x": [
          0,
          1,
          2,
          3,
          4,
          5,
          6,
          7,
          11,
          12,
          13,
          16,
          17,
          18,
          21,
          23,
          28,
          34,
          43,
          49,
          55,
          57,
          58,
          63,
          64,
          67,
          71,
          87
         ],
         "y": [
          0.7788,
          0.9966,
          0.9966,
          0.9966,
          0.9966,
          0.9966,
          0.9966,
          0.9966,
          0.9966,
          0.9966,
          0.9966,
          0.9966,
          0.9966,
          0.9982,
          0.9982,
          0.9982,
          0.9982,
          0.9982,
          0.9982,
          0.9982,
          0.9982,
          0.9982,
          0.9982,
          0.9992,
          0.9992,
          0.9992,
          0.9992,
          0.9992
         ]
        }
       ],
       "layout": {
        "template": {
         "data": {
          "bar": [
           {
            "error_x": {
             "color": "#2a3f5f"
            },
            "error_y": {
             "color": "#2a3f5f"
            },
            "marker": {
             "line": {
              "color": "#E5ECF6",
              "width": 0.5
             },
             "pattern": {
              "fillmode": "overlay",
              "size": 10,
              "solidity": 0.2
             }
            },
            "type": "bar"
           }
          ],
          "barpolar": [
           {
            "marker": {
             "line": {
              "color": "#E5ECF6",
              "width": 0.5
             },
             "pattern": {
              "fillmode": "overlay",
              "size": 10,
              "solidity": 0.2
             }
            },
            "type": "barpolar"
           }
          ],
          "carpet": [
           {
            "aaxis": {
             "endlinecolor": "#2a3f5f",
             "gridcolor": "white",
             "linecolor": "white",
             "minorgridcolor": "white",
             "startlinecolor": "#2a3f5f"
            },
            "baxis": {
             "endlinecolor": "#2a3f5f",
             "gridcolor": "white",
             "linecolor": "white",
             "minorgridcolor": "white",
             "startlinecolor": "#2a3f5f"
            },
            "type": "carpet"
           }
          ],
          "choropleth": [
           {
            "colorbar": {
             "outlinewidth": 0,
             "ticks": ""
            },
            "type": "choropleth"
           }
          ],
          "contour": [
           {
            "colorbar": {
             "outlinewidth": 0,
             "ticks": ""
            },
            "colorscale": [
             [
              0,
              "#0d0887"
             ],
             [
              0.1111111111111111,
              "#46039f"
             ],
             [
              0.2222222222222222,
              "#7201a8"
             ],
             [
              0.3333333333333333,
              "#9c179e"
             ],
             [
              0.4444444444444444,
              "#bd3786"
             ],
             [
              0.5555555555555556,
              "#d8576b"
             ],
             [
              0.6666666666666666,
              "#ed7953"
             ],
             [
              0.7777777777777778,
              "#fb9f3a"
             ],
             [
              0.8888888888888888,
              "#fdca26"
             ],
             [
              1,
              "#f0f921"
             ]
            ],
            "type": "contour"
           }
          ],
          "contourcarpet": [
           {
            "colorbar": {
             "outlinewidth": 0,
             "ticks": ""
            },
            "type": "contourcarpet"
           }
          ],
          "heatmap": [
           {
            "colorbar": {
             "outlinewidth": 0,
             "ticks": ""
            },
            "colorscale": [
             [
              0,
              "#0d0887"
             ],
             [
              0.1111111111111111,
              "#46039f"
             ],
             [
              0.2222222222222222,
              "#7201a8"
             ],
             [
              0.3333333333333333,
              "#9c179e"
             ],
             [
              0.4444444444444444,
              "#bd3786"
             ],
             [
              0.5555555555555556,
              "#d8576b"
             ],
             [
              0.6666666666666666,
              "#ed7953"
             ],
             [
              0.7777777777777778,
              "#fb9f3a"
             ],
             [
              0.8888888888888888,
              "#fdca26"
             ],
             [
              1,
              "#f0f921"
             ]
            ],
            "type": "heatmap"
           }
          ],
          "heatmapgl": [
           {
            "colorbar": {
             "outlinewidth": 0,
             "ticks": ""
            },
            "colorscale": [
             [
              0,
              "#0d0887"
             ],
             [
              0.1111111111111111,
              "#46039f"
             ],
             [
              0.2222222222222222,
              "#7201a8"
             ],
             [
              0.3333333333333333,
              "#9c179e"
             ],
             [
              0.4444444444444444,
              "#bd3786"
             ],
             [
              0.5555555555555556,
              "#d8576b"
             ],
             [
              0.6666666666666666,
              "#ed7953"
             ],
             [
              0.7777777777777778,
              "#fb9f3a"
             ],
             [
              0.8888888888888888,
              "#fdca26"
             ],
             [
              1,
              "#f0f921"
             ]
            ],
            "type": "heatmapgl"
           }
          ],
          "histogram": [
           {
            "marker": {
             "pattern": {
              "fillmode": "overlay",
              "size": 10,
              "solidity": 0.2
             }
            },
            "type": "histogram"
           }
          ],
          "histogram2d": [
           {
            "colorbar": {
             "outlinewidth": 0,
             "ticks": ""
            },
            "colorscale": [
             [
              0,
              "#0d0887"
             ],
             [
              0.1111111111111111,
              "#46039f"
             ],
             [
              0.2222222222222222,
              "#7201a8"
             ],
             [
              0.3333333333333333,
              "#9c179e"
             ],
             [
              0.4444444444444444,
              "#bd3786"
             ],
             [
              0.5555555555555556,
              "#d8576b"
             ],
             [
              0.6666666666666666,
              "#ed7953"
             ],
             [
              0.7777777777777778,
              "#fb9f3a"
             ],
             [
              0.8888888888888888,
              "#fdca26"
             ],
             [
              1,
              "#f0f921"
             ]
            ],
            "type": "histogram2d"
           }
          ],
          "histogram2dcontour": [
           {
            "colorbar": {
             "outlinewidth": 0,
             "ticks": ""
            },
            "colorscale": [
             [
              0,
              "#0d0887"
             ],
             [
              0.1111111111111111,
              "#46039f"
             ],
             [
              0.2222222222222222,
              "#7201a8"
             ],
             [
              0.3333333333333333,
              "#9c179e"
             ],
             [
              0.4444444444444444,
              "#bd3786"
             ],
             [
              0.5555555555555556,
              "#d8576b"
             ],
             [
              0.6666666666666666,
              "#ed7953"
             ],
             [
              0.7777777777777778,
              "#fb9f3a"
             ],
             [
              0.8888888888888888,
              "#fdca26"
             ],
             [
              1,
              "#f0f921"
             ]
            ],
            "type": "histogram2dcontour"
           }
          ],
          "mesh3d": [
           {
            "colorbar": {
             "outlinewidth": 0,
             "ticks": ""
            },
            "type": "mesh3d"
           }
          ],
          "parcoords": [
           {
            "line": {
             "colorbar": {
              "outlinewidth": 0,
              "ticks": ""
             }
            },
            "type": "parcoords"
           }
          ],
          "pie": [
           {
            "automargin": true,
            "type": "pie"
           }
          ],
          "scatter": [
           {
            "fillpattern": {
             "fillmode": "overlay",
             "size": 10,
             "solidity": 0.2
            },
            "type": "scatter"
           }
          ],
          "scatter3d": [
           {
            "line": {
             "colorbar": {
              "outlinewidth": 0,
              "ticks": ""
             }
            },
            "marker": {
             "colorbar": {
              "outlinewidth": 0,
              "ticks": ""
             }
            },
            "type": "scatter3d"
           }
          ],
          "scattercarpet": [
           {
            "marker": {
             "colorbar": {
              "outlinewidth": 0,
              "ticks": ""
             }
            },
            "type": "scattercarpet"
           }
          ],
          "scattergeo": [
           {
            "marker": {
             "colorbar": {
              "outlinewidth": 0,
              "ticks": ""
             }
            },
            "type": "scattergeo"
           }
          ],
          "scattergl": [
           {
            "marker": {
             "colorbar": {
              "outlinewidth": 0,
              "ticks": ""
             }
            },
            "type": "scattergl"
           }
          ],
          "scattermapbox": [
           {
            "marker": {
             "colorbar": {
              "outlinewidth": 0,
              "ticks": ""
             }
            },
            "type": "scattermapbox"
           }
          ],
          "scatterpolar": [
           {
            "marker": {
             "colorbar": {
              "outlinewidth": 0,
              "ticks": ""
             }
            },
            "type": "scatterpolar"
           }
          ],
          "scatterpolargl": [
           {
            "marker": {
             "colorbar": {
              "outlinewidth": 0,
              "ticks": ""
             }
            },
            "type": "scatterpolargl"
           }
          ],
          "scatterternary": [
           {
            "marker": {
             "colorbar": {
              "outlinewidth": 0,
              "ticks": ""
             }
            },
            "type": "scatterternary"
           }
          ],
          "surface": [
           {
            "colorbar": {
             "outlinewidth": 0,
             "ticks": ""
            },
            "colorscale": [
             [
              0,
              "#0d0887"
             ],
             [
              0.1111111111111111,
              "#46039f"
             ],
             [
              0.2222222222222222,
              "#7201a8"
             ],
             [
              0.3333333333333333,
              "#9c179e"
             ],
             [
              0.4444444444444444,
              "#bd3786"
             ],
             [
              0.5555555555555556,
              "#d8576b"
             ],
             [
              0.6666666666666666,
              "#ed7953"
             ],
             [
              0.7777777777777778,
              "#fb9f3a"
             ],
             [
              0.8888888888888888,
              "#fdca26"
             ],
             [
              1,
              "#f0f921"
             ]
            ],
            "type": "surface"
           }
          ],
          "table": [
           {
            "cells": {
             "fill": {
              "color": "#EBF0F8"
             },
             "line": {
              "color": "white"
             }
            },
            "header": {
             "fill": {
              "color": "#C8D4E3"
             },
             "line": {
              "color": "white"
             }
            },
            "type": "table"
           }
          ]
         },
         "layout": {
          "annotationdefaults": {
           "arrowcolor": "#2a3f5f",
           "arrowhead": 0,
           "arrowwidth": 1
          },
          "autotypenumbers": "strict",
          "coloraxis": {
           "colorbar": {
            "outlinewidth": 0,
            "ticks": ""
           }
          },
          "colorscale": {
           "diverging": [
            [
             0,
             "#8e0152"
            ],
            [
             0.1,
             "#c51b7d"
            ],
            [
             0.2,
             "#de77ae"
            ],
            [
             0.3,
             "#f1b6da"
            ],
            [
             0.4,
             "#fde0ef"
            ],
            [
             0.5,
             "#f7f7f7"
            ],
            [
             0.6,
             "#e6f5d0"
            ],
            [
             0.7,
             "#b8e186"
            ],
            [
             0.8,
             "#7fbc41"
            ],
            [
             0.9,
             "#4d9221"
            ],
            [
             1,
             "#276419"
            ]
           ],
           "sequential": [
            [
             0,
             "#0d0887"
            ],
            [
             0.1111111111111111,
             "#46039f"
            ],
            [
             0.2222222222222222,
             "#7201a8"
            ],
            [
             0.3333333333333333,
             "#9c179e"
            ],
            [
             0.4444444444444444,
             "#bd3786"
            ],
            [
             0.5555555555555556,
             "#d8576b"
            ],
            [
             0.6666666666666666,
             "#ed7953"
            ],
            [
             0.7777777777777778,
             "#fb9f3a"
            ],
            [
             0.8888888888888888,
             "#fdca26"
            ],
            [
             1,
             "#f0f921"
            ]
           ],
           "sequentialminus": [
            [
             0,
             "#0d0887"
            ],
            [
             0.1111111111111111,
             "#46039f"
            ],
            [
             0.2222222222222222,
             "#7201a8"
            ],
            [
             0.3333333333333333,
             "#9c179e"
            ],
            [
             0.4444444444444444,
             "#bd3786"
            ],
            [
             0.5555555555555556,
             "#d8576b"
            ],
            [
             0.6666666666666666,
             "#ed7953"
            ],
            [
             0.7777777777777778,
             "#fb9f3a"
            ],
            [
             0.8888888888888888,
             "#fdca26"
            ],
            [
             1,
             "#f0f921"
            ]
           ]
          },
          "colorway": [
           "#636efa",
           "#EF553B",
           "#00cc96",
           "#ab63fa",
           "#FFA15A",
           "#19d3f3",
           "#FF6692",
           "#B6E880",
           "#FF97FF",
           "#FECB52"
          ],
          "font": {
           "color": "#2a3f5f"
          },
          "geo": {
           "bgcolor": "white",
           "lakecolor": "white",
           "landcolor": "#E5ECF6",
           "showlakes": true,
           "showland": true,
           "subunitcolor": "white"
          },
          "hoverlabel": {
           "align": "left"
          },
          "hovermode": "closest",
          "mapbox": {
           "style": "light"
          },
          "paper_bgcolor": "white",
          "plot_bgcolor": "#E5ECF6",
          "polar": {
           "angularaxis": {
            "gridcolor": "white",
            "linecolor": "white",
            "ticks": ""
           },
           "bgcolor": "#E5ECF6",
           "radialaxis": {
            "gridcolor": "white",
            "linecolor": "white",
            "ticks": ""
           }
          },
          "scene": {
           "xaxis": {
            "backgroundcolor": "#E5ECF6",
            "gridcolor": "white",
            "gridwidth": 2,
            "linecolor": "white",
            "showbackground": true,
            "ticks": "",
            "zerolinecolor": "white"
           },
           "yaxis": {
            "backgroundcolor": "#E5ECF6",
            "gridcolor": "white",
            "gridwidth": 2,
            "linecolor": "white",
            "showbackground": true,
            "ticks": "",
            "zerolinecolor": "white"
           },
           "zaxis": {
            "backgroundcolor": "#E5ECF6",
            "gridcolor": "white",
            "gridwidth": 2,
            "linecolor": "white",
            "showbackground": true,
            "ticks": "",
            "zerolinecolor": "white"
           }
          },
          "shapedefaults": {
           "line": {
            "color": "#2a3f5f"
           }
          },
          "ternary": {
           "aaxis": {
            "gridcolor": "white",
            "linecolor": "white",
            "ticks": ""
           },
           "baxis": {
            "gridcolor": "white",
            "linecolor": "white",
            "ticks": ""
           },
           "bgcolor": "#E5ECF6",
           "caxis": {
            "gridcolor": "white",
            "linecolor": "white",
            "ticks": ""
           }
          },
          "title": {
           "x": 0.05
          },
          "xaxis": {
           "automargin": true,
           "gridcolor": "white",
           "linecolor": "white",
           "ticks": "",
           "title": {
            "standoff": 15
           },
           "zerolinecolor": "white",
           "zerolinewidth": 2
          },
          "yaxis": {
           "automargin": true,
           "gridcolor": "white",
           "linecolor": "white",
           "ticks": "",
           "title": {
            "standoff": 15
           },
           "zerolinecolor": "white",
           "zerolinewidth": 2
          }
         }
        },
        "title": {
         "text": "Optimization History Plot"
        },
        "xaxis": {
         "title": {
          "text": "Trial"
         }
        },
        "yaxis": {
         "title": {
          "text": "Objective Value"
         }
        }
       }
      }
     },
     "metadata": {},
     "output_type": "display_data"
    }
   ],
   "source": [
    "fig = optuna.visualization.plot_optimization_history(opt_study) \n",
    "fig.show()"
   ]
  },
  {
   "cell_type": "code",
   "execution_count": 14,
   "metadata": {},
   "outputs": [
    {
     "data": {
      "application/vnd.plotly.v1+json": {
       "config": {
        "plotlyServerURL": "https://plot.ly"
       },
       "data": [
        {
         "marker": {
          "color": [
           0,
           1,
           2,
           3,
           4,
           5,
           6,
           7,
           11,
           12,
           13,
           16,
           17,
           18,
           21,
           23,
           28,
           34,
           43,
           49,
           55,
           57,
           58,
           63,
           64,
           67,
           71,
           87
          ],
          "colorbar": {
           "title": {
            "text": "Trial"
           },
           "x": 1,
           "xpad": 40
          },
          "colorscale": [
           [
            0,
            "rgb(247,251,255)"
           ],
           [
            0.125,
            "rgb(222,235,247)"
           ],
           [
            0.25,
            "rgb(198,219,239)"
           ],
           [
            0.375,
            "rgb(158,202,225)"
           ],
           [
            0.5,
            "rgb(107,174,214)"
           ],
           [
            0.625,
            "rgb(66,146,198)"
           ],
           [
            0.75,
            "rgb(33,113,181)"
           ],
           [
            0.875,
            "rgb(8,81,156)"
           ],
           [
            1,
            "rgb(8,48,107)"
           ]
          ],
          "line": {
           "color": "Grey",
           "width": 0.5
          },
          "showscale": true
         },
         "mode": "markers",
         "showlegend": false,
         "type": "scatter",
         "x": [
          35,
          47,
          31,
          35,
          38,
          18,
          27,
          22,
          11,
          23,
          22,
          26,
          16,
          44,
          39,
          46,
          43,
          23,
          20,
          21,
          49,
          45,
          45,
          41,
          42,
          46,
          48,
          43
         ],
         "xaxis": "x",
         "y": [
          0.7788,
          0.9966,
          0.6998,
          0.7772,
          0.1154,
          0.8884,
          0.9812,
          0.9946,
          0.9906,
          0.9954,
          0.9944,
          0.9948,
          0.9908,
          0.9982,
          0.9958,
          0.9934,
          0.9942,
          0.9966,
          0.992,
          0.9932,
          0.9964,
          0.9968,
          0.997,
          0.9992,
          0.9966,
          0.995,
          0.9972,
          0.9978
         ],
         "yaxis": "y"
        },
        {
         "marker": {
          "color": [
           0,
           1,
           2,
           3,
           4,
           5,
           6,
           7,
           11,
           12,
           13,
           16,
           17,
           18,
           21,
           23,
           28,
           34,
           43,
           49,
           55,
           57,
           58,
           63,
           64,
           67,
           71,
           87
          ],
          "colorbar": {
           "title": {
            "text": "Trial"
           },
           "x": 1,
           "xpad": 40
          },
          "colorscale": [
           [
            0,
            "rgb(247,251,255)"
           ],
           [
            0.125,
            "rgb(222,235,247)"
           ],
           [
            0.25,
            "rgb(198,219,239)"
           ],
           [
            0.375,
            "rgb(158,202,225)"
           ],
           [
            0.5,
            "rgb(107,174,214)"
           ],
           [
            0.625,
            "rgb(66,146,198)"
           ],
           [
            0.75,
            "rgb(33,113,181)"
           ],
           [
            0.875,
            "rgb(8,81,156)"
           ],
           [
            1,
            "rgb(8,48,107)"
           ]
          ],
          "line": {
           "color": "Grey",
           "width": 0.5
          },
          "showscale": false
         },
         "mode": "markers",
         "showlegend": false,
         "type": "scatter",
         "x": [
          0.00041191393701745557,
          0.0001679140980483938,
          0.0001675329511465571,
          0.0020854909041265533,
          0.018582569515937952,
          0.0069866269161594574,
          0.008109908607798375,
          0.00010158105293566893,
          0.00010144474068133412,
          0.0003251209524236011,
          0.0004640302671494568,
          0.0002069947020873541,
          0.0008242145790698318,
          0.0002468852890578279,
          0.00027851764191188285,
          0.0006233145918729403,
          0.0005256591687255001,
          0.00026298210371933654,
          0.0002649856408227471,
          0.0005657118791187504,
          0.0007646926717882721,
          0.0004279270832683222,
          0.0008723817407794485,
          0.0005119114367877431,
          0.0005767499362066459,
          0.0004940072613747974,
          0.00035748082237680004,
          0.00034858049992961775
         ],
         "xaxis": "x2",
         "y": [
          0.7788,
          0.9966,
          0.6998,
          0.7772,
          0.1154,
          0.8884,
          0.9812,
          0.9946,
          0.9906,
          0.9954,
          0.9944,
          0.9948,
          0.9908,
          0.9982,
          0.9958,
          0.9934,
          0.9942,
          0.9966,
          0.992,
          0.9932,
          0.9964,
          0.9968,
          0.997,
          0.9992,
          0.9966,
          0.995,
          0.9972,
          0.9978
         ],
         "yaxis": "y2"
        },
        {
         "marker": {
          "color": [
           0,
           1,
           2,
           3,
           4,
           5,
           6,
           7,
           11,
           12,
           13,
           16,
           17,
           18,
           21,
           23,
           28,
           34,
           43,
           49,
           55,
           57,
           58,
           63,
           64,
           67,
           71,
           87
          ],
          "colorbar": {
           "title": {
            "text": "Trial"
           },
           "x": 1,
           "xpad": 40
          },
          "colorscale": [
           [
            0,
            "rgb(247,251,255)"
           ],
           [
            0.125,
            "rgb(222,235,247)"
           ],
           [
            0.25,
            "rgb(198,219,239)"
           ],
           [
            0.375,
            "rgb(158,202,225)"
           ],
           [
            0.5,
            "rgb(107,174,214)"
           ],
           [
            0.625,
            "rgb(66,146,198)"
           ],
           [
            0.75,
            "rgb(33,113,181)"
           ],
           [
            0.875,
            "rgb(8,81,156)"
           ],
           [
            1,
            "rgb(8,48,107)"
           ]
          ],
          "line": {
           "color": "Grey",
           "width": 0.5
          },
          "showscale": false
         },
         "mode": "markers",
         "showlegend": false,
         "type": "scatter",
         "x": [
          6,
          5,
          6,
          3,
          4,
          3,
          3,
          4,
          5,
          4,
          5,
          5,
          4,
          4,
          4,
          3,
          5,
          4,
          4,
          5,
          6,
          6,
          6,
          6,
          6,
          6,
          6,
          6
         ],
         "xaxis": "x3",
         "y": [
          0.7788,
          0.9966,
          0.6998,
          0.7772,
          0.1154,
          0.8884,
          0.9812,
          0.9946,
          0.9906,
          0.9954,
          0.9944,
          0.9948,
          0.9908,
          0.9982,
          0.9958,
          0.9934,
          0.9942,
          0.9966,
          0.992,
          0.9932,
          0.9964,
          0.9968,
          0.997,
          0.9992,
          0.9966,
          0.995,
          0.9972,
          0.9978
         ],
         "yaxis": "y3"
        },
        {
         "marker": {
          "color": [
           0,
           1,
           2,
           3,
           4,
           5,
           6,
           7,
           11,
           12,
           13,
           16,
           17,
           18,
           21,
           23,
           28,
           34,
           43,
           49,
           55,
           57,
           58,
           63,
           64,
           67,
           71,
           87
          ],
          "colorbar": {
           "title": {
            "text": "Trial"
           },
           "x": 1,
           "xpad": 40
          },
          "colorscale": [
           [
            0,
            "rgb(247,251,255)"
           ],
           [
            0.125,
            "rgb(222,235,247)"
           ],
           [
            0.25,
            "rgb(198,219,239)"
           ],
           [
            0.375,
            "rgb(158,202,225)"
           ],
           [
            0.5,
            "rgb(107,174,214)"
           ],
           [
            0.625,
            "rgb(66,146,198)"
           ],
           [
            0.75,
            "rgb(33,113,181)"
           ],
           [
            0.875,
            "rgb(8,81,156)"
           ],
           [
            1,
            "rgb(8,48,107)"
           ]
          ],
          "line": {
           "color": "Grey",
           "width": 0.5
          },
          "showscale": false
         },
         "mode": "markers",
         "showlegend": false,
         "type": "scatter",
         "x": [
          2,
          2,
          3,
          1,
          1,
          2,
          2,
          2,
          2,
          2,
          2,
          2,
          3,
          2,
          2,
          2,
          2,
          2,
          2,
          2,
          2,
          2,
          2,
          2,
          2,
          2,
          2,
          2
         ],
         "xaxis": "x4",
         "y": [
          0.7788,
          0.9966,
          0.6998,
          0.7772,
          0.1154,
          0.8884,
          0.9812,
          0.9946,
          0.9906,
          0.9954,
          0.9944,
          0.9948,
          0.9908,
          0.9982,
          0.9958,
          0.9934,
          0.9942,
          0.9966,
          0.992,
          0.9932,
          0.9964,
          0.9968,
          0.997,
          0.9992,
          0.9966,
          0.995,
          0.9972,
          0.9978
         ],
         "yaxis": "y4"
        }
       ],
       "layout": {
        "template": {
         "data": {
          "bar": [
           {
            "error_x": {
             "color": "#2a3f5f"
            },
            "error_y": {
             "color": "#2a3f5f"
            },
            "marker": {
             "line": {
              "color": "#E5ECF6",
              "width": 0.5
             },
             "pattern": {
              "fillmode": "overlay",
              "size": 10,
              "solidity": 0.2
             }
            },
            "type": "bar"
           }
          ],
          "barpolar": [
           {
            "marker": {
             "line": {
              "color": "#E5ECF6",
              "width": 0.5
             },
             "pattern": {
              "fillmode": "overlay",
              "size": 10,
              "solidity": 0.2
             }
            },
            "type": "barpolar"
           }
          ],
          "carpet": [
           {
            "aaxis": {
             "endlinecolor": "#2a3f5f",
             "gridcolor": "white",
             "linecolor": "white",
             "minorgridcolor": "white",
             "startlinecolor": "#2a3f5f"
            },
            "baxis": {
             "endlinecolor": "#2a3f5f",
             "gridcolor": "white",
             "linecolor": "white",
             "minorgridcolor": "white",
             "startlinecolor": "#2a3f5f"
            },
            "type": "carpet"
           }
          ],
          "choropleth": [
           {
            "colorbar": {
             "outlinewidth": 0,
             "ticks": ""
            },
            "type": "choropleth"
           }
          ],
          "contour": [
           {
            "colorbar": {
             "outlinewidth": 0,
             "ticks": ""
            },
            "colorscale": [
             [
              0,
              "#0d0887"
             ],
             [
              0.1111111111111111,
              "#46039f"
             ],
             [
              0.2222222222222222,
              "#7201a8"
             ],
             [
              0.3333333333333333,
              "#9c179e"
             ],
             [
              0.4444444444444444,
              "#bd3786"
             ],
             [
              0.5555555555555556,
              "#d8576b"
             ],
             [
              0.6666666666666666,
              "#ed7953"
             ],
             [
              0.7777777777777778,
              "#fb9f3a"
             ],
             [
              0.8888888888888888,
              "#fdca26"
             ],
             [
              1,
              "#f0f921"
             ]
            ],
            "type": "contour"
           }
          ],
          "contourcarpet": [
           {
            "colorbar": {
             "outlinewidth": 0,
             "ticks": ""
            },
            "type": "contourcarpet"
           }
          ],
          "heatmap": [
           {
            "colorbar": {
             "outlinewidth": 0,
             "ticks": ""
            },
            "colorscale": [
             [
              0,
              "#0d0887"
             ],
             [
              0.1111111111111111,
              "#46039f"
             ],
             [
              0.2222222222222222,
              "#7201a8"
             ],
             [
              0.3333333333333333,
              "#9c179e"
             ],
             [
              0.4444444444444444,
              "#bd3786"
             ],
             [
              0.5555555555555556,
              "#d8576b"
             ],
             [
              0.6666666666666666,
              "#ed7953"
             ],
             [
              0.7777777777777778,
              "#fb9f3a"
             ],
             [
              0.8888888888888888,
              "#fdca26"
             ],
             [
              1,
              "#f0f921"
             ]
            ],
            "type": "heatmap"
           }
          ],
          "heatmapgl": [
           {
            "colorbar": {
             "outlinewidth": 0,
             "ticks": ""
            },
            "colorscale": [
             [
              0,
              "#0d0887"
             ],
             [
              0.1111111111111111,
              "#46039f"
             ],
             [
              0.2222222222222222,
              "#7201a8"
             ],
             [
              0.3333333333333333,
              "#9c179e"
             ],
             [
              0.4444444444444444,
              "#bd3786"
             ],
             [
              0.5555555555555556,
              "#d8576b"
             ],
             [
              0.6666666666666666,
              "#ed7953"
             ],
             [
              0.7777777777777778,
              "#fb9f3a"
             ],
             [
              0.8888888888888888,
              "#fdca26"
             ],
             [
              1,
              "#f0f921"
             ]
            ],
            "type": "heatmapgl"
           }
          ],
          "histogram": [
           {
            "marker": {
             "pattern": {
              "fillmode": "overlay",
              "size": 10,
              "solidity": 0.2
             }
            },
            "type": "histogram"
           }
          ],
          "histogram2d": [
           {
            "colorbar": {
             "outlinewidth": 0,
             "ticks": ""
            },
            "colorscale": [
             [
              0,
              "#0d0887"
             ],
             [
              0.1111111111111111,
              "#46039f"
             ],
             [
              0.2222222222222222,
              "#7201a8"
             ],
             [
              0.3333333333333333,
              "#9c179e"
             ],
             [
              0.4444444444444444,
              "#bd3786"
             ],
             [
              0.5555555555555556,
              "#d8576b"
             ],
             [
              0.6666666666666666,
              "#ed7953"
             ],
             [
              0.7777777777777778,
              "#fb9f3a"
             ],
             [
              0.8888888888888888,
              "#fdca26"
             ],
             [
              1,
              "#f0f921"
             ]
            ],
            "type": "histogram2d"
           }
          ],
          "histogram2dcontour": [
           {
            "colorbar": {
             "outlinewidth": 0,
             "ticks": ""
            },
            "colorscale": [
             [
              0,
              "#0d0887"
             ],
             [
              0.1111111111111111,
              "#46039f"
             ],
             [
              0.2222222222222222,
              "#7201a8"
             ],
             [
              0.3333333333333333,
              "#9c179e"
             ],
             [
              0.4444444444444444,
              "#bd3786"
             ],
             [
              0.5555555555555556,
              "#d8576b"
             ],
             [
              0.6666666666666666,
              "#ed7953"
             ],
             [
              0.7777777777777778,
              "#fb9f3a"
             ],
             [
              0.8888888888888888,
              "#fdca26"
             ],
             [
              1,
              "#f0f921"
             ]
            ],
            "type": "histogram2dcontour"
           }
          ],
          "mesh3d": [
           {
            "colorbar": {
             "outlinewidth": 0,
             "ticks": ""
            },
            "type": "mesh3d"
           }
          ],
          "parcoords": [
           {
            "line": {
             "colorbar": {
              "outlinewidth": 0,
              "ticks": ""
             }
            },
            "type": "parcoords"
           }
          ],
          "pie": [
           {
            "automargin": true,
            "type": "pie"
           }
          ],
          "scatter": [
           {
            "fillpattern": {
             "fillmode": "overlay",
             "size": 10,
             "solidity": 0.2
            },
            "type": "scatter"
           }
          ],
          "scatter3d": [
           {
            "line": {
             "colorbar": {
              "outlinewidth": 0,
              "ticks": ""
             }
            },
            "marker": {
             "colorbar": {
              "outlinewidth": 0,
              "ticks": ""
             }
            },
            "type": "scatter3d"
           }
          ],
          "scattercarpet": [
           {
            "marker": {
             "colorbar": {
              "outlinewidth": 0,
              "ticks": ""
             }
            },
            "type": "scattercarpet"
           }
          ],
          "scattergeo": [
           {
            "marker": {
             "colorbar": {
              "outlinewidth": 0,
              "ticks": ""
             }
            },
            "type": "scattergeo"
           }
          ],
          "scattergl": [
           {
            "marker": {
             "colorbar": {
              "outlinewidth": 0,
              "ticks": ""
             }
            },
            "type": "scattergl"
           }
          ],
          "scattermapbox": [
           {
            "marker": {
             "colorbar": {
              "outlinewidth": 0,
              "ticks": ""
             }
            },
            "type": "scattermapbox"
           }
          ],
          "scatterpolar": [
           {
            "marker": {
             "colorbar": {
              "outlinewidth": 0,
              "ticks": ""
             }
            },
            "type": "scatterpolar"
           }
          ],
          "scatterpolargl": [
           {
            "marker": {
             "colorbar": {
              "outlinewidth": 0,
              "ticks": ""
             }
            },
            "type": "scatterpolargl"
           }
          ],
          "scatterternary": [
           {
            "marker": {
             "colorbar": {
              "outlinewidth": 0,
              "ticks": ""
             }
            },
            "type": "scatterternary"
           }
          ],
          "surface": [
           {
            "colorbar": {
             "outlinewidth": 0,
             "ticks": ""
            },
            "colorscale": [
             [
              0,
              "#0d0887"
             ],
             [
              0.1111111111111111,
              "#46039f"
             ],
             [
              0.2222222222222222,
              "#7201a8"
             ],
             [
              0.3333333333333333,
              "#9c179e"
             ],
             [
              0.4444444444444444,
              "#bd3786"
             ],
             [
              0.5555555555555556,
              "#d8576b"
             ],
             [
              0.6666666666666666,
              "#ed7953"
             ],
             [
              0.7777777777777778,
              "#fb9f3a"
             ],
             [
              0.8888888888888888,
              "#fdca26"
             ],
             [
              1,
              "#f0f921"
             ]
            ],
            "type": "surface"
           }
          ],
          "table": [
           {
            "cells": {
             "fill": {
              "color": "#EBF0F8"
             },
             "line": {
              "color": "white"
             }
            },
            "header": {
             "fill": {
              "color": "#C8D4E3"
             },
             "line": {
              "color": "white"
             }
            },
            "type": "table"
           }
          ]
         },
         "layout": {
          "annotationdefaults": {
           "arrowcolor": "#2a3f5f",
           "arrowhead": 0,
           "arrowwidth": 1
          },
          "autotypenumbers": "strict",
          "coloraxis": {
           "colorbar": {
            "outlinewidth": 0,
            "ticks": ""
           }
          },
          "colorscale": {
           "diverging": [
            [
             0,
             "#8e0152"
            ],
            [
             0.1,
             "#c51b7d"
            ],
            [
             0.2,
             "#de77ae"
            ],
            [
             0.3,
             "#f1b6da"
            ],
            [
             0.4,
             "#fde0ef"
            ],
            [
             0.5,
             "#f7f7f7"
            ],
            [
             0.6,
             "#e6f5d0"
            ],
            [
             0.7,
             "#b8e186"
            ],
            [
             0.8,
             "#7fbc41"
            ],
            [
             0.9,
             "#4d9221"
            ],
            [
             1,
             "#276419"
            ]
           ],
           "sequential": [
            [
             0,
             "#0d0887"
            ],
            [
             0.1111111111111111,
             "#46039f"
            ],
            [
             0.2222222222222222,
             "#7201a8"
            ],
            [
             0.3333333333333333,
             "#9c179e"
            ],
            [
             0.4444444444444444,
             "#bd3786"
            ],
            [
             0.5555555555555556,
             "#d8576b"
            ],
            [
             0.6666666666666666,
             "#ed7953"
            ],
            [
             0.7777777777777778,
             "#fb9f3a"
            ],
            [
             0.8888888888888888,
             "#fdca26"
            ],
            [
             1,
             "#f0f921"
            ]
           ],
           "sequentialminus": [
            [
             0,
             "#0d0887"
            ],
            [
             0.1111111111111111,
             "#46039f"
            ],
            [
             0.2222222222222222,
             "#7201a8"
            ],
            [
             0.3333333333333333,
             "#9c179e"
            ],
            [
             0.4444444444444444,
             "#bd3786"
            ],
            [
             0.5555555555555556,
             "#d8576b"
            ],
            [
             0.6666666666666666,
             "#ed7953"
            ],
            [
             0.7777777777777778,
             "#fb9f3a"
            ],
            [
             0.8888888888888888,
             "#fdca26"
            ],
            [
             1,
             "#f0f921"
            ]
           ]
          },
          "colorway": [
           "#636efa",
           "#EF553B",
           "#00cc96",
           "#ab63fa",
           "#FFA15A",
           "#19d3f3",
           "#FF6692",
           "#B6E880",
           "#FF97FF",
           "#FECB52"
          ],
          "font": {
           "color": "#2a3f5f"
          },
          "geo": {
           "bgcolor": "white",
           "lakecolor": "white",
           "landcolor": "#E5ECF6",
           "showlakes": true,
           "showland": true,
           "subunitcolor": "white"
          },
          "hoverlabel": {
           "align": "left"
          },
          "hovermode": "closest",
          "mapbox": {
           "style": "light"
          },
          "paper_bgcolor": "white",
          "plot_bgcolor": "#E5ECF6",
          "polar": {
           "angularaxis": {
            "gridcolor": "white",
            "linecolor": "white",
            "ticks": ""
           },
           "bgcolor": "#E5ECF6",
           "radialaxis": {
            "gridcolor": "white",
            "linecolor": "white",
            "ticks": ""
           }
          },
          "scene": {
           "xaxis": {
            "backgroundcolor": "#E5ECF6",
            "gridcolor": "white",
            "gridwidth": 2,
            "linecolor": "white",
            "showbackground": true,
            "ticks": "",
            "zerolinecolor": "white"
           },
           "yaxis": {
            "backgroundcolor": "#E5ECF6",
            "gridcolor": "white",
            "gridwidth": 2,
            "linecolor": "white",
            "showbackground": true,
            "ticks": "",
            "zerolinecolor": "white"
           },
           "zaxis": {
            "backgroundcolor": "#E5ECF6",
            "gridcolor": "white",
            "gridwidth": 2,
            "linecolor": "white",
            "showbackground": true,
            "ticks": "",
            "zerolinecolor": "white"
           }
          },
          "shapedefaults": {
           "line": {
            "color": "#2a3f5f"
           }
          },
          "ternary": {
           "aaxis": {
            "gridcolor": "white",
            "linecolor": "white",
            "ticks": ""
           },
           "baxis": {
            "gridcolor": "white",
            "linecolor": "white",
            "ticks": ""
           },
           "bgcolor": "#E5ECF6",
           "caxis": {
            "gridcolor": "white",
            "linecolor": "white",
            "ticks": ""
           }
          },
          "title": {
           "x": 0.05
          },
          "xaxis": {
           "automargin": true,
           "gridcolor": "white",
           "linecolor": "white",
           "ticks": "",
           "title": {
            "standoff": 15
           },
           "zerolinecolor": "white",
           "zerolinewidth": 2
          },
          "yaxis": {
           "automargin": true,
           "gridcolor": "white",
           "linecolor": "white",
           "ticks": "",
           "title": {
            "standoff": 15
           },
           "zerolinecolor": "white",
           "zerolinewidth": 2
          }
         }
        },
        "title": {
         "text": "Slice Plot"
        },
        "width": 1200,
        "xaxis": {
         "anchor": "y",
         "domain": [
          0,
          0.2125
         ],
         "title": {
          "text": "epochs"
         }
        },
        "xaxis2": {
         "anchor": "y2",
         "domain": [
          0.2625,
          0.475
         ],
         "title": {
          "text": "lr"
         },
         "type": "log"
        },
        "xaxis3": {
         "anchor": "y3",
         "domain": [
          0.525,
          0.7375
         ],
         "title": {
          "text": "num_conv_layers"
         }
        },
        "xaxis4": {
         "anchor": "y4",
         "domain": [
          0.7875,
          1
         ],
         "title": {
          "text": "num_fc_layers"
         }
        },
        "yaxis": {
         "anchor": "x",
         "domain": [
          0,
          1
         ],
         "title": {
          "text": "Objective Value"
         }
        },
        "yaxis2": {
         "anchor": "x2",
         "domain": [
          0,
          1
         ],
         "matches": "y",
         "showticklabels": false
        },
        "yaxis3": {
         "anchor": "x3",
         "domain": [
          0,
          1
         ],
         "matches": "y",
         "showticklabels": false
        },
        "yaxis4": {
         "anchor": "x4",
         "domain": [
          0,
          1
         ],
         "matches": "y",
         "showticklabels": false
        }
       }
      }
     },
     "metadata": {},
     "output_type": "display_data"
    }
   ],
   "source": [
    "fig = optuna.visualization.plot_slice(opt_study) \n",
    "fig.show()"
   ]
  },
  {
   "attachments": {},
   "cell_type": "markdown",
   "metadata": {},
   "source": [
    "### Parallel Coordinate Plot"
   ]
  },
  {
   "cell_type": "code",
   "execution_count": 15,
   "metadata": {},
   "outputs": [
    {
     "data": {
      "application/vnd.plotly.v1+json": {
       "config": {
        "plotlyServerURL": "https://plot.ly"
       },
       "data": [
        {
         "dimensions": [
          {
           "label": "Objective Value",
           "range": [
            0.1154,
            0.9992
           ],
           "values": [
            0.7788,
            0.9966,
            0.6998,
            0.7772,
            0.1154,
            0.8884,
            0.9812,
            0.9946,
            0.9906,
            0.9954,
            0.9944,
            0.9948,
            0.9908,
            0.9982,
            0.9958,
            0.9934,
            0.9942,
            0.9966,
            0.992,
            0.9932,
            0.9964,
            0.9968,
            0.997,
            0.9992,
            0.9966,
            0.995,
            0.9972,
            0.9978
           ]
          },
          {
           "label": "epochs",
           "range": [
            11,
            49
           ],
           "values": [
            35,
            47,
            31,
            35,
            38,
            18,
            27,
            22,
            11,
            23,
            22,
            26,
            16,
            44,
            39,
            46,
            43,
            23,
            20,
            21,
            49,
            45,
            45,
            41,
            42,
            46,
            48,
            43
           ]
          },
          {
           "label": "lr",
           "range": [
            -3.9937704636851703,
            -1.730894233860313
           ],
           "ticktext": [
            "0.000101",
            "0.001",
            "0.01",
            "0.0186"
           ],
           "tickvals": [
            -3.9937704636851703,
            -3,
            -2,
            -1.730894233860313
           ],
           "values": [
            -3.3851935135367195,
            -3.7749128390162987,
            -3.7758997612020466,
            -2.6807916999904156,
            -1.730894233860313,
            -2.155732447325203,
            -2.0909840399136894,
            -3.993187289816332,
            -3.9937704636851703,
            -3.4879550414889957,
            -3.3334536909380392,
            -3.6840407699231403,
            -3.0839597077517595,
            -3.6075047872302775,
            -3.555147290463973,
            -3.2052927061005874,
            -3.2792957560724934,
            -3.5800738048197056,
            -3.576777659196797,
            -3.247404701617454,
            -3.1165130717270704,
            -3.368630226388777,
            -3.0592934329164874,
            -3.2908051676204457,
            -3.2390124448434587,
            -3.3062666673681984,
            -3.4467472516512414,
            -3.457696911574381
           ]
          },
          {
           "label": "num_conv_layers",
           "range": [
            3,
            6
           ],
           "values": [
            6,
            5,
            6,
            3,
            4,
            3,
            3,
            4,
            5,
            4,
            5,
            5,
            4,
            4,
            4,
            3,
            5,
            4,
            4,
            5,
            6,
            6,
            6,
            6,
            6,
            6,
            6,
            6
           ]
          },
          {
           "label": "num_fc_layers",
           "range": [
            1,
            3
           ],
           "values": [
            2,
            2,
            3,
            1,
            1,
            2,
            2,
            2,
            2,
            2,
            2,
            2,
            3,
            2,
            2,
            2,
            2,
            2,
            2,
            2,
            2,
            2,
            2,
            2,
            2,
            2,
            2,
            2
           ]
          }
         ],
         "labelangle": 30,
         "labelside": "bottom",
         "line": {
          "color": [
           0.7788,
           0.9966,
           0.6998,
           0.7772,
           0.1154,
           0.8884,
           0.9812,
           0.9946,
           0.9906,
           0.9954,
           0.9944,
           0.9948,
           0.9908,
           0.9982,
           0.9958,
           0.9934,
           0.9942,
           0.9966,
           0.992,
           0.9932,
           0.9964,
           0.9968,
           0.997,
           0.9992,
           0.9966,
           0.995,
           0.9972,
           0.9978
          ],
          "colorbar": {
           "title": {
            "text": "Objective Value"
           }
          },
          "colorscale": [
           [
            0,
            "rgb(247,251,255)"
           ],
           [
            0.125,
            "rgb(222,235,247)"
           ],
           [
            0.25,
            "rgb(198,219,239)"
           ],
           [
            0.375,
            "rgb(158,202,225)"
           ],
           [
            0.5,
            "rgb(107,174,214)"
           ],
           [
            0.625,
            "rgb(66,146,198)"
           ],
           [
            0.75,
            "rgb(33,113,181)"
           ],
           [
            0.875,
            "rgb(8,81,156)"
           ],
           [
            1,
            "rgb(8,48,107)"
           ]
          ],
          "reversescale": false,
          "showscale": true
         },
         "type": "parcoords"
        }
       ],
       "layout": {
        "template": {
         "data": {
          "bar": [
           {
            "error_x": {
             "color": "#2a3f5f"
            },
            "error_y": {
             "color": "#2a3f5f"
            },
            "marker": {
             "line": {
              "color": "#E5ECF6",
              "width": 0.5
             },
             "pattern": {
              "fillmode": "overlay",
              "size": 10,
              "solidity": 0.2
             }
            },
            "type": "bar"
           }
          ],
          "barpolar": [
           {
            "marker": {
             "line": {
              "color": "#E5ECF6",
              "width": 0.5
             },
             "pattern": {
              "fillmode": "overlay",
              "size": 10,
              "solidity": 0.2
             }
            },
            "type": "barpolar"
           }
          ],
          "carpet": [
           {
            "aaxis": {
             "endlinecolor": "#2a3f5f",
             "gridcolor": "white",
             "linecolor": "white",
             "minorgridcolor": "white",
             "startlinecolor": "#2a3f5f"
            },
            "baxis": {
             "endlinecolor": "#2a3f5f",
             "gridcolor": "white",
             "linecolor": "white",
             "minorgridcolor": "white",
             "startlinecolor": "#2a3f5f"
            },
            "type": "carpet"
           }
          ],
          "choropleth": [
           {
            "colorbar": {
             "outlinewidth": 0,
             "ticks": ""
            },
            "type": "choropleth"
           }
          ],
          "contour": [
           {
            "colorbar": {
             "outlinewidth": 0,
             "ticks": ""
            },
            "colorscale": [
             [
              0,
              "#0d0887"
             ],
             [
              0.1111111111111111,
              "#46039f"
             ],
             [
              0.2222222222222222,
              "#7201a8"
             ],
             [
              0.3333333333333333,
              "#9c179e"
             ],
             [
              0.4444444444444444,
              "#bd3786"
             ],
             [
              0.5555555555555556,
              "#d8576b"
             ],
             [
              0.6666666666666666,
              "#ed7953"
             ],
             [
              0.7777777777777778,
              "#fb9f3a"
             ],
             [
              0.8888888888888888,
              "#fdca26"
             ],
             [
              1,
              "#f0f921"
             ]
            ],
            "type": "contour"
           }
          ],
          "contourcarpet": [
           {
            "colorbar": {
             "outlinewidth": 0,
             "ticks": ""
            },
            "type": "contourcarpet"
           }
          ],
          "heatmap": [
           {
            "colorbar": {
             "outlinewidth": 0,
             "ticks": ""
            },
            "colorscale": [
             [
              0,
              "#0d0887"
             ],
             [
              0.1111111111111111,
              "#46039f"
             ],
             [
              0.2222222222222222,
              "#7201a8"
             ],
             [
              0.3333333333333333,
              "#9c179e"
             ],
             [
              0.4444444444444444,
              "#bd3786"
             ],
             [
              0.5555555555555556,
              "#d8576b"
             ],
             [
              0.6666666666666666,
              "#ed7953"
             ],
             [
              0.7777777777777778,
              "#fb9f3a"
             ],
             [
              0.8888888888888888,
              "#fdca26"
             ],
             [
              1,
              "#f0f921"
             ]
            ],
            "type": "heatmap"
           }
          ],
          "heatmapgl": [
           {
            "colorbar": {
             "outlinewidth": 0,
             "ticks": ""
            },
            "colorscale": [
             [
              0,
              "#0d0887"
             ],
             [
              0.1111111111111111,
              "#46039f"
             ],
             [
              0.2222222222222222,
              "#7201a8"
             ],
             [
              0.3333333333333333,
              "#9c179e"
             ],
             [
              0.4444444444444444,
              "#bd3786"
             ],
             [
              0.5555555555555556,
              "#d8576b"
             ],
             [
              0.6666666666666666,
              "#ed7953"
             ],
             [
              0.7777777777777778,
              "#fb9f3a"
             ],
             [
              0.8888888888888888,
              "#fdca26"
             ],
             [
              1,
              "#f0f921"
             ]
            ],
            "type": "heatmapgl"
           }
          ],
          "histogram": [
           {
            "marker": {
             "pattern": {
              "fillmode": "overlay",
              "size": 10,
              "solidity": 0.2
             }
            },
            "type": "histogram"
           }
          ],
          "histogram2d": [
           {
            "colorbar": {
             "outlinewidth": 0,
             "ticks": ""
            },
            "colorscale": [
             [
              0,
              "#0d0887"
             ],
             [
              0.1111111111111111,
              "#46039f"
             ],
             [
              0.2222222222222222,
              "#7201a8"
             ],
             [
              0.3333333333333333,
              "#9c179e"
             ],
             [
              0.4444444444444444,
              "#bd3786"
             ],
             [
              0.5555555555555556,
              "#d8576b"
             ],
             [
              0.6666666666666666,
              "#ed7953"
             ],
             [
              0.7777777777777778,
              "#fb9f3a"
             ],
             [
              0.8888888888888888,
              "#fdca26"
             ],
             [
              1,
              "#f0f921"
             ]
            ],
            "type": "histogram2d"
           }
          ],
          "histogram2dcontour": [
           {
            "colorbar": {
             "outlinewidth": 0,
             "ticks": ""
            },
            "colorscale": [
             [
              0,
              "#0d0887"
             ],
             [
              0.1111111111111111,
              "#46039f"
             ],
             [
              0.2222222222222222,
              "#7201a8"
             ],
             [
              0.3333333333333333,
              "#9c179e"
             ],
             [
              0.4444444444444444,
              "#bd3786"
             ],
             [
              0.5555555555555556,
              "#d8576b"
             ],
             [
              0.6666666666666666,
              "#ed7953"
             ],
             [
              0.7777777777777778,
              "#fb9f3a"
             ],
             [
              0.8888888888888888,
              "#fdca26"
             ],
             [
              1,
              "#f0f921"
             ]
            ],
            "type": "histogram2dcontour"
           }
          ],
          "mesh3d": [
           {
            "colorbar": {
             "outlinewidth": 0,
             "ticks": ""
            },
            "type": "mesh3d"
           }
          ],
          "parcoords": [
           {
            "line": {
             "colorbar": {
              "outlinewidth": 0,
              "ticks": ""
             }
            },
            "type": "parcoords"
           }
          ],
          "pie": [
           {
            "automargin": true,
            "type": "pie"
           }
          ],
          "scatter": [
           {
            "fillpattern": {
             "fillmode": "overlay",
             "size": 10,
             "solidity": 0.2
            },
            "type": "scatter"
           }
          ],
          "scatter3d": [
           {
            "line": {
             "colorbar": {
              "outlinewidth": 0,
              "ticks": ""
             }
            },
            "marker": {
             "colorbar": {
              "outlinewidth": 0,
              "ticks": ""
             }
            },
            "type": "scatter3d"
           }
          ],
          "scattercarpet": [
           {
            "marker": {
             "colorbar": {
              "outlinewidth": 0,
              "ticks": ""
             }
            },
            "type": "scattercarpet"
           }
          ],
          "scattergeo": [
           {
            "marker": {
             "colorbar": {
              "outlinewidth": 0,
              "ticks": ""
             }
            },
            "type": "scattergeo"
           }
          ],
          "scattergl": [
           {
            "marker": {
             "colorbar": {
              "outlinewidth": 0,
              "ticks": ""
             }
            },
            "type": "scattergl"
           }
          ],
          "scattermapbox": [
           {
            "marker": {
             "colorbar": {
              "outlinewidth": 0,
              "ticks": ""
             }
            },
            "type": "scattermapbox"
           }
          ],
          "scatterpolar": [
           {
            "marker": {
             "colorbar": {
              "outlinewidth": 0,
              "ticks": ""
             }
            },
            "type": "scatterpolar"
           }
          ],
          "scatterpolargl": [
           {
            "marker": {
             "colorbar": {
              "outlinewidth": 0,
              "ticks": ""
             }
            },
            "type": "scatterpolargl"
           }
          ],
          "scatterternary": [
           {
            "marker": {
             "colorbar": {
              "outlinewidth": 0,
              "ticks": ""
             }
            },
            "type": "scatterternary"
           }
          ],
          "surface": [
           {
            "colorbar": {
             "outlinewidth": 0,
             "ticks": ""
            },
            "colorscale": [
             [
              0,
              "#0d0887"
             ],
             [
              0.1111111111111111,
              "#46039f"
             ],
             [
              0.2222222222222222,
              "#7201a8"
             ],
             [
              0.3333333333333333,
              "#9c179e"
             ],
             [
              0.4444444444444444,
              "#bd3786"
             ],
             [
              0.5555555555555556,
              "#d8576b"
             ],
             [
              0.6666666666666666,
              "#ed7953"
             ],
             [
              0.7777777777777778,
              "#fb9f3a"
             ],
             [
              0.8888888888888888,
              "#fdca26"
             ],
             [
              1,
              "#f0f921"
             ]
            ],
            "type": "surface"
           }
          ],
          "table": [
           {
            "cells": {
             "fill": {
              "color": "#EBF0F8"
             },
             "line": {
              "color": "white"
             }
            },
            "header": {
             "fill": {
              "color": "#C8D4E3"
             },
             "line": {
              "color": "white"
             }
            },
            "type": "table"
           }
          ]
         },
         "layout": {
          "annotationdefaults": {
           "arrowcolor": "#2a3f5f",
           "arrowhead": 0,
           "arrowwidth": 1
          },
          "autotypenumbers": "strict",
          "coloraxis": {
           "colorbar": {
            "outlinewidth": 0,
            "ticks": ""
           }
          },
          "colorscale": {
           "diverging": [
            [
             0,
             "#8e0152"
            ],
            [
             0.1,
             "#c51b7d"
            ],
            [
             0.2,
             "#de77ae"
            ],
            [
             0.3,
             "#f1b6da"
            ],
            [
             0.4,
             "#fde0ef"
            ],
            [
             0.5,
             "#f7f7f7"
            ],
            [
             0.6,
             "#e6f5d0"
            ],
            [
             0.7,
             "#b8e186"
            ],
            [
             0.8,
             "#7fbc41"
            ],
            [
             0.9,
             "#4d9221"
            ],
            [
             1,
             "#276419"
            ]
           ],
           "sequential": [
            [
             0,
             "#0d0887"
            ],
            [
             0.1111111111111111,
             "#46039f"
            ],
            [
             0.2222222222222222,
             "#7201a8"
            ],
            [
             0.3333333333333333,
             "#9c179e"
            ],
            [
             0.4444444444444444,
             "#bd3786"
            ],
            [
             0.5555555555555556,
             "#d8576b"
            ],
            [
             0.6666666666666666,
             "#ed7953"
            ],
            [
             0.7777777777777778,
             "#fb9f3a"
            ],
            [
             0.8888888888888888,
             "#fdca26"
            ],
            [
             1,
             "#f0f921"
            ]
           ],
           "sequentialminus": [
            [
             0,
             "#0d0887"
            ],
            [
             0.1111111111111111,
             "#46039f"
            ],
            [
             0.2222222222222222,
             "#7201a8"
            ],
            [
             0.3333333333333333,
             "#9c179e"
            ],
            [
             0.4444444444444444,
             "#bd3786"
            ],
            [
             0.5555555555555556,
             "#d8576b"
            ],
            [
             0.6666666666666666,
             "#ed7953"
            ],
            [
             0.7777777777777778,
             "#fb9f3a"
            ],
            [
             0.8888888888888888,
             "#fdca26"
            ],
            [
             1,
             "#f0f921"
            ]
           ]
          },
          "colorway": [
           "#636efa",
           "#EF553B",
           "#00cc96",
           "#ab63fa",
           "#FFA15A",
           "#19d3f3",
           "#FF6692",
           "#B6E880",
           "#FF97FF",
           "#FECB52"
          ],
          "font": {
           "color": "#2a3f5f"
          },
          "geo": {
           "bgcolor": "white",
           "lakecolor": "white",
           "landcolor": "#E5ECF6",
           "showlakes": true,
           "showland": true,
           "subunitcolor": "white"
          },
          "hoverlabel": {
           "align": "left"
          },
          "hovermode": "closest",
          "mapbox": {
           "style": "light"
          },
          "paper_bgcolor": "white",
          "plot_bgcolor": "#E5ECF6",
          "polar": {
           "angularaxis": {
            "gridcolor": "white",
            "linecolor": "white",
            "ticks": ""
           },
           "bgcolor": "#E5ECF6",
           "radialaxis": {
            "gridcolor": "white",
            "linecolor": "white",
            "ticks": ""
           }
          },
          "scene": {
           "xaxis": {
            "backgroundcolor": "#E5ECF6",
            "gridcolor": "white",
            "gridwidth": 2,
            "linecolor": "white",
            "showbackground": true,
            "ticks": "",
            "zerolinecolor": "white"
           },
           "yaxis": {
            "backgroundcolor": "#E5ECF6",
            "gridcolor": "white",
            "gridwidth": 2,
            "linecolor": "white",
            "showbackground": true,
            "ticks": "",
            "zerolinecolor": "white"
           },
           "zaxis": {
            "backgroundcolor": "#E5ECF6",
            "gridcolor": "white",
            "gridwidth": 2,
            "linecolor": "white",
            "showbackground": true,
            "ticks": "",
            "zerolinecolor": "white"
           }
          },
          "shapedefaults": {
           "line": {
            "color": "#2a3f5f"
           }
          },
          "ternary": {
           "aaxis": {
            "gridcolor": "white",
            "linecolor": "white",
            "ticks": ""
           },
           "baxis": {
            "gridcolor": "white",
            "linecolor": "white",
            "ticks": ""
           },
           "bgcolor": "#E5ECF6",
           "caxis": {
            "gridcolor": "white",
            "linecolor": "white",
            "ticks": ""
           }
          },
          "title": {
           "x": 0.05
          },
          "xaxis": {
           "automargin": true,
           "gridcolor": "white",
           "linecolor": "white",
           "ticks": "",
           "title": {
            "standoff": 15
           },
           "zerolinecolor": "white",
           "zerolinewidth": 2
          },
          "yaxis": {
           "automargin": true,
           "gridcolor": "white",
           "linecolor": "white",
           "ticks": "",
           "title": {
            "standoff": 15
           },
           "zerolinecolor": "white",
           "zerolinewidth": 2
          }
         }
        },
        "title": {
         "text": "Parallel Coordinate Plot"
        }
       }
      }
     },
     "metadata": {},
     "output_type": "display_data"
    }
   ],
   "source": [
    "fig = optuna.visualization.plot_parallel_coordinate(opt_study)\n",
    "fig.show()"
   ]
  },
  {
   "attachments": {},
   "cell_type": "markdown",
   "metadata": {},
   "source": [
    "### Study Statistics"
   ]
  },
  {
   "cell_type": "code",
   "execution_count": 16,
   "metadata": {},
   "outputs": [
    {
     "name": "stdout",
     "output_type": "stream",
     "text": [
      "\n",
      "Study statistics: \n",
      "  Number of finished trials:  100\n",
      "  Number of pruned trials:  72\n",
      "  Number of complete trials:  28\n"
     ]
    }
   ],
   "source": [
    "print(\"\\nStudy statistics: \")\n",
    "print(\"  Number of finished trials: \", len(opt_study.trials))\n",
    "print(\"  Number of pruned trials: \", len(pruned_trials))\n",
    "print(\"  Number of complete trials: \", len(complete_trials))"
   ]
  },
  {
   "attachments": {},
   "cell_type": "markdown",
   "metadata": {},
   "source": [
    "### Best Trial"
   ]
  },
  {
   "cell_type": "code",
   "execution_count": 17,
   "metadata": {},
   "outputs": [
    {
     "name": "stdout",
     "output_type": "stream",
     "text": [
      "\n",
      "Best trial:\n",
      "  Value:  0.9992\n",
      "  Params: \n",
      "    num_conv_layers: 6\n",
      "    num_fc_layers: 2\n",
      "    lr: 0.0005119114367877431\n",
      "    epochs: 41\n"
     ]
    }
   ],
   "source": [
    "print(\"\\nBest trial:\")\n",
    "trial = opt_study.best_trial\n",
    "print(\"  Value: \", trial.value)\n",
    "print(\"  Params: \")\n",
    "for key, value in trial.params.items():\n",
    "    print(\"    {}: {}\".format(key, value))"
   ]
  },
  {
   "attachments": {},
   "cell_type": "markdown",
   "metadata": {},
   "source": [
    "### Saving the best trial"
   ]
  },
  {
   "cell_type": "code",
   "execution_count": 18,
   "metadata": {},
   "outputs": [],
   "source": [
    "import pickle\n",
    "with open(\"optuna_study.pkl\", \"wb\") as f:\n",
    "    pickle.dump(opt_study, f)"
   ]
  }
 ],
 "metadata": {
  "kernelspec": {
   "display_name": "Python 3",
   "language": "python",
   "name": "python3"
  },
  "language_info": {
   "codemirror_mode": {
    "name": "ipython",
    "version": 3
   },
   "file_extension": ".py",
   "mimetype": "text/x-python",
   "name": "python",
   "nbconvert_exporter": "python",
   "pygments_lexer": "ipython3",
   "version": "3.7.8"
  },
  "orig_nbformat": 4
 },
 "nbformat": 4,
 "nbformat_minor": 2
}
