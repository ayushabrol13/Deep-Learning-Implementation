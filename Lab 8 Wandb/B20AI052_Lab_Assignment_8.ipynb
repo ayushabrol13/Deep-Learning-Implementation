{
 "cells": [
  {
   "attachments": {},
   "cell_type": "markdown",
   "metadata": {},
   "source": [
    "# DLOps Lab Assignment - 8\n",
    "\n",
    "    Ayush Abrol B20AI052\n",
    "\n",
    "---"
   ]
  },
  {
   "attachments": {},
   "cell_type": "markdown",
   "metadata": {},
   "source": [
    "### Necessary Imports"
   ]
  },
  {
   "cell_type": "code",
   "execution_count": 1,
   "metadata": {},
   "outputs": [
    {
     "name": "stderr",
     "output_type": "stream",
     "text": [
      "/home/ayushabrol/.local/lib/python3.10/site-packages/torchvision/io/image.py:13: UserWarning: Failed to load image Python extension: libtorch_cuda_cu.so: cannot open shared object file: No such file or directory\n",
      "  warn(f\"Failed to load image Python extension: {e}\")\n"
     ]
    }
   ],
   "source": [
    "import numpy as np\n",
    "import pandas as pd\n",
    "import matplotlib.pyplot as plt\n",
    "from tqdm import tqdm\n",
    "\n",
    "import torch\n",
    "import torch.nn as nn\n",
    "import torch.optim as optim\n",
    "import torch.nn.functional as F\n",
    "from torch.utils.data import Dataset, DataLoader, Subset\n",
    "from torchvision import transforms, utils, datasets, models\n",
    "from torch.utils.data.sampler import SubsetRandomSampler\n",
    "import warnings\n",
    "warnings.filterwarnings(\"ignore\")\n",
    "\n",
    "import random\n",
    "import wandb\n",
    "import math"
   ]
  },
  {
   "attachments": {},
   "cell_type": "markdown",
   "metadata": {},
   "source": [
    "### Setting the device to GPU"
   ]
  },
  {
   "cell_type": "code",
   "execution_count": 2,
   "metadata": {},
   "outputs": [
    {
     "data": {
      "text/plain": [
       "device(type='cuda')"
      ]
     },
     "execution_count": 2,
     "metadata": {},
     "output_type": "execute_result"
    }
   ],
   "source": [
    "device = torch.device(\"cuda\" if torch.cuda.is_available() else \"cpu\")\n",
    "device"
   ]
  },
  {
   "attachments": {},
   "cell_type": "markdown",
   "metadata": {},
   "source": [
    "### Logging in to wandb using my API key"
   ]
  },
  {
   "cell_type": "code",
   "execution_count": 3,
   "metadata": {},
   "outputs": [
    {
     "name": "stderr",
     "output_type": "stream",
     "text": [
      "Failed to detect the name of this notebook, you can set it manually with the WANDB_NOTEBOOK_NAME environment variable to enable code saving.\n",
      "\u001b[34m\u001b[1mwandb\u001b[0m: Currently logged in as: \u001b[33mayushabrol13\u001b[0m. Use \u001b[1m`wandb login --relogin`\u001b[0m to force relogin\n"
     ]
    },
    {
     "data": {
      "text/plain": [
       "True"
      ]
     },
     "execution_count": 3,
     "metadata": {},
     "output_type": "execute_result"
    }
   ],
   "source": [
    "wandb.login()"
   ]
  },
  {
   "attachments": {},
   "cell_type": "markdown",
   "metadata": {},
   "source": [
    "### Setting up the hyperparameters for tuning for different activation functions and optimizers"
   ]
  },
  {
   "cell_type": "code",
   "execution_count": 4,
   "metadata": {},
   "outputs": [],
   "source": [
    "hyperparams = {\n",
    "    \"num_epochs\": 30,\n",
    "    \"batch_size\": 128,\n",
    "    \"learning_rate\": 3e-4,\n",
    "    \"activation\": [\"Relu\", \"Leaky_relu\", \"Sigmoid\", \"Tanh\"],\n",
    "    \"optimizer\": [\"Adam\", \"SGD\", \"RMSprop\", \"Adagrad\"],\n",
    "}"
   ]
  },
  {
   "attachments": {},
   "cell_type": "markdown",
   "metadata": {},
   "source": [
    "### Importing the CIFA10 dataset and selecting the even classes"
   ]
  },
  {
   "attachments": {},
   "cell_type": "markdown",
   "metadata": {},
   "source": [
    "Also creating train and test dataloaders"
   ]
  },
  {
   "cell_type": "code",
   "execution_count": 5,
   "metadata": {},
   "outputs": [
    {
     "name": "stdout",
     "output_type": "stream",
     "text": [
      "Files already downloaded and verified\n",
      "Files already downloaded and verified\n"
     ]
    }
   ],
   "source": [
    "transform = transforms.Compose(\n",
    "    [\n",
    "        transforms.RandomHorizontalFlip(),\n",
    "        transforms.RandomCrop(size=32, padding=4),\n",
    "        transforms.ToTensor(),\n",
    "        transforms.Normalize((0.5, 0.5, 0.5), (0.5, 0.5, 0.5)),\n",
    "    ]\n",
    ")\n",
    "\n",
    "dataset = datasets.CIFAR10(root=\"./data\", train=True, download=True, transform=transform)\n",
    "\n",
    "even_indices = []\n",
    "for i in range(len(dataset.targets)):\n",
    "    if dataset.targets[i] % 2 == 0:\n",
    "        even_indices.append(i)\n",
    "\n",
    "train_sampler = SubsetRandomSampler(even_indices)\n",
    "\n",
    "train_loader = DataLoader(\n",
    "    dataset,\n",
    "    batch_size=hyperparams[\"batch_size\"],\n",
    "    sampler=train_sampler,\n",
    "    num_workers=2,\n",
    "    pin_memory=True,\n",
    ")\n",
    "\n",
    "test_dataset = datasets.CIFAR10(root=\"./data\", train=False, download=True, transform=transform)\n",
    "\n",
    "test_even_indices = []\n",
    "for i in range(len(test_dataset.targets)):\n",
    "    if test_dataset.targets[i] % 2 == 0:\n",
    "        test_even_indices.append(i)\n",
    "\n",
    "test_sampler = SubsetRandomSampler(test_even_indices)\n",
    "\n",
    "test_loader = DataLoader(\n",
    "    test_dataset,\n",
    "    batch_size=hyperparams[\"batch_size\"],\n",
    "    sampler=test_sampler,\n",
    "    num_workers=2,\n",
    "    pin_memory=True,\n",
    ")"
   ]
  },
  {
   "attachments": {},
   "cell_type": "markdown",
   "metadata": {},
   "source": [
    "### Function for logging predicted images along with the ground truth labels to wandb"
   ]
  },
  {
   "cell_type": "code",
   "execution_count": 6,
   "metadata": {},
   "outputs": [],
   "source": [
    "# This function defines the log image model\n",
    "def log_image_table(images, predicted, labels, probs):\n",
    "    \"Log a wandb.Table with (img, pred, target, scores)\"\n",
    "    # 🐝 Create a wandb Table to log images, labels and predictions to\n",
    "    table = wandb.Table(columns=[\"image\", \"pred\", \"target\"]+[f\"score_{i}\" for i in range(10)])\n",
    "    for img, pred, targ, prob in zip(images.to(\"cpu\"), predicted.to(\"cpu\"), labels.to(\"cpu\"), probs.to(\"cpu\")):\n",
    "        table.add_data(wandb.Image(img[0].numpy()*255), pred, targ, *prob.numpy())\n",
    "    wandb.log({\"predictions_table\":table}, commit=False)"
   ]
  },
  {
   "attachments": {},
   "cell_type": "markdown",
   "metadata": {},
   "source": [
    "### Importing torchvision's pretrained model, setting the activation function as a parameter and setting the fc layer to output 5 classes"
   ]
  },
  {
   "cell_type": "code",
   "execution_count": 7,
   "metadata": {},
   "outputs": [],
   "source": [
    "class ResNet18(nn.Module):\n",
    "    def __init__(self, activation):\n",
    "        super().__init__()\n",
    "        self.model = models.resnet18(pretrained=True)\n",
    "        self.model.fc = nn.Linear(512, 10)\n",
    "        self.activation = activation\n",
    "        self.model = self.model.to(device)\n",
    "\n",
    "    def forward(self, x):\n",
    "        if self.activation == \"Relu\":\n",
    "            x = F.relu(self.model(x))\n",
    "        elif self.activation == \"Leaky_relu\":\n",
    "            x = F.leaky_relu(self.model(x))\n",
    "        elif self.activation == \"Sigmoid\":\n",
    "            x = F.sigmoid(self.model(x))\n",
    "        elif self.activation == \"Tanh\":\n",
    "            x = F.tanh(self.model(x))\n",
    "        return x"
   ]
  },
  {
   "attachments": {},
   "cell_type": "markdown",
   "metadata": {},
   "source": [
    "### Function for testing the model"
   ]
  },
  {
   "cell_type": "code",
   "execution_count": 8,
   "metadata": {},
   "outputs": [],
   "source": [
    "def evaluate(model, test_loader, criterion, test_loss, test_acc, log_images=False, batch_idx=0):\n",
    "    \"Compute performance of the model on the validation dataset and log a wandb.Table\"\n",
    "    model.eval()\n",
    "    running_loss = 0.0\n",
    "    with torch.inference_mode():\n",
    "        correct = 0\n",
    "        for i, (data, target) in enumerate(test_loader):\n",
    "            data, target = data.to(device), target.to(device)\n",
    "            output = model(data)\n",
    "            running_loss += criterion(output, target)\n",
    "            _, predicted = torch.max(output.data, 1)\n",
    "            correct += (predicted == target).sum().item()\n",
    "            if log_images and i == batch_idx:\n",
    "                log_image_table(data, predicted, target, F.softmax(output, dim=1))\n",
    "\n",
    "        test_loss.append(running_loss / len(test_loader))\n",
    "        test_acc.append(correct / len(test_loader.dataset))\n",
    "    return running_loss / len(test_loader), correct / len(test_loader.dataset)"
   ]
  },
  {
   "attachments": {},
   "cell_type": "markdown",
   "metadata": {},
   "source": [
    "### Function for training the model and logging the metrics to wandb"
   ]
  },
  {
   "attachments": {},
   "cell_type": "markdown",
   "metadata": {},
   "source": [
    "Also, initializing the wandb project and logging the hyperparameters"
   ]
  },
  {
   "cell_type": "code",
   "execution_count": 10,
   "metadata": {},
   "outputs": [
    {
     "name": "stdout",
     "output_type": "stream",
     "text": [
      "Activation: Relu, Optimizer: Adam\n"
     ]
    },
    {
     "data": {
      "text/html": [
       "Tracking run with wandb version 0.14.2"
      ],
      "text/plain": [
       "<IPython.core.display.HTML object>"
      ]
     },
     "metadata": {},
     "output_type": "display_data"
    },
    {
     "data": {
      "text/html": [
       "Run data is saved locally in <code>/home/ayushabrol/Desktop/DLOps_Lab_8/wandb/run-20230418_163217-a91eit7l</code>"
      ],
      "text/plain": [
       "<IPython.core.display.HTML object>"
      ]
     },
     "metadata": {},
     "output_type": "display_data"
    },
    {
     "data": {
      "text/html": [
       "Syncing run <strong><a href='https://wandb.ai/ayushabrol13/B20AI052_Lab_Assignment_8/runs/a91eit7l' target=\"_blank\">ResNet18_Relu_Adam</a></strong> to <a href='https://wandb.ai/ayushabrol13/B20AI052_Lab_Assignment_8' target=\"_blank\">Weights & Biases</a> (<a href='https://wandb.me/run' target=\"_blank\">docs</a>)<br/>"
      ],
      "text/plain": [
       "<IPython.core.display.HTML object>"
      ]
     },
     "metadata": {},
     "output_type": "display_data"
    },
    {
     "data": {
      "text/html": [
       " View project at <a href='https://wandb.ai/ayushabrol13/B20AI052_Lab_Assignment_8' target=\"_blank\">https://wandb.ai/ayushabrol13/B20AI052_Lab_Assignment_8</a>"
      ],
      "text/plain": [
       "<IPython.core.display.HTML object>"
      ]
     },
     "metadata": {},
     "output_type": "display_data"
    },
    {
     "data": {
      "text/html": [
       " View run at <a href='https://wandb.ai/ayushabrol13/B20AI052_Lab_Assignment_8/runs/a91eit7l' target=\"_blank\">https://wandb.ai/ayushabrol13/B20AI052_Lab_Assignment_8/runs/a91eit7l</a>"
      ],
      "text/plain": [
       "<IPython.core.display.HTML object>"
      ]
     },
     "metadata": {},
     "output_type": "display_data"
    },
    {
     "name": "stdout",
     "output_type": "stream",
     "text": [
      "Epoch: 1, Train Loss: 0.7560506630308774, Train Accuracy: 0.36564\n",
      "Epoch: 1, Val Loss: 0.4910200536251068, Val Accuracy: 0.4089\n",
      "Epoch: 2, Train Loss: 0.4371440184055542, Train Accuracy: 0.42096\n",
      "Epoch: 2, Val Loss: 0.41333651542663574, Val Accuracy: 0.4264\n",
      "Epoch: 3, Train Loss: 0.352580013703935, Train Accuracy: 0.43614\n",
      "Epoch: 3, Val Loss: 0.4195302128791809, Val Accuracy: 0.4284\n",
      "Epoch: 4, Train Loss: 0.31790465747519414, Train Accuracy: 0.44226\n",
      "Epoch: 4, Val Loss: 0.36776646971702576, Val Accuracy: 0.434\n",
      "Epoch: 5, Train Loss: 0.2800515120734974, Train Accuracy: 0.45008\n",
      "Epoch: 5, Val Loss: 0.36151203513145447, Val Accuracy: 0.4378\n",
      "Epoch: 6, Train Loss: 0.25473200541217716, Train Accuracy: 0.45404\n",
      "Epoch: 6, Val Loss: 0.36933648586273193, Val Accuracy: 0.4379\n",
      "Epoch: 7, Train Loss: 0.2322071880406263, Train Accuracy: 0.45816\n",
      "Epoch: 7, Val Loss: 0.32162079215049744, Val Accuracy: 0.443\n",
      "Epoch: 8, Train Loss: 0.21308519626606484, Train Accuracy: 0.46198\n",
      "Epoch: 8, Val Loss: 0.32724830508232117, Val Accuracy: 0.4449\n",
      "Epoch: 9, Train Loss: 0.20630681195429393, Train Accuracy: 0.46432\n",
      "Epoch: 9, Val Loss: 0.3359322249889374, Val Accuracy: 0.4431\n",
      "Epoch: 10, Train Loss: 0.19567779892561388, Train Accuracy: 0.46562\n",
      "Epoch: 10, Val Loss: 0.29611527919769287, Val Accuracy: 0.4515\n",
      "Epoch: 11, Train Loss: 0.18100470317793743, Train Accuracy: 0.46754\n",
      "Epoch: 11, Val Loss: 0.30406948924064636, Val Accuracy: 0.4499\n",
      "Epoch: 12, Train Loss: 0.16961151654166834, Train Accuracy: 0.46886\n",
      "Epoch: 12, Val Loss: 0.32184576988220215, Val Accuracy: 0.448\n",
      "Epoch: 13, Train Loss: 0.16203590108043686, Train Accuracy: 0.47152\n",
      "Epoch: 13, Val Loss: 0.3168501555919647, Val Accuracy: 0.4495\n",
      "Epoch: 14, Train Loss: 0.1541588620985953, Train Accuracy: 0.47168\n",
      "Epoch: 14, Val Loss: 0.29498806595802307, Val Accuracy: 0.4547\n",
      "Epoch: 15, Train Loss: 0.14717723356978019, Train Accuracy: 0.47364\n",
      "Epoch: 15, Val Loss: 0.309784471988678, Val Accuracy: 0.454\n",
      "Epoch: 16, Train Loss: 0.139262445233002, Train Accuracy: 0.47458\n",
      "Epoch: 16, Val Loss: 0.2951483130455017, Val Accuracy: 0.4524\n",
      "Epoch: 17, Train Loss: 0.13219958059109596, Train Accuracy: 0.47644\n",
      "Epoch: 17, Val Loss: 0.29654696583747864, Val Accuracy: 0.453\n",
      "Epoch: 18, Train Loss: 0.12611525674939764, Train Accuracy: 0.47722\n",
      "Epoch: 18, Val Loss: 0.32618874311447144, Val Accuracy: 0.4476\n",
      "Epoch: 19, Train Loss: 0.1285517032505298, Train Accuracy: 0.47716\n",
      "Epoch: 19, Val Loss: 0.3235814869403839, Val Accuracy: 0.4493\n",
      "Epoch: 20, Train Loss: 0.11775275337870936, Train Accuracy: 0.47904\n",
      "Epoch: 20, Val Loss: 0.31330493092536926, Val Accuracy: 0.4521\n",
      "Epoch: 21, Train Loss: 0.11268382720953347, Train Accuracy: 0.48028\n",
      "Epoch: 21, Val Loss: 0.297098308801651, Val Accuracy: 0.4549\n",
      "Epoch: 22, Train Loss: 0.10816070608490584, Train Accuracy: 0.48098\n",
      "Epoch: 22, Val Loss: 0.31683850288391113, Val Accuracy: 0.453\n",
      "Epoch: 23, Train Loss: 0.1030995123259419, Train Accuracy: 0.48096\n",
      "Epoch: 23, Val Loss: 0.28474241495132446, Val Accuracy: 0.4546\n",
      "Epoch: 24, Train Loss: 0.10200317823613177, Train Accuracy: 0.48212\n",
      "Epoch: 24, Val Loss: 0.2938423156738281, Val Accuracy: 0.4531\n",
      "Epoch: 25, Train Loss: 0.10138857736233242, Train Accuracy: 0.48152\n",
      "Epoch: 25, Val Loss: 0.29620662331581116, Val Accuracy: 0.4559\n",
      "Epoch: 26, Train Loss: 0.09834795185288757, Train Accuracy: 0.4829\n",
      "Epoch: 26, Val Loss: 0.3288293778896332, Val Accuracy: 0.4506\n",
      "Epoch: 27, Train Loss: 0.0925957182118175, Train Accuracy: 0.48308\n",
      "Epoch: 27, Val Loss: 0.29175934195518494, Val Accuracy: 0.4565\n",
      "Epoch: 28, Train Loss: 0.08803731238241402, Train Accuracy: 0.48428\n",
      "Epoch: 28, Val Loss: 0.29576215147972107, Val Accuracy: 0.4579\n",
      "Epoch: 29, Train Loss: 0.07974316601698496, Train Accuracy: 0.4859\n",
      "Epoch: 29, Val Loss: 0.30927422642707825, Val Accuracy: 0.4541\n",
      "Epoch: 30, Train Loss: 0.0791965040036154, Train Accuracy: 0.48562\n",
      "Epoch: 30, Val Loss: 0.31945136189460754, Val Accuracy: 0.455\n"
     ]
    },
    {
     "data": {
      "text/html": [
       "Waiting for W&B process to finish... <strong style=\"color:green\">(success).</strong>"
      ],
      "text/plain": [
       "<IPython.core.display.HTML object>"
      ]
     },
     "metadata": {},
     "output_type": "display_data"
    },
    {
     "name": "stderr",
     "output_type": "stream",
     "text": [
      "wandb: Network error (TransientError), entering retry loop.\n",
      "wandb: Network error (TransientError), entering retry loop.\n",
      "wandb: Network error (TransientError), entering retry loop.\n",
      "wandb: Network error (TransientError), entering retry loop.\n",
      "wandb: Network error (TransientError), entering retry loop.\n",
      "wandb: Network error (TransientError), entering retry loop.\n",
      "wandb: Network error (TransientError), entering retry loop.\n",
      "wandb: Network error (TransientError), entering retry loop.\n",
      "wandb: Network error (TransientError), entering retry loop.\n",
      "wandb: Network error (TransientError), entering retry loop.\n",
      "wandb: Network error (TransientError), entering retry loop.\n",
      "wandb: Network error (TransientError), entering retry loop.\n",
      "wandb: Network error (TransientError), entering retry loop.\n",
      "wandb: Network error (TransientError), entering retry loop.\n",
      "wandb: Network error (TransientError), entering retry loop.\n"
     ]
    },
    {
     "data": {
      "text/html": [
       "<style>\n",
       "    table.wandb td:nth-child(1) { padding: 0 10px; text-align: left ; width: auto;} td:nth-child(2) {text-align: left ; width: 100%}\n",
       "    .wandb-row { display: flex; flex-direction: row; flex-wrap: wrap; justify-content: flex-start; width: 100% }\n",
       "    .wandb-col { display: flex; flex-direction: column; flex-basis: 100%; flex: 1; padding: 10px; }\n",
       "    </style>\n",
       "<div class=\"wandb-row\"><div class=\"wandb-col\"><h3>Run history:</h3><br/><table class=\"wandb\"><tr><td>train/epoch</td><td>▁▁▁▂▂▂▂▂▂▃▃▃▃▃▃▄▄▄▄▄▅▅▅▅▅▆▆▆▆▆▆▇▇▇▇▇▇███</td></tr><tr><td>train/example_ct</td><td>▁▁▁▂▂▂▂▂▂▃▃▃▃▃▃▄▄▄▄▄▅▅▅▅▅▅▆▆▆▆▆▇▇▇▇▇▇███</td></tr><tr><td>train/train_acc</td><td>▂▆▅▅▂▇▇▄▂▂▆▄▄▁▆▆▃██▅▃▂▇▅▄▂▇▆▄▁▁▆▃▃█▅▅▃▇▇</td></tr><tr><td>train/train_loss</td><td>█▇▇▄▄▃▃▅▃▄▄▃▄▂▄▂▂▂▃▂▁▃▂▂▂▂▃▂▄▃▂▃▁▁▂▂▁▁▂▂</td></tr><tr><td>val/epoch</td><td>▁▁▁▂▂▂▂▃▃▃▃▄▄▄▄▅▅▅▅▆▆▆▆▇▇▇▇███</td></tr><tr><td>val/val_acc</td><td>▁▄▄▅▅▅▆▆▆▇▇▇▇█▇▇▇▇▇▇█▇█▇█▇██▇█</td></tr><tr><td>val/val_loss</td><td>█▅▆▄▄▄▂▂▃▁▂▂▂▁▂▁▁▂▂▂▁▂▁▁▁▂▁▁▂▂</td></tr></table><br/></div><div class=\"wandb-col\"><h3>Run summary:</h3><br/><table class=\"wandb\"><tr><td>train/epoch</td><td>29.50128</td></tr><tr><td>train/example_ct</td><td>750000</td></tr><tr><td>train/train_acc</td><td>0.48562</td></tr><tr><td>train/train_loss</td><td>0.05481</td></tr><tr><td>train_loss</td><td>0.0792</td></tr><tr><td>val/epoch</td><td>29.50128</td></tr><tr><td>val/val_acc</td><td>0.455</td></tr><tr><td>val/val_loss</td><td>0.31945</td></tr></table><br/></div></div>"
      ],
      "text/plain": [
       "<IPython.core.display.HTML object>"
      ]
     },
     "metadata": {},
     "output_type": "display_data"
    },
    {
     "data": {
      "text/html": [
       " View run <strong style=\"color:#cdcd00\">ResNet18_Relu_Adam</strong> at: <a href='https://wandb.ai/ayushabrol13/B20AI052_Lab_Assignment_8/runs/a91eit7l' target=\"_blank\">https://wandb.ai/ayushabrol13/B20AI052_Lab_Assignment_8/runs/a91eit7l</a><br/>Synced 5 W&B file(s), 1 media file(s), 129 artifact file(s) and 0 other file(s)"
      ],
      "text/plain": [
       "<IPython.core.display.HTML object>"
      ]
     },
     "metadata": {},
     "output_type": "display_data"
    },
    {
     "data": {
      "text/html": [
       "Find logs at: <code>./wandb/run-20230418_163217-a91eit7l/logs</code>"
      ],
      "text/plain": [
       "<IPython.core.display.HTML object>"
      ]
     },
     "metadata": {},
     "output_type": "display_data"
    },
    {
     "name": "stdout",
     "output_type": "stream",
     "text": [
      "Activation: Tanh, Optimizer: RMSprop\n"
     ]
    },
    {
     "data": {
      "application/vnd.jupyter.widget-view+json": {
       "model_id": "fdc293ca167445dca2febb41f421fd6b",
       "version_major": 2,
       "version_minor": 0
      },
      "text/plain": [
       "VBox(children=(Label(value='Waiting for wandb.init()...\\r'), FloatProgress(value=0.01666852103333175, max=1.0)…"
      ]
     },
     "metadata": {},
     "output_type": "display_data"
    },
    {
     "data": {
      "text/html": [
       "Tracking run with wandb version 0.14.2"
      ],
      "text/plain": [
       "<IPython.core.display.HTML object>"
      ]
     },
     "metadata": {},
     "output_type": "display_data"
    },
    {
     "data": {
      "text/html": [
       "Run data is saved locally in <code>/home/ayushabrol/Desktop/DLOps_Lab_8/wandb/run-20230418_164103-i8ro8yzf</code>"
      ],
      "text/plain": [
       "<IPython.core.display.HTML object>"
      ]
     },
     "metadata": {},
     "output_type": "display_data"
    },
    {
     "data": {
      "text/html": [
       "Syncing run <strong><a href='https://wandb.ai/ayushabrol13/B20AI052_Lab_Assignment_8/runs/i8ro8yzf' target=\"_blank\">ResNet18_Tanh_RMSprop</a></strong> to <a href='https://wandb.ai/ayushabrol13/B20AI052_Lab_Assignment_8' target=\"_blank\">Weights & Biases</a> (<a href='https://wandb.me/run' target=\"_blank\">docs</a>)<br/>"
      ],
      "text/plain": [
       "<IPython.core.display.HTML object>"
      ]
     },
     "metadata": {},
     "output_type": "display_data"
    },
    {
     "data": {
      "text/html": [
       " View project at <a href='https://wandb.ai/ayushabrol13/B20AI052_Lab_Assignment_8' target=\"_blank\">https://wandb.ai/ayushabrol13/B20AI052_Lab_Assignment_8</a>"
      ],
      "text/plain": [
       "<IPython.core.display.HTML object>"
      ]
     },
     "metadata": {},
     "output_type": "display_data"
    },
    {
     "data": {
      "text/html": [
       " View run at <a href='https://wandb.ai/ayushabrol13/B20AI052_Lab_Assignment_8/runs/i8ro8yzf' target=\"_blank\">https://wandb.ai/ayushabrol13/B20AI052_Lab_Assignment_8/runs/i8ro8yzf</a>"
      ],
      "text/plain": [
       "<IPython.core.display.HTML object>"
      ]
     },
     "metadata": {},
     "output_type": "display_data"
    },
    {
     "name": "stdout",
     "output_type": "stream",
     "text": [
      "Epoch: 1, Train Loss: 1.2426371556155535, Train Accuracy: 0.33668\n",
      "Epoch: 1, Val Loss: 1.2153944969177246, Val Accuracy: 0.3462\n",
      "Epoch: 2, Train Loss: 1.0848508988107954, Train Accuracy: 0.39884\n",
      "Epoch: 2, Val Loss: 1.060489535331726, Val Accuracy: 0.4056\n",
      "Epoch: 3, Train Loss: 1.0441830942825394, Train Accuracy: 0.4142\n",
      "Epoch: 3, Val Loss: 1.0636118650436401, Val Accuracy: 0.4126\n",
      "Epoch: 4, Train Loss: 1.0177684064422334, Train Accuracy: 0.4209\n",
      "Epoch: 4, Val Loss: 1.0544580221176147, Val Accuracy: 0.4097\n",
      "Epoch: 5, Train Loss: 1.0083163617825022, Train Accuracy: 0.42592\n",
      "Epoch: 5, Val Loss: 1.0470991134643555, Val Accuracy: 0.4103\n",
      "Epoch: 6, Train Loss: 0.9946615054291121, Train Accuracy: 0.43088\n",
      "Epoch: 6, Val Loss: 1.0256317853927612, Val Accuracy: 0.4186\n",
      "Epoch: 7, Train Loss: 0.9839968133945854, Train Accuracy: 0.43424\n",
      "Epoch: 7, Val Loss: 1.0132330656051636, Val Accuracy: 0.4285\n",
      "Epoch: 8, Train Loss: 0.9727302996479735, Train Accuracy: 0.43858\n",
      "Epoch: 8, Val Loss: 1.0362967252731323, Val Accuracy: 0.4147\n",
      "Epoch: 9, Train Loss: 0.9615924160699455, Train Accuracy: 0.44292\n",
      "Epoch: 9, Val Loss: 0.97699373960495, Val Accuracy: 0.4368\n",
      "Epoch: 10, Train Loss: 0.954232936610981, Train Accuracy: 0.44558\n",
      "Epoch: 10, Val Loss: 1.0252405405044556, Val Accuracy: 0.4197\n",
      "Epoch: 11, Train Loss: 0.9515181390606627, Train Accuracy: 0.44626\n",
      "Epoch: 11, Val Loss: 0.9825425148010254, Val Accuracy: 0.4353\n",
      "Epoch: 12, Train Loss: 0.9419693396407731, Train Accuracy: 0.4486\n",
      "Epoch: 12, Val Loss: 1.019342064857483, Val Accuracy: 0.4203\n",
      "Epoch: 13, Train Loss: 0.9404520395458961, Train Accuracy: 0.45004\n",
      "Epoch: 13, Val Loss: 0.9645156264305115, Val Accuracy: 0.4428\n",
      "Epoch: 14, Train Loss: 0.9332120914240273, Train Accuracy: 0.45284\n",
      "Epoch: 14, Val Loss: 0.9784947633743286, Val Accuracy: 0.4359\n",
      "Epoch: 15, Train Loss: 0.9292769258727833, Train Accuracy: 0.45402\n",
      "Epoch: 15, Val Loss: 1.0049833059310913, Val Accuracy: 0.428\n",
      "Epoch: 16, Train Loss: 0.9263297924581839, Train Accuracy: 0.45496\n",
      "Epoch: 16, Val Loss: 0.9674071669578552, Val Accuracy: 0.4447\n",
      "Epoch: 17, Train Loss: 0.9198961619819913, Train Accuracy: 0.45764\n",
      "Epoch: 17, Val Loss: 0.9745030403137207, Val Accuracy: 0.443\n",
      "Epoch: 18, Train Loss: 0.9134237942646961, Train Accuracy: 0.459\n",
      "Epoch: 18, Val Loss: 0.9782252311706543, Val Accuracy: 0.439\n",
      "Epoch: 19, Train Loss: 0.912710404213594, Train Accuracy: 0.45956\n",
      "Epoch: 19, Val Loss: 0.9623607993125916, Val Accuracy: 0.4442\n",
      "Epoch: 20, Train Loss: 0.9129059208290917, Train Accuracy: 0.45976\n",
      "Epoch: 20, Val Loss: 0.9690772294998169, Val Accuracy: 0.4408\n",
      "Epoch: 21, Train Loss: 0.9084102420174346, Train Accuracy: 0.46058\n",
      "Epoch: 21, Val Loss: 0.9634199142456055, Val Accuracy: 0.4425\n",
      "Epoch: 22, Train Loss: 0.9030508821716114, Train Accuracy: 0.46288\n",
      "Epoch: 22, Val Loss: 0.9586581587791443, Val Accuracy: 0.4473\n",
      "Epoch: 23, Train Loss: 0.9032398507911332, Train Accuracy: 0.46328\n",
      "Epoch: 23, Val Loss: 0.9513888359069824, Val Accuracy: 0.4478\n",
      "Epoch: 24, Train Loss: 0.8976245665428589, Train Accuracy: 0.46476\n",
      "Epoch: 24, Val Loss: 0.9861359596252441, Val Accuracy: 0.438\n",
      "Epoch: 25, Train Loss: 0.9008138933960272, Train Accuracy: 0.4642\n",
      "Epoch: 25, Val Loss: 0.96221524477005, Val Accuracy: 0.4411\n",
      "Epoch: 26, Train Loss: 0.8927799618365814, Train Accuracy: 0.46604\n",
      "Epoch: 26, Val Loss: 0.9964771270751953, Val Accuracy: 0.4329\n",
      "Epoch: 27, Train Loss: 0.8979349476950509, Train Accuracy: 0.46542\n",
      "Epoch: 27, Val Loss: 0.9791885614395142, Val Accuracy: 0.4394\n",
      "Epoch: 28, Train Loss: 0.8903253720122941, Train Accuracy: 0.46812\n",
      "Epoch: 28, Val Loss: 0.9743167161941528, Val Accuracy: 0.4385\n",
      "Epoch: 29, Train Loss: 0.8923785923695078, Train Accuracy: 0.46618\n",
      "Epoch: 29, Val Loss: 0.9529843330383301, Val Accuracy: 0.4472\n",
      "Epoch: 30, Train Loss: 0.8899260683327305, Train Accuracy: 0.4674\n",
      "Epoch: 30, Val Loss: 0.9604506492614746, Val Accuracy: 0.4451\n"
     ]
    },
    {
     "data": {
      "text/html": [
       "Waiting for W&B process to finish... <strong style=\"color:green\">(success).</strong>"
      ],
      "text/plain": [
       "<IPython.core.display.HTML object>"
      ]
     },
     "metadata": {},
     "output_type": "display_data"
    },
    {
     "data": {
      "text/html": [
       "<style>\n",
       "    table.wandb td:nth-child(1) { padding: 0 10px; text-align: left ; width: auto;} td:nth-child(2) {text-align: left ; width: 100%}\n",
       "    .wandb-row { display: flex; flex-direction: row; flex-wrap: wrap; justify-content: flex-start; width: 100% }\n",
       "    .wandb-col { display: flex; flex-direction: column; flex-basis: 100%; flex: 1; padding: 10px; }\n",
       "    </style>\n",
       "<div class=\"wandb-row\"><div class=\"wandb-col\"><h3>Run history:</h3><br/><table class=\"wandb\"><tr><td>train/epoch</td><td>▁▁▁▂▂▂▂▂▂▃▃▃▃▃▃▄▄▄▄▄▅▅▅▅▅▆▆▆▆▆▆▇▇▇▇▇▇███</td></tr><tr><td>train/example_ct</td><td>▁▁▁▂▂▂▂▂▂▃▃▃▃▃▃▄▄▄▄▄▅▅▅▅▅▅▆▆▆▆▆▇▇▇▇▇▇███</td></tr><tr><td>train/train_acc</td><td>▂▆▅▅▂▇▇▄▂▂▆▄▄▁▆▆▃██▅▂▂▇▅▄▂▇▆▄▁▁▆▃▃█▅▅▂▇▇</td></tr><tr><td>train/train_loss</td><td>█▅▅▅▄▄▄▃▃▃▃▄▄▃▃▂▂▃▃▂▂▂▃▃▂▃▃▂▂▂▂▃▂▁▁▂▂▂▂▂</td></tr><tr><td>val/epoch</td><td>▁▁▁▂▂▂▂▃▃▃▃▄▄▄▄▅▅▅▅▆▆▆▆▇▇▇▇███</td></tr><tr><td>val/val_acc</td><td>▁▅▆▅▅▆▇▆▇▆▇▆█▇▇██▇█████▇█▇▇▇██</td></tr><tr><td>val/val_loss</td><td>█▄▄▄▄▃▃▃▂▃▂▃▁▂▂▁▂▂▁▁▁▁▁▂▁▂▂▂▁▁</td></tr></table><br/></div><div class=\"wandb-col\"><h3>Run summary:</h3><br/><table class=\"wandb\"><tr><td>train/epoch</td><td>29.50128</td></tr><tr><td>train/example_ct</td><td>750000</td></tr><tr><td>train/train_acc</td><td>0.4674</td></tr><tr><td>train/train_loss</td><td>0.94385</td></tr><tr><td>train_loss</td><td>0.88993</td></tr><tr><td>val/epoch</td><td>29.50128</td></tr><tr><td>val/val_acc</td><td>0.4451</td></tr><tr><td>val/val_loss</td><td>0.96045</td></tr></table><br/></div></div>"
      ],
      "text/plain": [
       "<IPython.core.display.HTML object>"
      ]
     },
     "metadata": {},
     "output_type": "display_data"
    },
    {
     "data": {
      "text/html": [
       " View run <strong style=\"color:#cdcd00\">ResNet18_Tanh_RMSprop</strong> at: <a href='https://wandb.ai/ayushabrol13/B20AI052_Lab_Assignment_8/runs/i8ro8yzf' target=\"_blank\">https://wandb.ai/ayushabrol13/B20AI052_Lab_Assignment_8/runs/i8ro8yzf</a><br/>Synced 5 W&B file(s), 1 media file(s), 129 artifact file(s) and 0 other file(s)"
      ],
      "text/plain": [
       "<IPython.core.display.HTML object>"
      ]
     },
     "metadata": {},
     "output_type": "display_data"
    },
    {
     "data": {
      "text/html": [
       "Find logs at: <code>./wandb/run-20230418_164103-i8ro8yzf/logs</code>"
      ],
      "text/plain": [
       "<IPython.core.display.HTML object>"
      ]
     },
     "metadata": {},
     "output_type": "display_data"
    },
    {
     "name": "stdout",
     "output_type": "stream",
     "text": [
      "Activation: Relu, Optimizer: SGD\n"
     ]
    },
    {
     "data": {
      "application/vnd.jupyter.widget-view+json": {
       "model_id": "3915168705a14c24a1a07d6ac46d2595",
       "version_major": 2,
       "version_minor": 0
      },
      "text/plain": [
       "VBox(children=(Label(value='Waiting for wandb.init()...\\r'), FloatProgress(value=0.016672658400000272, max=1.0…"
      ]
     },
     "metadata": {},
     "output_type": "display_data"
    },
    {
     "data": {
      "text/html": [
       "Tracking run with wandb version 0.14.2"
      ],
      "text/plain": [
       "<IPython.core.display.HTML object>"
      ]
     },
     "metadata": {},
     "output_type": "display_data"
    },
    {
     "data": {
      "text/html": [
       "Run data is saved locally in <code>/home/ayushabrol/Desktop/DLOps_Lab_8/wandb/run-20230418_164932-mr96p6xp</code>"
      ],
      "text/plain": [
       "<IPython.core.display.HTML object>"
      ]
     },
     "metadata": {},
     "output_type": "display_data"
    },
    {
     "data": {
      "text/html": [
       "Syncing run <strong><a href='https://wandb.ai/ayushabrol13/B20AI052_Lab_Assignment_8/runs/mr96p6xp' target=\"_blank\">ResNet18_Relu_SGD</a></strong> to <a href='https://wandb.ai/ayushabrol13/B20AI052_Lab_Assignment_8' target=\"_blank\">Weights & Biases</a> (<a href='https://wandb.me/run' target=\"_blank\">docs</a>)<br/>"
      ],
      "text/plain": [
       "<IPython.core.display.HTML object>"
      ]
     },
     "metadata": {},
     "output_type": "display_data"
    },
    {
     "data": {
      "text/html": [
       " View project at <a href='https://wandb.ai/ayushabrol13/B20AI052_Lab_Assignment_8' target=\"_blank\">https://wandb.ai/ayushabrol13/B20AI052_Lab_Assignment_8</a>"
      ],
      "text/plain": [
       "<IPython.core.display.HTML object>"
      ]
     },
     "metadata": {},
     "output_type": "display_data"
    },
    {
     "data": {
      "text/html": [
       " View run at <a href='https://wandb.ai/ayushabrol13/B20AI052_Lab_Assignment_8/runs/mr96p6xp' target=\"_blank\">https://wandb.ai/ayushabrol13/B20AI052_Lab_Assignment_8/runs/mr96p6xp</a>"
      ],
      "text/plain": [
       "<IPython.core.display.HTML object>"
      ]
     },
     "metadata": {},
     "output_type": "display_data"
    },
    {
     "name": "stdout",
     "output_type": "stream",
     "text": [
      "Epoch: 1, Train Loss: 2.12154213263064, Train Accuracy: 0.12538\n",
      "Epoch: 1, Val Loss: 1.8209803104400635, Val Accuracy: 0.1835\n",
      "Epoch: 2, Train Loss: 1.5963566108625762, Train Accuracy: 0.2095\n",
      "Epoch: 2, Val Loss: 1.412427306175232, Val Accuracy: 0.2412\n",
      "Epoch: 3, Train Loss: 1.3363265875650912, Train Accuracy: 0.25102\n",
      "Epoch: 3, Val Loss: 1.2749440670013428, Val Accuracy: 0.261\n",
      "Epoch: 4, Train Loss: 1.200170137444321, Train Accuracy: 0.2748\n",
      "Epoch: 4, Val Loss: 1.1623786687850952, Val Accuracy: 0.2826\n",
      "Epoch: 5, Train Loss: 1.1199196774740607, Train Accuracy: 0.28622\n",
      "Epoch: 5, Val Loss: 1.0991710424423218, Val Accuracy: 0.291\n",
      "Epoch: 6, Train Loss: 1.054391895021711, Train Accuracy: 0.29764\n",
      "Epoch: 6, Val Loss: 1.0382473468780518, Val Accuracy: 0.3015\n",
      "Epoch: 7, Train Loss: 1.0078086047148218, Train Accuracy: 0.30664\n",
      "Epoch: 7, Val Loss: 0.9934707880020142, Val Accuracy: 0.3051\n",
      "Epoch: 8, Train Loss: 0.9701538165004886, Train Accuracy: 0.31442\n",
      "Epoch: 8, Val Loss: 0.9488588571548462, Val Accuracy: 0.3169\n",
      "Epoch: 9, Train Loss: 0.9353149271741206, Train Accuracy: 0.3195\n",
      "Epoch: 9, Val Loss: 0.9522747993469238, Val Accuracy: 0.3192\n",
      "Epoch: 10, Train Loss: 0.9079591391646132, Train Accuracy: 0.32548\n",
      "Epoch: 10, Val Loss: 0.8852073550224304, Val Accuracy: 0.3297\n",
      "Epoch: 11, Train Loss: 0.8826039135456085, Train Accuracy: 0.33052\n",
      "Epoch: 11, Val Loss: 0.8616213202476501, Val Accuracy: 0.3357\n",
      "Epoch: 12, Train Loss: 0.8620726834146344, Train Accuracy: 0.33418\n",
      "Epoch: 12, Val Loss: 0.8535367846488953, Val Accuracy: 0.3363\n",
      "Epoch: 13, Train Loss: 0.8420548974251261, Train Accuracy: 0.33776\n",
      "Epoch: 13, Val Loss: 0.8516839146614075, Val Accuracy: 0.3381\n",
      "Epoch: 14, Train Loss: 0.8239467499815688, Train Accuracy: 0.3416\n",
      "Epoch: 14, Val Loss: 0.8255550265312195, Val Accuracy: 0.3384\n",
      "Epoch: 15, Train Loss: 0.8028093123314332, Train Accuracy: 0.34664\n",
      "Epoch: 15, Val Loss: 0.8129301071166992, Val Accuracy: 0.346\n",
      "Epoch: 16, Train Loss: 0.7896966231720788, Train Accuracy: 0.34846\n",
      "Epoch: 16, Val Loss: 0.8049644827842712, Val Accuracy: 0.342\n",
      "Epoch: 17, Train Loss: 0.7680490503505785, Train Accuracy: 0.35258\n",
      "Epoch: 17, Val Loss: 0.777884840965271, Val Accuracy: 0.3477\n",
      "Epoch: 18, Train Loss: 0.7583353127143821, Train Accuracy: 0.3543\n",
      "Epoch: 18, Val Loss: 0.788007915019989, Val Accuracy: 0.3497\n",
      "Epoch: 19, Train Loss: 0.7534968497193589, Train Accuracy: 0.35624\n",
      "Epoch: 19, Val Loss: 0.7703983187675476, Val Accuracy: 0.3513\n",
      "Epoch: 20, Train Loss: 0.7405018240821605, Train Accuracy: 0.36094\n",
      "Epoch: 20, Val Loss: 0.753537118434906, Val Accuracy: 0.3561\n",
      "Epoch: 21, Train Loss: 0.7250965486983864, Train Accuracy: 0.36352\n",
      "Epoch: 21, Val Loss: 0.7322202324867249, Val Accuracy: 0.3589\n",
      "Epoch: 22, Train Loss: 0.7161151064293725, Train Accuracy: 0.36356\n",
      "Epoch: 22, Val Loss: 0.7310483455657959, Val Accuracy: 0.3583\n",
      "Epoch: 23, Train Loss: 0.7098391308468215, Train Accuracy: 0.36606\n",
      "Epoch: 23, Val Loss: 0.7264350652694702, Val Accuracy: 0.3613\n",
      "Epoch: 24, Train Loss: 0.7019914374971876, Train Accuracy: 0.3676\n",
      "Epoch: 24, Val Loss: 0.7095595598220825, Val Accuracy: 0.3642\n",
      "Epoch: 25, Train Loss: 0.6965861156278726, Train Accuracy: 0.36962\n",
      "Epoch: 25, Val Loss: 0.7081524729728699, Val Accuracy: 0.3633\n",
      "Epoch: 26, Train Loss: 0.6831865629979542, Train Accuracy: 0.37024\n",
      "Epoch: 26, Val Loss: 0.7081741690635681, Val Accuracy: 0.3629\n",
      "Epoch: 27, Train Loss: 0.6769793503442589, Train Accuracy: 0.37188\n",
      "Epoch: 27, Val Loss: 0.7136088609695435, Val Accuracy: 0.3645\n",
      "Epoch: 28, Train Loss: 0.6678434354918343, Train Accuracy: 0.37492\n",
      "Epoch: 28, Val Loss: 0.6882356405258179, Val Accuracy: 0.368\n",
      "Epoch: 29, Train Loss: 0.6598114593296635, Train Accuracy: 0.37598\n",
      "Epoch: 29, Val Loss: 0.6831559538841248, Val Accuracy: 0.3717\n",
      "Epoch: 30, Train Loss: 0.6500222517215476, Train Accuracy: 0.37874\n",
      "Epoch: 30, Val Loss: 0.6796780228614807, Val Accuracy: 0.3723\n"
     ]
    },
    {
     "data": {
      "text/html": [
       "Waiting for W&B process to finish... <strong style=\"color:green\">(success).</strong>"
      ],
      "text/plain": [
       "<IPython.core.display.HTML object>"
      ]
     },
     "metadata": {},
     "output_type": "display_data"
    },
    {
     "name": "stderr",
     "output_type": "stream",
     "text": [
      "wandb: Network error (TransientError), entering retry loop.\n",
      "wandb: Network error (TransientError), entering retry loop.\n",
      "wandb: Network error (TransientError), entering retry loop.\n",
      "wandb: Network error (TransientError), entering retry loop.\n",
      "wandb: Network error (TransientError), entering retry loop.\n",
      "wandb: Network error (TransientError), entering retry loop.\n",
      "wandb: Network error (TransientError), entering retry loop.\n",
      "wandb: Network error (TransientError), entering retry loop.\n",
      "wandb: Network error (TransientError), entering retry loop.\n",
      "wandb: Network error (TransientError), entering retry loop.\n",
      "wandb: Network error (TransientError), entering retry loop.\n",
      "wandb: Network error (TransientError), entering retry loop.\n",
      "wandb: Network error (TransientError), entering retry loop.\n",
      "wandb: Network error (TransientError), entering retry loop.\n",
      "wandb: Network error (TransientError), entering retry loop.\n",
      "wandb: Network error (TransientError), entering retry loop.\n",
      "wandb: Network error (TransientError), entering retry loop.\n",
      "wandb: Network error (TransientError), entering retry loop.\n",
      "wandb: Network error (TransientError), entering retry loop.\n",
      "wandb: Network error (TransientError), entering retry loop.\n",
      "wandb: Network error (TransientError), entering retry loop.\n",
      "wandb: Network error (TransientError), entering retry loop.\n",
      "wandb: Network error (TransientError), entering retry loop.\n",
      "wandb: Network error (TransientError), entering retry loop.\n",
      "wandb: Network error (TransientError), entering retry loop.\n",
      "wandb: Network error (TransientError), entering retry loop.\n",
      "wandb: Network error (TransientError), entering retry loop.\n"
     ]
    },
    {
     "data": {
      "text/html": [
       "<style>\n",
       "    table.wandb td:nth-child(1) { padding: 0 10px; text-align: left ; width: auto;} td:nth-child(2) {text-align: left ; width: 100%}\n",
       "    .wandb-row { display: flex; flex-direction: row; flex-wrap: wrap; justify-content: flex-start; width: 100% }\n",
       "    .wandb-col { display: flex; flex-direction: column; flex-basis: 100%; flex: 1; padding: 10px; }\n",
       "    </style>\n",
       "<div class=\"wandb-row\"><div class=\"wandb-col\"><h3>Run history:</h3><br/><table class=\"wandb\"><tr><td>train/epoch</td><td>▁▁▁▂▂▂▂▂▂▃▃▃▃▃▃▄▄▄▄▄▅▅▅▅▅▆▆▆▆▆▆▇▇▇▇▇▇███</td></tr><tr><td>train/example_ct</td><td>▁▁▁▂▂▂▂▂▂▃▃▃▃▃▃▄▄▄▄▄▅▅▅▅▅▅▆▆▆▆▆▇▇▇▇▇▇███</td></tr><tr><td>train/train_acc</td><td>▁▃▃▃▂▆▆▄▂▁▆▃▃▁▅▅▃▇▇▅▂▂▇▄▄▂▇▆▄▁▁▆▃▃█▅▅▃█▇</td></tr><tr><td>train/train_loss</td><td>█▆▅▄▄▄▄▃▃▃▃▃▃▂▂▂▃▂▂▂▃▂▂▂▂▂▁▂▂▁▃▁▁▂▁▁▁▁▂▂</td></tr><tr><td>val/epoch</td><td>▁▁▁▂▂▂▂▃▃▃▃▄▄▄▄▅▅▅▅▆▆▆▆▇▇▇▇███</td></tr><tr><td>val/val_acc</td><td>▁▃▄▅▅▅▆▆▆▆▇▇▇▇▇▇▇▇▇▇█▇████████</td></tr><tr><td>val/val_loss</td><td>█▅▅▄▄▃▃▃▃▂▂▂▂▂▂▂▂▂▂▁▁▁▁▁▁▁▁▁▁▁</td></tr></table><br/></div><div class=\"wandb-col\"><h3>Run summary:</h3><br/><table class=\"wandb\"><tr><td>train/epoch</td><td>29.50128</td></tr><tr><td>train/example_ct</td><td>750000</td></tr><tr><td>train/train_acc</td><td>0.37874</td></tr><tr><td>train/train_loss</td><td>0.56558</td></tr><tr><td>train_loss</td><td>0.65002</td></tr><tr><td>val/epoch</td><td>29.50128</td></tr><tr><td>val/val_acc</td><td>0.3723</td></tr><tr><td>val/val_loss</td><td>0.67968</td></tr></table><br/></div></div>"
      ],
      "text/plain": [
       "<IPython.core.display.HTML object>"
      ]
     },
     "metadata": {},
     "output_type": "display_data"
    },
    {
     "data": {
      "text/html": [
       " View run <strong style=\"color:#cdcd00\">ResNet18_Relu_SGD</strong> at: <a href='https://wandb.ai/ayushabrol13/B20AI052_Lab_Assignment_8/runs/mr96p6xp' target=\"_blank\">https://wandb.ai/ayushabrol13/B20AI052_Lab_Assignment_8/runs/mr96p6xp</a><br/>Synced 5 W&B file(s), 1 media file(s), 129 artifact file(s) and 0 other file(s)"
      ],
      "text/plain": [
       "<IPython.core.display.HTML object>"
      ]
     },
     "metadata": {},
     "output_type": "display_data"
    },
    {
     "data": {
      "text/html": [
       "Find logs at: <code>./wandb/run-20230418_164932-mr96p6xp/logs</code>"
      ],
      "text/plain": [
       "<IPython.core.display.HTML object>"
      ]
     },
     "metadata": {},
     "output_type": "display_data"
    },
    {
     "name": "stdout",
     "output_type": "stream",
     "text": [
      "Activation: Sigmoid, Optimizer: SGD\n"
     ]
    },
    {
     "data": {
      "application/vnd.jupyter.widget-view+json": {
       "model_id": "ff4cbadf51444c948abbcc6dff53fecc",
       "version_major": 2,
       "version_minor": 0
      },
      "text/plain": [
       "VBox(children=(Label(value='Waiting for wandb.init()...\\r'), FloatProgress(value=0.016668759933331025, max=1.0…"
      ]
     },
     "metadata": {},
     "output_type": "display_data"
    },
    {
     "data": {
      "text/html": [
       "Tracking run with wandb version 0.14.2"
      ],
      "text/plain": [
       "<IPython.core.display.HTML object>"
      ]
     },
     "metadata": {},
     "output_type": "display_data"
    },
    {
     "data": {
      "text/html": [
       "Run data is saved locally in <code>/home/ayushabrol/Desktop/DLOps_Lab_8/wandb/run-20230418_165812-dva5bgpd</code>"
      ],
      "text/plain": [
       "<IPython.core.display.HTML object>"
      ]
     },
     "metadata": {},
     "output_type": "display_data"
    },
    {
     "data": {
      "text/html": [
       "Syncing run <strong><a href='https://wandb.ai/ayushabrol13/B20AI052_Lab_Assignment_8/runs/dva5bgpd' target=\"_blank\">ResNet18_Sigmoid_SGD</a></strong> to <a href='https://wandb.ai/ayushabrol13/B20AI052_Lab_Assignment_8' target=\"_blank\">Weights & Biases</a> (<a href='https://wandb.me/run' target=\"_blank\">docs</a>)<br/>"
      ],
      "text/plain": [
       "<IPython.core.display.HTML object>"
      ]
     },
     "metadata": {},
     "output_type": "display_data"
    },
    {
     "data": {
      "text/html": [
       " View project at <a href='https://wandb.ai/ayushabrol13/B20AI052_Lab_Assignment_8' target=\"_blank\">https://wandb.ai/ayushabrol13/B20AI052_Lab_Assignment_8</a>"
      ],
      "text/plain": [
       "<IPython.core.display.HTML object>"
      ]
     },
     "metadata": {},
     "output_type": "display_data"
    },
    {
     "data": {
      "text/html": [
       " View run at <a href='https://wandb.ai/ayushabrol13/B20AI052_Lab_Assignment_8/runs/dva5bgpd' target=\"_blank\">https://wandb.ai/ayushabrol13/B20AI052_Lab_Assignment_8/runs/dva5bgpd</a>"
      ],
      "text/plain": [
       "<IPython.core.display.HTML object>"
      ]
     },
     "metadata": {},
     "output_type": "display_data"
    },
    {
     "name": "stdout",
     "output_type": "stream",
     "text": [
      "Epoch: 1, Train Loss: 2.2784721279630857, Train Accuracy: 0.06904\n",
      "Epoch: 1, Val Loss: 2.224292516708374, Val Accuracy: 0.1025\n",
      "Epoch: 2, Train Loss: 2.173115529576126, Train Accuracy: 0.12666\n",
      "Epoch: 2, Val Loss: 2.1325271129608154, Val Accuracy: 0.1421\n",
      "Epoch: 3, Train Loss: 2.1001930918012346, Train Accuracy: 0.1543\n",
      "Epoch: 3, Val Loss: 2.0761682987213135, Val Accuracy: 0.1586\n",
      "Epoch: 4, Train Loss: 2.051943431095201, Train Accuracy: 0.1734\n",
      "Epoch: 4, Val Loss: 2.033628225326538, Val Accuracy: 0.1821\n",
      "Epoch: 5, Train Loss: 2.0182391721375135, Train Accuracy: 0.18574\n",
      "Epoch: 5, Val Loss: 2.003347635269165, Val Accuracy: 0.1921\n",
      "Epoch: 6, Train Loss: 1.9955183936625112, Train Accuracy: 0.1947\n",
      "Epoch: 6, Val Loss: 1.9829120635986328, Val Accuracy: 0.2055\n",
      "Epoch: 7, Train Loss: 1.975562861379312, Train Accuracy: 0.20408\n",
      "Epoch: 7, Val Loss: 1.9694302082061768, Val Accuracy: 0.2046\n",
      "Epoch: 8, Train Loss: 1.9626211809868714, Train Accuracy: 0.20924\n",
      "Epoch: 8, Val Loss: 1.9547830820083618, Val Accuracy: 0.2118\n",
      "Epoch: 9, Train Loss: 1.9503340575159813, Train Accuracy: 0.21542\n",
      "Epoch: 9, Val Loss: 1.942724585533142, Val Accuracy: 0.221\n",
      "Epoch: 10, Train Loss: 1.9394793911856048, Train Accuracy: 0.2219\n",
      "Epoch: 10, Val Loss: 1.934596061706543, Val Accuracy: 0.2255\n",
      "Epoch: 11, Train Loss: 1.93036081900402, Train Accuracy: 0.22178\n",
      "Epoch: 11, Val Loss: 1.9266700744628906, Val Accuracy: 0.2278\n",
      "Epoch: 12, Train Loss: 1.921360763360043, Train Accuracy: 0.22868\n",
      "Epoch: 12, Val Loss: 1.9178800582885742, Val Accuracy: 0.233\n",
      "Epoch: 13, Train Loss: 1.9133553973266058, Train Accuracy: 0.22988\n",
      "Epoch: 13, Val Loss: 1.9076191186904907, Val Accuracy: 0.2347\n",
      "Epoch: 14, Train Loss: 1.9060533855642592, Train Accuracy: 0.23472\n",
      "Epoch: 14, Val Loss: 1.8992782831192017, Val Accuracy: 0.2363\n",
      "Epoch: 15, Train Loss: 1.89773654816102, Train Accuracy: 0.23792\n",
      "Epoch: 15, Val Loss: 1.895241618156433, Val Accuracy: 0.237\n",
      "Epoch: 16, Train Loss: 1.89081693912039, Train Accuracy: 0.23924\n",
      "Epoch: 16, Val Loss: 1.8842642307281494, Val Accuracy: 0.2416\n",
      "Epoch: 17, Train Loss: 1.8836357386744753, Train Accuracy: 0.24128\n",
      "Epoch: 17, Val Loss: 1.8778289556503296, Val Accuracy: 0.2444\n",
      "Epoch: 18, Train Loss: 1.8764234343353583, Train Accuracy: 0.24624\n",
      "Epoch: 18, Val Loss: 1.8731005191802979, Val Accuracy: 0.2501\n",
      "Epoch: 19, Train Loss: 1.8699032445343173, Train Accuracy: 0.24942\n",
      "Epoch: 19, Val Loss: 1.868786096572876, Val Accuracy: 0.2452\n",
      "Epoch: 20, Train Loss: 1.8635090899710753, Train Accuracy: 0.25146\n",
      "Epoch: 20, Val Loss: 1.861038088798523, Val Accuracy: 0.2474\n",
      "Epoch: 21, Train Loss: 1.857369425953651, Train Accuracy: 0.25328\n",
      "Epoch: 21, Val Loss: 1.8528385162353516, Val Accuracy: 0.2541\n"
     ]
    },
    {
     "name": "stderr",
     "output_type": "stream",
     "text": [
      "wandb: Network error (ReadTimeout), entering retry loop.\n"
     ]
    },
    {
     "name": "stdout",
     "output_type": "stream",
     "text": [
      "Epoch: 22, Train Loss: 1.8513354604341545, Train Accuracy: 0.25444\n",
      "Epoch: 22, Val Loss: 1.8455132246017456, Val Accuracy: 0.2568\n",
      "Epoch: 23, Train Loss: 1.8447734154000575, Train Accuracy: 0.25834\n",
      "Epoch: 23, Val Loss: 1.8379480838775635, Val Accuracy: 0.2583\n",
      "Epoch: 24, Train Loss: 1.8398212753996557, Train Accuracy: 0.25956\n",
      "Epoch: 24, Val Loss: 1.8360451459884644, Val Accuracy: 0.2613\n",
      "Epoch: 25, Train Loss: 1.8341507394703067, Train Accuracy: 0.2612\n",
      "Epoch: 25, Val Loss: 1.8334213495254517, Val Accuracy: 0.2651\n",
      "Epoch: 26, Train Loss: 1.8301489462657852, Train Accuracy: 0.2659\n",
      "Epoch: 26, Val Loss: 1.8273769617080688, Val Accuracy: 0.2674\n",
      "Epoch: 27, Train Loss: 1.8249531321379604, Train Accuracy: 0.26646\n",
      "Epoch: 27, Val Loss: 1.8214622735977173, Val Accuracy: 0.2671\n",
      "Epoch: 28, Train Loss: 1.8197677001661183, Train Accuracy: 0.27032\n",
      "Epoch: 28, Val Loss: 1.8178974390029907, Val Accuracy: 0.2719\n",
      "Epoch: 29, Train Loss: 1.8168474283753608, Train Accuracy: 0.27184\n",
      "Epoch: 29, Val Loss: 1.816970705986023, Val Accuracy: 0.2749\n",
      "Epoch: 30, Train Loss: 1.8121302967168846, Train Accuracy: 0.27352\n",
      "Epoch: 30, Val Loss: 1.808701753616333, Val Accuracy: 0.2775\n"
     ]
    },
    {
     "data": {
      "text/html": [
       "Waiting for W&B process to finish... <strong style=\"color:green\">(success).</strong>"
      ],
      "text/plain": [
       "<IPython.core.display.HTML object>"
      ]
     },
     "metadata": {},
     "output_type": "display_data"
    },
    {
     "name": "stderr",
     "output_type": "stream",
     "text": [
      "wandb: Network error (TransientError), entering retry loop.\n",
      "wandb: Network error (TransientError), entering retry loop.\n",
      "wandb: Network error (TransientError), entering retry loop.\n",
      "wandb: Network error (TransientError), entering retry loop.\n",
      "wandb: Network error (TransientError), entering retry loop.\n",
      "wandb: Network error (TransientError), entering retry loop.\n",
      "wandb: Network error (TransientError), entering retry loop.\n",
      "wandb: Network error (TransientError), entering retry loop.\n",
      "wandb: Network error (TransientError), entering retry loop.\n",
      "wandb: Network error (TransientError), entering retry loop.\n",
      "wandb: Network error (TransientError), entering retry loop.\n",
      "wandb: Network error (TransientError), entering retry loop.\n",
      "wandb: Network error (TransientError), entering retry loop.\n",
      "wandb: Network error (TransientError), entering retry loop.\n",
      "wandb: Network error (TransientError), entering retry loop.\n",
      "wandb: Network error (TransientError), entering retry loop.\n",
      "wandb: Network error (TransientError), entering retry loop.\n",
      "wandb: Network error (TransientError), entering retry loop.\n",
      "wandb: Network error (TransientError), entering retry loop.\n"
     ]
    },
    {
     "data": {
      "text/html": [
       "<style>\n",
       "    table.wandb td:nth-child(1) { padding: 0 10px; text-align: left ; width: auto;} td:nth-child(2) {text-align: left ; width: 100%}\n",
       "    .wandb-row { display: flex; flex-direction: row; flex-wrap: wrap; justify-content: flex-start; width: 100% }\n",
       "    .wandb-col { display: flex; flex-direction: column; flex-basis: 100%; flex: 1; padding: 10px; }\n",
       "    </style>\n",
       "<div class=\"wandb-row\"><div class=\"wandb-col\"><h3>Run history:</h3><br/><table class=\"wandb\"><tr><td>train/epoch</td><td>▁▁▁▂▂▂▂▂▂▃▃▃▃▃▃▄▄▄▄▄▅▅▅▅▅▆▆▆▆▆▆▇▇▇▇▇▇███</td></tr><tr><td>train/example_ct</td><td>▁▁▁▂▂▂▂▂▂▃▃▃▃▃▃▄▄▄▄▄▅▅▅▅▅▅▆▆▆▆▆▇▇▇▇▇▇███</td></tr><tr><td>train/train_acc</td><td>▁▂▃▃▂▅▅▃▂▁▅▃▃▁▅▅▃▇▇▅▂▂▇▄▄▂▆▆▄▁▁▆▃▃█▅▅▃█▇</td></tr><tr><td>train/train_loss</td><td>█▇▆▅▅▄▄▄▃▃▃▃▃▃▃▃▃▃▂▂▂▂▂▂▂▂▂▂▂▁▂▂▁▂▁▁▁▁▁▁</td></tr><tr><td>val/epoch</td><td>▁▁▁▂▂▂▂▃▃▃▃▄▄▄▄▅▅▅▅▆▆▆▆▇▇▇▇███</td></tr><tr><td>val/val_acc</td><td>▁▃▃▄▅▅▅▅▆▆▆▆▆▆▆▇▇▇▇▇▇▇▇▇██████</td></tr><tr><td>val/val_loss</td><td>█▆▆▅▄▄▄▃▃▃▃▃▃▃▂▂▂▂▂▂▂▂▁▁▁▁▁▁▁▁</td></tr></table><br/></div><div class=\"wandb-col\"><h3>Run summary:</h3><br/><table class=\"wandb\"><tr><td>train/epoch</td><td>29.50128</td></tr><tr><td>train/example_ct</td><td>750000</td></tr><tr><td>train/train_acc</td><td>0.27352</td></tr><tr><td>train/train_loss</td><td>1.78502</td></tr><tr><td>train_loss</td><td>1.81213</td></tr><tr><td>val/epoch</td><td>29.50128</td></tr><tr><td>val/val_acc</td><td>0.2775</td></tr><tr><td>val/val_loss</td><td>1.8087</td></tr></table><br/></div></div>"
      ],
      "text/plain": [
       "<IPython.core.display.HTML object>"
      ]
     },
     "metadata": {},
     "output_type": "display_data"
    },
    {
     "data": {
      "text/html": [
       " View run <strong style=\"color:#cdcd00\">ResNet18_Sigmoid_SGD</strong> at: <a href='https://wandb.ai/ayushabrol13/B20AI052_Lab_Assignment_8/runs/dva5bgpd' target=\"_blank\">https://wandb.ai/ayushabrol13/B20AI052_Lab_Assignment_8/runs/dva5bgpd</a><br/>Synced 5 W&B file(s), 1 media file(s), 129 artifact file(s) and 0 other file(s)"
      ],
      "text/plain": [
       "<IPython.core.display.HTML object>"
      ]
     },
     "metadata": {},
     "output_type": "display_data"
    },
    {
     "data": {
      "text/html": [
       "Find logs at: <code>./wandb/run-20230418_165812-dva5bgpd/logs</code>"
      ],
      "text/plain": [
       "<IPython.core.display.HTML object>"
      ]
     },
     "metadata": {},
     "output_type": "display_data"
    },
    {
     "name": "stdout",
     "output_type": "stream",
     "text": [
      "Activation: Relu, Optimizer: SGD\n"
     ]
    },
    {
     "data": {
      "application/vnd.jupyter.widget-view+json": {
       "model_id": "30cb049fb7644701a24ba09ac5931037",
       "version_major": 2,
       "version_minor": 0
      },
      "text/plain": [
       "VBox(children=(Label(value='Waiting for wandb.init()...\\r'), FloatProgress(value=0.01667240715000086, max=1.0)…"
      ]
     },
     "metadata": {},
     "output_type": "display_data"
    },
    {
     "data": {
      "text/html": [
       "Tracking run with wandb version 0.14.2"
      ],
      "text/plain": [
       "<IPython.core.display.HTML object>"
      ]
     },
     "metadata": {},
     "output_type": "display_data"
    },
    {
     "data": {
      "text/html": [
       "Run data is saved locally in <code>/home/ayushabrol/Desktop/DLOps_Lab_8/wandb/run-20230418_170643-z93vsyoe</code>"
      ],
      "text/plain": [
       "<IPython.core.display.HTML object>"
      ]
     },
     "metadata": {},
     "output_type": "display_data"
    },
    {
     "data": {
      "text/html": [
       "Syncing run <strong><a href='https://wandb.ai/ayushabrol13/B20AI052_Lab_Assignment_8/runs/z93vsyoe' target=\"_blank\">ResNet18_Relu_SGD</a></strong> to <a href='https://wandb.ai/ayushabrol13/B20AI052_Lab_Assignment_8' target=\"_blank\">Weights & Biases</a> (<a href='https://wandb.me/run' target=\"_blank\">docs</a>)<br/>"
      ],
      "text/plain": [
       "<IPython.core.display.HTML object>"
      ]
     },
     "metadata": {},
     "output_type": "display_data"
    },
    {
     "data": {
      "text/html": [
       " View project at <a href='https://wandb.ai/ayushabrol13/B20AI052_Lab_Assignment_8' target=\"_blank\">https://wandb.ai/ayushabrol13/B20AI052_Lab_Assignment_8</a>"
      ],
      "text/plain": [
       "<IPython.core.display.HTML object>"
      ]
     },
     "metadata": {},
     "output_type": "display_data"
    },
    {
     "data": {
      "text/html": [
       " View run at <a href='https://wandb.ai/ayushabrol13/B20AI052_Lab_Assignment_8/runs/z93vsyoe' target=\"_blank\">https://wandb.ai/ayushabrol13/B20AI052_Lab_Assignment_8/runs/z93vsyoe</a>"
      ],
      "text/plain": [
       "<IPython.core.display.HTML object>"
      ]
     },
     "metadata": {},
     "output_type": "display_data"
    },
    {
     "name": "stdout",
     "output_type": "stream",
     "text": [
      "Epoch: 1, Train Loss: 2.0322109965645536, Train Accuracy: 0.14122\n",
      "Epoch: 1, Val Loss: 1.693939208984375, Val Accuracy: 0.2007\n",
      "Epoch: 2, Train Loss: 1.5223103676523482, Train Accuracy: 0.2238\n",
      "Epoch: 2, Val Loss: 1.3775352239608765, Val Accuracy: 0.2469\n",
      "Epoch: 3, Train Loss: 1.3144429569341698, Train Accuracy: 0.258\n",
      "Epoch: 3, Val Loss: 1.2410674095153809, Val Accuracy: 0.2679\n",
      "Epoch: 4, Train Loss: 1.1878174990415573, Train Accuracy: 0.27766\n",
      "Epoch: 4, Val Loss: 1.1631827354431152, Val Accuracy: 0.2822\n",
      "Epoch: 5, Train Loss: 1.1063538138963738, Train Accuracy: 0.29048\n",
      "Epoch: 5, Val Loss: 1.0796678066253662, Val Accuracy: 0.2931\n",
      "Epoch: 6, Train Loss: 1.0495792113396587, Train Accuracy: 0.2985\n",
      "Epoch: 6, Val Loss: 1.036873698234558, Val Accuracy: 0.3022\n",
      "Epoch: 7, Train Loss: 1.010353436883615, Train Accuracy: 0.30596\n",
      "Epoch: 7, Val Loss: 0.9965955018997192, Val Accuracy: 0.3089\n",
      "Epoch: 8, Train Loss: 0.9666360397728122, Train Accuracy: 0.3147\n",
      "Epoch: 8, Val Loss: 0.9470425844192505, Val Accuracy: 0.3173\n",
      "Epoch: 9, Train Loss: 0.9347559390019398, Train Accuracy: 0.32158\n",
      "Epoch: 9, Val Loss: 0.9235759973526001, Val Accuracy: 0.319\n",
      "Epoch: 10, Train Loss: 0.9041267867599215, Train Accuracy: 0.32826\n",
      "Epoch: 10, Val Loss: 0.8920437693595886, Val Accuracy: 0.3277\n",
      "Epoch: 11, Train Loss: 0.8863415055128993, Train Accuracy: 0.32948\n",
      "Epoch: 11, Val Loss: 0.876175582408905, Val Accuracy: 0.3344\n",
      "Epoch: 12, Train Loss: 0.8604238638464285, Train Accuracy: 0.3333\n",
      "Epoch: 12, Val Loss: 0.8416211009025574, Val Accuracy: 0.3344\n",
      "Epoch: 13, Train Loss: 0.8400618808001888, Train Accuracy: 0.33838\n",
      "Epoch: 13, Val Loss: 0.843486487865448, Val Accuracy: 0.3382\n",
      "Epoch: 14, Train Loss: 0.8173487225965578, Train Accuracy: 0.34308\n",
      "Epoch: 14, Val Loss: 0.8333267569541931, Val Accuracy: 0.3404\n",
      "Epoch: 15, Train Loss: 0.8016596822714319, Train Accuracy: 0.3464\n",
      "Epoch: 15, Val Loss: 0.8278542757034302, Val Accuracy: 0.3492\n",
      "Epoch: 16, Train Loss: 0.7911555788346699, Train Accuracy: 0.3481\n",
      "Epoch: 16, Val Loss: 0.7956187129020691, Val Accuracy: 0.3429\n",
      "Epoch: 17, Train Loss: 0.7744852754534507, Train Accuracy: 0.35204\n",
      "Epoch: 17, Val Loss: 0.7847120761871338, Val Accuracy: 0.3478\n",
      "Epoch: 18, Train Loss: 0.7606116232215142, Train Accuracy: 0.35556\n",
      "Epoch: 18, Val Loss: 0.7806946635246277, Val Accuracy: 0.3513\n",
      "Epoch: 19, Train Loss: 0.7549959269105172, Train Accuracy: 0.35486\n",
      "Epoch: 19, Val Loss: 0.7552211880683899, Val Accuracy: 0.356\n",
      "Epoch: 20, Train Loss: 0.7425256182952803, Train Accuracy: 0.35898\n",
      "Epoch: 20, Val Loss: 0.7403703927993774, Val Accuracy: 0.3577\n",
      "Epoch: 21, Train Loss: 0.7294882879573472, Train Accuracy: 0.36092\n",
      "Epoch: 21, Val Loss: 0.7510814666748047, Val Accuracy: 0.3593\n",
      "Epoch: 22, Train Loss: 0.7186365355642474, Train Accuracy: 0.36466\n",
      "Epoch: 22, Val Loss: 0.7333347201347351, Val Accuracy: 0.3623\n",
      "Epoch: 23, Train Loss: 0.7118232435717875, Train Accuracy: 0.36446\n",
      "Epoch: 23, Val Loss: 0.7354942560195923, Val Accuracy: 0.3605\n",
      "Epoch: 24, Train Loss: 0.6979174831387948, Train Accuracy: 0.3675\n",
      "Epoch: 24, Val Loss: 0.7105686664581299, Val Accuracy: 0.3613\n",
      "Epoch: 25, Train Loss: 0.6926841974562529, Train Accuracy: 0.3697\n",
      "Epoch: 25, Val Loss: 0.6886657476425171, Val Accuracy: 0.3643\n",
      "Epoch: 26, Train Loss: 0.6825110212880738, Train Accuracy: 0.37036\n",
      "Epoch: 26, Val Loss: 0.6954253911972046, Val Accuracy: 0.3668\n",
      "Epoch: 27, Train Loss: 0.672455799670852, Train Accuracy: 0.3729\n",
      "Epoch: 27, Val Loss: 0.6870295405387878, Val Accuracy: 0.3698\n",
      "Epoch: 28, Train Loss: 0.6653403203402247, Train Accuracy: 0.37426\n",
      "Epoch: 28, Val Loss: 0.7182189226150513, Val Accuracy: 0.364\n",
      "Epoch: 29, Train Loss: 0.6622727785487564, Train Accuracy: 0.37618\n",
      "Epoch: 29, Val Loss: 0.6786593794822693, Val Accuracy: 0.3705\n",
      "Epoch: 30, Train Loss: 0.6540966661913055, Train Accuracy: 0.37632\n",
      "Epoch: 30, Val Loss: 0.6630349159240723, Val Accuracy: 0.3719\n"
     ]
    },
    {
     "data": {
      "text/html": [
       "Waiting for W&B process to finish... <strong style=\"color:green\">(success).</strong>"
      ],
      "text/plain": [
       "<IPython.core.display.HTML object>"
      ]
     },
     "metadata": {},
     "output_type": "display_data"
    },
    {
     "name": "stderr",
     "output_type": "stream",
     "text": [
      "wandb: Network error (TransientError), entering retry loop.\n",
      "wandb: Network error (TransientError), entering retry loop.\n",
      "wandb: Network error (TransientError), entering retry loop.\n",
      "wandb: Network error (TransientError), entering retry loop.\n",
      "wandb: Network error (TransientError), entering retry loop.\n",
      "wandb: Network error (TransientError), entering retry loop.\n",
      "wandb: Network error (TransientError), entering retry loop.\n",
      "wandb: Network error (TransientError), entering retry loop.\n",
      "wandb: Network error (TransientError), entering retry loop.\n",
      "wandb: Network error (TransientError), entering retry loop.\n",
      "wandb: Network error (TransientError), entering retry loop.\n",
      "wandb: Network error (TransientError), entering retry loop.\n",
      "wandb: Network error (TransientError), entering retry loop.\n",
      "wandb: Network error (TransientError), entering retry loop.\n",
      "wandb: Network error (TransientError), entering retry loop.\n",
      "wandb: Network error (TransientError), entering retry loop.\n",
      "wandb: Network error (TransientError), entering retry loop.\n",
      "wandb: Network error (TransientError), entering retry loop.\n",
      "wandb: Network error (TransientError), entering retry loop.\n",
      "wandb: Network error (TransientError), entering retry loop.\n",
      "wandb: Network error (TransientError), entering retry loop.\n",
      "wandb: Network error (TransientError), entering retry loop.\n",
      "wandb: Network error (TransientError), entering retry loop.\n",
      "wandb: Network error (TransientError), entering retry loop.\n",
      "wandb: Network error (TransientError), entering retry loop.\n",
      "wandb: Network error (TransientError), entering retry loop.\n",
      "wandb: Network error (TransientError), entering retry loop.\n"
     ]
    },
    {
     "data": {
      "text/html": [
       "<style>\n",
       "    table.wandb td:nth-child(1) { padding: 0 10px; text-align: left ; width: auto;} td:nth-child(2) {text-align: left ; width: 100%}\n",
       "    .wandb-row { display: flex; flex-direction: row; flex-wrap: wrap; justify-content: flex-start; width: 100% }\n",
       "    .wandb-col { display: flex; flex-direction: column; flex-basis: 100%; flex: 1; padding: 10px; }\n",
       "    </style>\n",
       "<div class=\"wandb-row\"><div class=\"wandb-col\"><h3>Run history:</h3><br/><table class=\"wandb\"><tr><td>train/epoch</td><td>▁▁▁▂▂▂▂▂▂▃▃▃▃▃▃▄▄▄▄▄▅▅▅▅▅▆▆▆▆▆▆▇▇▇▇▇▇███</td></tr><tr><td>train/example_ct</td><td>▁▁▁▂▂▂▂▂▂▃▃▃▃▃▃▄▄▄▄▄▅▅▅▅▅▅▆▆▆▆▆▇▇▇▇▇▇███</td></tr><tr><td>train/train_acc</td><td>▁▃▃▄▂▆▆▄▂▁▆▃▃▁▅▅▃▇▇▅▂▂▇▄▄▂▆▆▄▁▁▆▃▃█▅▅▃█▇</td></tr><tr><td>train/train_loss</td><td>█▆▅▄▄▄▃▃▃▃▂▃▂▂▃▂▂▃▂▂▃▂▂▂▂▂▂▂▂▁▂▂▂▂▂▂▂▂▂▁</td></tr><tr><td>val/epoch</td><td>▁▁▁▂▂▂▂▃▃▃▃▄▄▄▄▅▅▅▅▆▆▆▆▇▇▇▇███</td></tr><tr><td>val/val_acc</td><td>▁▃▄▄▅▅▅▆▆▆▆▆▇▇▇▇▇▇▇▇▇█████████</td></tr><tr><td>val/val_loss</td><td>█▆▅▄▄▄▃▃▃▃▂▂▂▂▂▂▂▂▂▂▂▁▁▁▁▁▁▁▁▁</td></tr></table><br/></div><div class=\"wandb-col\"><h3>Run summary:</h3><br/><table class=\"wandb\"><tr><td>train/epoch</td><td>29.50128</td></tr><tr><td>train/example_ct</td><td>750000</td></tr><tr><td>train/train_acc</td><td>0.37632</td></tr><tr><td>train/train_loss</td><td>0.55969</td></tr><tr><td>train_loss</td><td>0.6541</td></tr><tr><td>val/epoch</td><td>29.50128</td></tr><tr><td>val/val_acc</td><td>0.3719</td></tr><tr><td>val/val_loss</td><td>0.66303</td></tr></table><br/></div></div>"
      ],
      "text/plain": [
       "<IPython.core.display.HTML object>"
      ]
     },
     "metadata": {},
     "output_type": "display_data"
    },
    {
     "data": {
      "text/html": [
       " View run <strong style=\"color:#cdcd00\">ResNet18_Relu_SGD</strong> at: <a href='https://wandb.ai/ayushabrol13/B20AI052_Lab_Assignment_8/runs/z93vsyoe' target=\"_blank\">https://wandb.ai/ayushabrol13/B20AI052_Lab_Assignment_8/runs/z93vsyoe</a><br/>Synced 5 W&B file(s), 1 media file(s), 129 artifact file(s) and 0 other file(s)"
      ],
      "text/plain": [
       "<IPython.core.display.HTML object>"
      ]
     },
     "metadata": {},
     "output_type": "display_data"
    },
    {
     "data": {
      "text/html": [
       "Find logs at: <code>./wandb/run-20230418_170643-z93vsyoe/logs</code>"
      ],
      "text/plain": [
       "<IPython.core.display.HTML object>"
      ]
     },
     "metadata": {},
     "output_type": "display_data"
    },
    {
     "name": "stdout",
     "output_type": "stream",
     "text": [
      "Activation: Sigmoid, Optimizer: Adam\n"
     ]
    },
    {
     "data": {
      "application/vnd.jupyter.widget-view+json": {
       "model_id": "d0755123c9b348e2a8eb113e17c9ff5a",
       "version_major": 2,
       "version_minor": 0
      },
      "text/plain": [
       "VBox(children=(Label(value='Waiting for wandb.init()...\\r'), FloatProgress(value=0.016668931300000623, max=1.0…"
      ]
     },
     "metadata": {},
     "output_type": "display_data"
    },
    {
     "data": {
      "text/html": [
       "Tracking run with wandb version 0.14.2"
      ],
      "text/plain": [
       "<IPython.core.display.HTML object>"
      ]
     },
     "metadata": {},
     "output_type": "display_data"
    },
    {
     "data": {
      "text/html": [
       "Run data is saved locally in <code>/home/ayushabrol/Desktop/DLOps_Lab_8/wandb/run-20230418_171524-l8b1158r</code>"
      ],
      "text/plain": [
       "<IPython.core.display.HTML object>"
      ]
     },
     "metadata": {},
     "output_type": "display_data"
    },
    {
     "data": {
      "text/html": [
       "Syncing run <strong><a href='https://wandb.ai/ayushabrol13/B20AI052_Lab_Assignment_8/runs/l8b1158r' target=\"_blank\">ResNet18_Sigmoid_Adam</a></strong> to <a href='https://wandb.ai/ayushabrol13/B20AI052_Lab_Assignment_8' target=\"_blank\">Weights & Biases</a> (<a href='https://wandb.me/run' target=\"_blank\">docs</a>)<br/>"
      ],
      "text/plain": [
       "<IPython.core.display.HTML object>"
      ]
     },
     "metadata": {},
     "output_type": "display_data"
    },
    {
     "data": {
      "text/html": [
       " View project at <a href='https://wandb.ai/ayushabrol13/B20AI052_Lab_Assignment_8' target=\"_blank\">https://wandb.ai/ayushabrol13/B20AI052_Lab_Assignment_8</a>"
      ],
      "text/plain": [
       "<IPython.core.display.HTML object>"
      ]
     },
     "metadata": {},
     "output_type": "display_data"
    },
    {
     "data": {
      "text/html": [
       " View run at <a href='https://wandb.ai/ayushabrol13/B20AI052_Lab_Assignment_8/runs/l8b1158r' target=\"_blank\">https://wandb.ai/ayushabrol13/B20AI052_Lab_Assignment_8/runs/l8b1158r</a>"
      ],
      "text/plain": [
       "<IPython.core.display.HTML object>"
      ]
     },
     "metadata": {},
     "output_type": "display_data"
    },
    {
     "name": "stdout",
     "output_type": "stream",
     "text": [
      "Epoch: 1, Train Loss: 1.6725033868332297, Train Accuracy: 0.3586\n",
      "Epoch: 1, Val Loss: 1.6193197965621948, Val Accuracy: 0.3874\n",
      "Epoch: 2, Train Loss: 1.589922431172157, Train Accuracy: 0.40564\n",
      "Epoch: 2, Val Loss: 1.5945470333099365, Val Accuracy: 0.403\n",
      "Epoch: 3, Train Loss: 1.573796925496082, Train Accuracy: 0.41534\n",
      "Epoch: 3, Val Loss: 1.5839979648590088, Val Accuracy: 0.4092\n",
      "Epoch: 4, Train Loss: 1.565506776984857, Train Accuracy: 0.4227\n",
      "Epoch: 4, Val Loss: 1.5639013051986694, Val Accuracy: 0.4223\n",
      "Epoch: 5, Train Loss: 1.5626475476488775, Train Accuracy: 0.42294\n",
      "Epoch: 5, Val Loss: 1.567138671875, Val Accuracy: 0.4192\n",
      "Epoch: 6, Train Loss: 1.5568611901633593, Train Accuracy: 0.42924\n",
      "Epoch: 6, Val Loss: 1.5613850355148315, Val Accuracy: 0.4237\n",
      "Epoch: 7, Train Loss: 1.5526475346818263, Train Accuracy: 0.43272\n",
      "Epoch: 7, Val Loss: 1.5727458000183105, Val Accuracy: 0.4208\n",
      "Epoch: 8, Train Loss: 1.5484499529916413, Train Accuracy: 0.43498\n",
      "Epoch: 8, Val Loss: 1.561082363128662, Val Accuracy: 0.427\n",
      "Epoch: 9, Train Loss: 1.5468670519030825, Train Accuracy: 0.43602\n",
      "Epoch: 9, Val Loss: 1.5525298118591309, Val Accuracy: 0.4326\n",
      "Epoch: 10, Train Loss: 1.5444661956660601, Train Accuracy: 0.43672\n",
      "Epoch: 10, Val Loss: 1.5553332567214966, Val Accuracy: 0.4312\n",
      "Epoch: 11, Train Loss: 1.545638375136317, Train Accuracy: 0.4366\n",
      "Epoch: 11, Val Loss: 1.5537842512130737, Val Accuracy: 0.4261\n",
      "Epoch: 12, Train Loss: 1.540599759744138, Train Accuracy: 0.44036\n",
      "Epoch: 12, Val Loss: 1.549453616142273, Val Accuracy: 0.4338\n",
      "Epoch: 13, Train Loss: 1.5385694047626184, Train Accuracy: 0.44306\n",
      "Epoch: 13, Val Loss: 1.5486810207366943, Val Accuracy: 0.4325\n",
      "Epoch: 14, Train Loss: 1.5361365104208187, Train Accuracy: 0.44358\n",
      "Epoch: 14, Val Loss: 1.545793890953064, Val Accuracy: 0.4362\n",
      "Epoch: 15, Train Loss: 1.5357848290277987, Train Accuracy: 0.4432\n",
      "Epoch: 15, Val Loss: 1.545941948890686, Val Accuracy: 0.4368\n",
      "Epoch: 16, Train Loss: 1.5336924517641262, Train Accuracy: 0.4456\n",
      "Epoch: 16, Val Loss: 1.5513206720352173, Val Accuracy: 0.4358\n",
      "Epoch: 17, Train Loss: 1.5330767284850686, Train Accuracy: 0.44644\n",
      "Epoch: 17, Val Loss: 1.546811819076538, Val Accuracy: 0.4363\n",
      "Epoch: 18, Train Loss: 1.5321478843688965, Train Accuracy: 0.44588\n",
      "Epoch: 18, Val Loss: 1.542970061302185, Val Accuracy: 0.4406\n",
      "Epoch: 19, Train Loss: 1.5316213059182069, Train Accuracy: 0.44706\n",
      "Epoch: 19, Val Loss: 1.551324486732483, Val Accuracy: 0.4371\n",
      "Epoch: 20, Train Loss: 1.5310830473899841, Train Accuracy: 0.44738\n",
      "Epoch: 20, Val Loss: 1.5407224893569946, Val Accuracy: 0.4387\n",
      "Epoch: 21, Train Loss: 1.530449248698293, Train Accuracy: 0.44812\n",
      "Epoch: 21, Val Loss: 1.552518367767334, Val Accuracy: 0.4294\n",
      "Epoch: 22, Train Loss: 1.5261838874038385, Train Accuracy: 0.44966\n",
      "Epoch: 22, Val Loss: 1.546096682548523, Val Accuracy: 0.4373\n",
      "Epoch: 23, Train Loss: 1.5305154828392729, Train Accuracy: 0.44772\n",
      "Epoch: 23, Val Loss: 1.5408629179000854, Val Accuracy: 0.4408\n",
      "Epoch: 24, Train Loss: 1.5244083185585178, Train Accuracy: 0.45134\n",
      "Epoch: 24, Val Loss: 1.5399190187454224, Val Accuracy: 0.438\n",
      "Epoch: 25, Train Loss: 1.525113537603495, Train Accuracy: 0.45156\n",
      "Epoch: 25, Val Loss: 1.5413883924484253, Val Accuracy: 0.4449\n",
      "Epoch: 26, Train Loss: 1.5246072892023592, Train Accuracy: 0.45104\n",
      "Epoch: 26, Val Loss: 1.5464837551116943, Val Accuracy: 0.4387\n",
      "Epoch: 27, Train Loss: 1.5234519985257362, Train Accuracy: 0.45426\n",
      "Epoch: 27, Val Loss: 1.5454425811767578, Val Accuracy: 0.4381\n",
      "Epoch: 28, Train Loss: 1.5248825677803584, Train Accuracy: 0.45182\n",
      "Epoch: 28, Val Loss: 1.5363024473190308, Val Accuracy: 0.4462\n",
      "Epoch: 29, Train Loss: 1.520254052415186, Train Accuracy: 0.45456\n",
      "Epoch: 29, Val Loss: 1.539007544517517, Val Accuracy: 0.4469\n",
      "Epoch: 30, Train Loss: 1.5205350694607715, Train Accuracy: 0.45424\n",
      "Epoch: 30, Val Loss: 1.540070652961731, Val Accuracy: 0.4411\n"
     ]
    },
    {
     "data": {
      "text/html": [
       "Waiting for W&B process to finish... <strong style=\"color:green\">(success).</strong>"
      ],
      "text/plain": [
       "<IPython.core.display.HTML object>"
      ]
     },
     "metadata": {},
     "output_type": "display_data"
    },
    {
     "data": {
      "text/html": [
       "<style>\n",
       "    table.wandb td:nth-child(1) { padding: 0 10px; text-align: left ; width: auto;} td:nth-child(2) {text-align: left ; width: 100%}\n",
       "    .wandb-row { display: flex; flex-direction: row; flex-wrap: wrap; justify-content: flex-start; width: 100% }\n",
       "    .wandb-col { display: flex; flex-direction: column; flex-basis: 100%; flex: 1; padding: 10px; }\n",
       "    </style>\n",
       "<div class=\"wandb-row\"><div class=\"wandb-col\"><h3>Run history:</h3><br/><table class=\"wandb\"><tr><td>train/epoch</td><td>▁▁▁▂▂▂▂▂▂▃▃▃▃▃▃▄▄▄▄▄▅▅▅▅▅▆▆▆▆▆▆▇▇▇▇▇▇███</td></tr><tr><td>train/example_ct</td><td>▁▁▁▂▂▂▂▂▂▃▃▃▃▃▃▄▄▄▄▄▅▅▅▅▅▅▆▆▆▆▆▇▇▇▇▇▇███</td></tr><tr><td>train/train_acc</td><td>▂▆▅▅▂▇▇▄▂▂▆▄▄▁▆▆▃██▅▃▂▇▅▄▂▇▆▄▁▁▆▃▃█▅▅▃▇▇</td></tr><tr><td>train/train_loss</td><td>█▅▅▃▅▄▃▅▄▄▄▂▃▃▃▃▂▄▂▃▄▂▂▂▃▃▂▂▁▃▂▁▂▂▂▂▂▂▃▃</td></tr><tr><td>val/epoch</td><td>▁▁▁▂▂▂▂▃▃▃▃▄▄▄▄▅▅▅▅▆▆▆▆▇▇▇▇███</td></tr><tr><td>val/val_acc</td><td>▁▃▄▅▅▅▅▆▆▆▆▆▆▇▇▇▇▇▇▇▆▇▇▇█▇▇██▇</td></tr><tr><td>val/val_loss</td><td>█▆▅▃▄▃▄▃▂▃▂▂▂▂▂▂▂▂▂▁▂▂▁▁▁▂▂▁▁▁</td></tr></table><br/></div><div class=\"wandb-col\"><h3>Run summary:</h3><br/><table class=\"wandb\"><tr><td>train/epoch</td><td>29.50128</td></tr><tr><td>train/example_ct</td><td>750000</td></tr><tr><td>train/train_acc</td><td>0.45424</td></tr><tr><td>train/train_loss</td><td>1.51952</td></tr><tr><td>train_loss</td><td>1.52054</td></tr><tr><td>val/epoch</td><td>29.50128</td></tr><tr><td>val/val_acc</td><td>0.4411</td></tr><tr><td>val/val_loss</td><td>1.54007</td></tr></table><br/></div></div>"
      ],
      "text/plain": [
       "<IPython.core.display.HTML object>"
      ]
     },
     "metadata": {},
     "output_type": "display_data"
    },
    {
     "data": {
      "text/html": [
       " View run <strong style=\"color:#cdcd00\">ResNet18_Sigmoid_Adam</strong> at: <a href='https://wandb.ai/ayushabrol13/B20AI052_Lab_Assignment_8/runs/l8b1158r' target=\"_blank\">https://wandb.ai/ayushabrol13/B20AI052_Lab_Assignment_8/runs/l8b1158r</a><br/>Synced 5 W&B file(s), 1 media file(s), 129 artifact file(s) and 0 other file(s)"
      ],
      "text/plain": [
       "<IPython.core.display.HTML object>"
      ]
     },
     "metadata": {},
     "output_type": "display_data"
    },
    {
     "data": {
      "text/html": [
       "Find logs at: <code>./wandb/run-20230418_171524-l8b1158r/logs</code>"
      ],
      "text/plain": [
       "<IPython.core.display.HTML object>"
      ]
     },
     "metadata": {},
     "output_type": "display_data"
    }
   ],
   "source": [
    "for _ in range(6):\n",
    "    activation_function = random.choice(hyperparams[\"activation\"])\n",
    "    optimizer_ = random.choice(hyperparams[\"optimizer\"])\n",
    "    print(f\"Activation: {activation_function}, Optimizer: {optimizer_}\")\n",
    "    wandb.init(\n",
    "        project=\"B20AI052_Lab_Assignment_8\",\n",
    "        config={\n",
    "            \"num_epochs\": hyperparams[\"num_epochs\"],\n",
    "            \"batch_size\": hyperparams[\"batch_size\"],\n",
    "            \"learning_rate\": hyperparams[\"learning_rate\"],\n",
    "            \"activation\": activation_function,\n",
    "            \"optimizer\": optimizer_,\n",
    "        },\n",
    "        name=f\"ResNet18_{activation_function}_{optimizer_}\",\n",
    "    )\n",
    "\n",
    "    config = wandb.config\n",
    "\n",
    "    n_steps_per_epoch = math.ceil(len(train_loader.dataset) / config.batch_size)\n",
    "\n",
    "    model = ResNet18(config.activation).to(device)\n",
    "    \n",
    "    criterion = nn.CrossEntropyLoss()\n",
    "\n",
    "    if config.optimizer == \"Adam\":\n",
    "        optimizer = optim.Adam(model.parameters(), lr=config.learning_rate)\n",
    "    elif config.optimizer == \"SGD\":\n",
    "        optimizer = optim.SGD(model.parameters(), lr=config.learning_rate)\n",
    "    elif config.optimizer == \"RMSprop\":\n",
    "        optimizer = optim.RMSprop(model.parameters(), lr=config.learning_rate)\n",
    "    elif config.optimizer == \"Adagrad\":\n",
    "        optimizer = optim.Adagrad(model.parameters(), lr=config.learning_rate)\n",
    "\n",
    "    train_loss = []\n",
    "    train_acc = []\n",
    "    test_loss = []\n",
    "    test_acc = []\n",
    "\n",
    "    example_ct = 0\n",
    "    step_ct = 0\n",
    "    for epoch in range(config.num_epochs):\n",
    "        model.train()\n",
    "        running_loss = 0.0\n",
    "        correct = 0\n",
    "        for i, (data, target) in enumerate(train_loader):\n",
    "            data, target = data.to(device), target.to(device)\n",
    "            optimizer.zero_grad()\n",
    "            output = model(data)\n",
    "            loss = criterion(output, target)\n",
    "            loss.backward()\n",
    "            optimizer.step()\n",
    "            running_loss += loss.item()\n",
    "            _, predicted = torch.max(output.data, 1)\n",
    "            correct += (predicted == target).sum().item()\n",
    "            example_ct += len(data)\n",
    "            metrics = {\n",
    "                \"train/train_loss\": loss.item(),\n",
    "                \"train/train_acc\": correct / len(train_loader.dataset),\n",
    "                \"train/epoch\": (i+1+(n_steps_per_epoch*epoch)) / (n_steps_per_epoch),\n",
    "               \"train/example_ct\": example_ct,\n",
    "            }\n",
    "            if i+1 < n_steps_per_epoch:\n",
    "                wandb.log(metrics)\n",
    "            \n",
    "            step_ct += 1\n",
    "        train_loss.append(running_loss / len(train_loader))\n",
    "        train_acc.append(correct / len(train_loader.dataset))\n",
    "        print(\"Epoch: {}, Train Loss: {}, Train Accuracy: {}\".format(epoch+1, train_loss[-1], train_acc[-1]))\n",
    "\n",
    "        val_loss, val_acc = evaluate(model, test_loader, criterion, test_loss, test_acc, log_images=(epoch == (config.num_epochs - 1)))\n",
    "        val_metrics = {\n",
    "            \"val/val_loss\": val_loss,\n",
    "            \"val/val_acc\": val_acc,\n",
    "            \"val/epoch\": (i+1+(n_steps_per_epoch*epoch)) / (n_steps_per_epoch),\n",
    "        }\n",
    "        wandb.log({**metrics, **val_metrics})\n",
    "        print(\"Epoch: {}, Val Loss: {}, Val Accuracy: {}\".format(epoch+1, val_loss, val_acc))\n",
    "\n",
    "    wandb.summary[\"train_loss\"] = train_loss[-1]\n",
    "    wandb.finish()"
   ]
  }
 ],
 "metadata": {
  "kernelspec": {
   "display_name": "Python 3",
   "language": "python",
   "name": "python3"
  },
  "language_info": {
   "codemirror_mode": {
    "name": "ipython",
    "version": 3
   },
   "file_extension": ".py",
   "mimetype": "text/x-python",
   "name": "python",
   "nbconvert_exporter": "python",
   "pygments_lexer": "ipython3",
   "version": "3.10.6"
  },
  "orig_nbformat": 4
 },
 "nbformat": 4,
 "nbformat_minor": 2
}
